{
 "cells": [
  {
   "cell_type": "markdown",
   "metadata": {},
   "source": [
    "# CE597 - Mapping Projection and Geometric Geodesy"
   ]
  },
  {
   "cell_type": "markdown",
   "metadata": {},
   "source": [
    "## Lab 02 - Cartesian to Spherical: Full vs. Differential"
   ]
  },
  {
   "cell_type": "markdown",
   "metadata": {},
   "source": [
    "*Kevan Tissue*  \n",
    "*Geomatics Engineering*  \n",
    "*Lyles School of Civil Engineering*  \n",
    "*Purdue University*"
   ]
  },
  {
   "cell_type": "markdown",
   "metadata": {},
   "source": [
    "_____"
   ]
  },
  {
   "cell_type": "markdown",
   "metadata": {},
   "source": [
    "### Abstract"
   ]
  },
  {
   "cell_type": "markdown",
   "metadata": {},
   "source": [
    "The objective of Lab 02 is to transform cartesian coordinates to spherical coordinates for the 11 locations that we were working with in Lab 01 and then plot the points on a simple map. We will need to calculate the transformation twice, using two different approaches. The first method is just like the method we used in Lab 01, except this time we will be transforming from cartesian to spherical coordinates instead of sperical to cartesian coordinates. This method is considered a \"full\" transformation. The second method is considered a \"differential\" transformation. This method utilizes a Jacobian matrix, which, for a given vector, is the matrix of all of its first-order partial derivatives. Within this transformation, we will be incorporating an addition of 1.5 arcseconds to both $\\lambda$ and $\\psi$, as well as 50 meters to the height. We will then compare the results with those calculated in Lab 01. Next, we will repeat this process, except this time we will be incorporating an addition of 1 degree to both lambda and psi, as well as 50 meters to the height. Again, we will then compare and evaluate our results."
   ]
  },
  {
   "cell_type": "markdown",
   "metadata": {},
   "source": [
    "## <span style=\"color:blue\">*PART 1*<span>"
   ]
  },
  {
   "cell_type": "markdown",
   "metadata": {},
   "source": [
    "For part 1 of this assignment, the objective is to export the calculated cartesian coordinates for the 11 locations from Lab 01 and import those coordinates to Lab 02 using pickle files. We need to display these point in millimeter accuracy. "
   ]
  },
  {
   "cell_type": "markdown",
   "metadata": {},
   "source": [
    "**Importing the necessary packages**"
   ]
  },
  {
   "cell_type": "code",
   "execution_count": 1,
   "metadata": {},
   "outputs": [],
   "source": [
    "import math\n",
    "import numpy as np\n",
    "import pandas as pd\n",
    "import matplotlib.pyplot as plt\n",
    "\n",
    "# Plot figures inside the notebook\n",
    "%matplotlib inline"
   ]
  },
  {
   "cell_type": "markdown",
   "metadata": {},
   "source": [
    "**Formula for conversing to radians**"
   ]
  },
  {
   "cell_type": "code",
   "execution_count": 2,
   "metadata": {},
   "outputs": [],
   "source": [
    "rad = math.pi/180"
   ]
  },
  {
   "cell_type": "markdown",
   "metadata": {},
   "source": [
    "**Earth's Radius in meters**  \n",
    "*(Assuming that the Earth is sphere and the radius of the Earth is 6371 km)*"
   ]
  },
  {
   "cell_type": "code",
   "execution_count": 3,
   "metadata": {},
   "outputs": [],
   "source": [
    "R = 6371000 # meters"
   ]
  },
  {
   "cell_type": "markdown",
   "metadata": {},
   "source": [
    "## 1.1: Earth-fixed Geocentric Cartesian Coordinates"
   ]
  },
  {
   "cell_type": "markdown",
   "metadata": {},
   "source": [
    "**Reading in the *pickle* file**"
   ]
  },
  {
   "cell_type": "code",
   "execution_count": 4,
   "metadata": {},
   "outputs": [],
   "source": [
    "xyz = pd.read_pickle(\"./cartesian.pkl\")"
   ]
  },
  {
   "cell_type": "markdown",
   "metadata": {},
   "source": [
    "**Printing the Earth-fixed Geocentric Cartesian Coordinates**"
   ]
  },
  {
   "cell_type": "code",
   "execution_count": 5,
   "metadata": {},
   "outputs": [
    {
     "name": "stdout",
     "output_type": "stream",
     "text": [
      "Earth-fixed Geocentric Cartesian Coordinates\n",
      "--------------------------------------------------------------------------\n",
      "                 Name              X(m)             Y(m)            Z(m)\n",
      "--------------------------------------------------------------------------\n",
      "          North Pole (NP)           0.000           0.000     6366738.896\n",
      "          South Pole (NP)           0.000           0.000    -6373834.945\n",
      "        New Orleans (PoB)        4481.657    -5515023.160     3189692.848\n",
      "         Eiffel Tower (1)     4188298.206      167816.761     4797924.086\n",
      "           Angkor Wat (2)    -1485276.721     6016678.744     1477835.647\n",
      "               Denali (3)    -2526335.374    -1399943.968     5685625.490\n",
      "      Purdue Fountain (4)      261108.755    -4842806.547     4131719.689\n",
      "  Cradle of Humankind (5)     5071215.074     2670059.803    -2786051.054\n",
      "   Sydney Opera House (6)    -4636796.725     2547607.409    -3549578.019\n",
      "             Rapa Nui (7)    -1695590.730    -4895283.153    -3709080.059\n",
      "       Mount Fitz Roy (8)     1213020.094    -3978341.761    -4830571.103\n",
      "--------------------------------------------------------------------------\n"
     ]
    }
   ],
   "source": [
    "print('Earth-fixed Geocentric Cartesian Coordinates')\n",
    "print(\"--------------------------------------------------------------------------\")\n",
    "print(\"                 Name              X(m)             Y(m)            Z(m)\")\n",
    "print(\"--------------------------------------------------------------------------\")\n",
    "for index, row in xyz.iterrows():\n",
    "    print(\"%25s %15.3f %15.3f %15.3f\" % (row['Name'], row['$X$(m)'], row['$Y$(m)'], row['$Z$(m)']))\n",
    "print(\"--------------------------------------------------------------------------\")"
   ]
  },
  {
   "cell_type": "markdown",
   "metadata": {},
   "source": [
    "____"
   ]
  },
  {
   "cell_type": "markdown",
   "metadata": {},
   "source": [
    "## <span style=\"color:blue\">*PART 2*<span>"
   ]
  },
  {
   "cell_type": "markdown",
   "metadata": {},
   "source": [
    "We now need to compute the spherical coordinates from the earth-fixed cartesian coordinates and display them in DMS format."
   ]
  },
  {
   "cell_type": "markdown",
   "metadata": {},
   "source": [
    "## 2.1: Coordinate Conversion (Cartestian $\\rightarrow$ Spherical)"
   ]
  },
  {
   "cell_type": "code",
   "execution_count": 6,
   "metadata": {},
   "outputs": [],
   "source": [
    "lam = np.zeros(11, dtype = np.float64)\n",
    "psi = np.zeros(11, dtype = np.float64)\n",
    "h = np.zeros(11, dtype = np.float64)"
   ]
  },
  {
   "cell_type": "markdown",
   "metadata": {},
   "source": [
    "**Function for transforming the Cartesian coordinates to Spherical coordinates**"
   ]
  },
  {
   "cell_type": "code",
   "execution_count": 7,
   "metadata": {},
   "outputs": [],
   "source": [
    "def xyz2sph(x,y,z):\n",
    "    lam = np.arctan2(y, x) * 180/math.pi\n",
    "    psi = np.arctan2(z, math.sqrt(x**2 + y**2)) * 180/math.pi\n",
    "    h = math.sqrt(x**2 + y**2 + z**2) - R\n",
    "    \n",
    "    return lam,psi,h"
   ]
  },
  {
   "cell_type": "markdown",
   "metadata": {},
   "source": [
    "**Applying the transformation**"
   ]
  },
  {
   "cell_type": "code",
   "execution_count": 8,
   "metadata": {},
   "outputs": [],
   "source": [
    "for index, row in xyz.iterrows():\n",
    "    \n",
    "    lam[index], psi[index], h[index] = xyz2sph(row['$X$(m)'], row['$Y$(m)'], row['$Z$(m)'])"
   ]
  },
  {
   "cell_type": "markdown",
   "metadata": {},
   "source": [
    "**Names for each location to be used in data frames**"
   ]
  },
  {
   "cell_type": "code",
   "execution_count": 9,
   "metadata": {},
   "outputs": [],
   "source": [
    "names = [\"North Pole (NP)\", \"South Pole (NP)\", \"New Orleans (PoB)\", \"Eiffel Tower (1)\", \"Angkor Wat (2)\", \"Denali (3)\", \"Purdue Fountain (4)\", \"Cradle of Humankind (5)\", \"Sydney Opera House (6)\", \"Rapa Nui (7)\", \"Mount Fitz Roy (8)\"]"
   ]
  },
  {
   "cell_type": "markdown",
   "metadata": {},
   "source": [
    "## 2.2: Spherical Coordinates (Decimal Degrees)"
   ]
  },
  {
   "cell_type": "markdown",
   "metadata": {},
   "source": [
    "**Creating the Pandas DataFrame**"
   ]
  },
  {
   "cell_type": "code",
   "execution_count": 10,
   "metadata": {},
   "outputs": [],
   "source": [
    "sph_dd = pd.DataFrame({\n",
    "    'Name': names,\n",
    "    '$\\lambda$°': lam,\n",
    "    '$\\psi$°': psi,\n",
    "    '$h$ (m)': h,\n",
    "})"
   ]
  },
  {
   "cell_type": "markdown",
   "metadata": {},
   "source": [
    "**Printing the Spherical Coordinates in Decimal Degrees**"
   ]
  },
  {
   "cell_type": "code",
   "execution_count": 11,
   "metadata": {},
   "outputs": [
    {
     "name": "stdout",
     "output_type": "stream",
     "text": [
      "Spherical Coordinates in Decimal Degrees\n",
      "--------------------------------------------------------------------\n",
      "               Name                λ°            ψ°            h(m)\n",
      "--------------------------------------------------------------------\n",
      "        North Pole (NP)      0.0000000     90.0000000    -4261.104\n",
      "        South Pole (NP)      0.0000000    -90.0000000     2834.945\n",
      "      New Orleans (PoB)    -89.9534399     30.0435501        0.000\n",
      "       Eiffel Tower (1)      2.2945003     48.8582342       34.442\n",
      "         Angkor Wat (2)    103.8667876     13.4125243       64.922\n",
      "             Denali (3)   -151.0074015     63.0695003     6189.878\n",
      "    Purdue Fountain (4)    -86.9137817     40.4286395      189.890\n",
      "Cradle of Humankind (5)     27.7673806    -25.9253870     1481.633\n",
      " Sydney Opera House (6)    151.2141704    -33.8586388        3.962\n",
      "           Rapa Nui (7)   -109.1046710    -35.6008798      506.882\n",
      "     Mount Fitz Roy (8)    -73.0432240    -49.2712809     3404.921\n",
      "--------------------------------------------------------------------\n"
     ]
    }
   ],
   "source": [
    "print(\"Spherical Coordinates in Decimal Degrees\")\n",
    "print(\"--------------------------------------------------------------------\")\n",
    "print(\"               Name                \\u03BB°            \\u03C8°            h(m)\")\n",
    "print(\"--------------------------------------------------------------------\")\n",
    "for index, row in sph_dd.iterrows():\n",
    "    print(\"%23s %14.7f %14.7f %12.3f\" % (row['Name'], row['$\\lambda$°'], row['$\\psi$°'], row['$h$ (m)']))\n",
    "print(\"--------------------------------------------------------------------\")"
   ]
  },
  {
   "cell_type": "code",
   "execution_count": 12,
   "metadata": {},
   "outputs": [],
   "source": [
    "lam_dd = np.zeros(11, dtype = np.int)\n",
    "lam_mm = np.zeros(11, dtype = np.int)\n",
    "lam_ss = np.zeros(11, dtype = np.float64)\n",
    "psi_dd = np.zeros(11, dtype = np.int)\n",
    "psi_mm = np.zeros(11, dtype = np.int)\n",
    "psi_ss = np.zeros(11, dtype = np.float64)"
   ]
  },
  {
   "cell_type": "markdown",
   "metadata": {},
   "source": [
    "**Function for converting from Decimal Degrees to DMS format**"
   ]
  },
  {
   "cell_type": "code",
   "execution_count": 13,
   "metadata": {},
   "outputs": [],
   "source": [
    "def dd2dms(dec_deg):\n",
    "    dd = int(dec_deg)\n",
    "    mmfloat = (dec_deg - dd) * 60\n",
    "    mm = int(mmfloat)\n",
    "    ss = (mmfloat - mm) * 60\n",
    "    \n",
    "    return dd, mm, ss"
   ]
  },
  {
   "cell_type": "code",
   "execution_count": 14,
   "metadata": {},
   "outputs": [],
   "source": [
    "for index, row in sph_dd.iterrows():\n",
    "    \n",
    "    lam_dd[index], lam_mm[index], lam_ss[index] = dd2dms(row['$\\lambda$°'])\n",
    "    psi_dd[index], psi_mm[index], psi_ss[index] = dd2dms(row['$\\psi$°'])"
   ]
  },
  {
   "cell_type": "markdown",
   "metadata": {},
   "source": [
    "## 2.3: Spherical Coordinates (DMS)"
   ]
  },
  {
   "cell_type": "markdown",
   "metadata": {},
   "source": [
    "**Creating the Pandas DataFrame**"
   ]
  },
  {
   "cell_type": "code",
   "execution_count": 15,
   "metadata": {},
   "outputs": [],
   "source": [
    "sph_dms = pd.DataFrame({\n",
    "    'Name': names,\n",
    "    '$\\lambda$dd': lam_dd,\n",
    "    '$\\lambda$mm': lam_mm,\n",
    "    '$\\lambda$ss.sssss': lam_ss,\n",
    "    '$\\psi$dd': psi_dd,\n",
    "    '$\\psi$mm': psi_mm,\n",
    "    '$\\psi$ss.sssss': psi_ss,\n",
    "    '$h$ (m)': h,\n",
    "})"
   ]
  },
  {
   "cell_type": "markdown",
   "metadata": {},
   "source": [
    "**Printing the Spherical Coordinates in DMS**"
   ]
  },
  {
   "cell_type": "code",
   "execution_count": 16,
   "metadata": {},
   "outputs": [
    {
     "name": "stdout",
     "output_type": "stream",
     "text": [
      "Spherical Coordinates in DMS\n",
      "----------------------------------------------------------------------------------------\n",
      "                  Name     λ(deg) λ(min)   λ(sec)   ψ(deg) ψ(min)   ψ(sec)       h(m)\n",
      "----------------------------------------------------------------------------------------\n",
      "          North Pole (NP)     0     0     0.00000      90     0     0.00000   -4261.104\n",
      "          South Pole (NP)     0     0     0.00000     -90     0     0.00000    2834.945\n",
      "        New Orleans (PoB)   -89   -57   -12.38369      30     2    36.78024       0.000\n",
      "         Eiffel Tower (1)     2    17    40.20111      48    51    29.64298      34.442\n",
      "           Angkor Wat (2)   103    52     0.43521      13    24    45.08764      64.922\n",
      "               Denali (3)  -151     0   -26.64532      63     4    10.20103    6189.878\n",
      "      Purdue Fountain (4)   -86   -54   -49.61418      40    25    43.10224     189.890\n",
      "  Cradle of Humankind (5)    27    46     2.57003     -25   -55   -31.39308    1481.633\n",
      "   Sydney Opera House (6)   151    12    51.01352     -33   -51   -31.09981       3.962\n",
      "             Rapa Nui (7)  -109    -6   -16.81564     -35   -36    -3.16718     506.882\n",
      "       Mount Fitz Roy (8)   -73    -2   -35.60651     -49   -16   -16.61136    3404.921\n",
      "----------------------------------------------------------------------------------------\n"
     ]
    }
   ],
   "source": [
    "print(\"Spherical Coordinates in DMS\")\n",
    "print(\"----------------------------------------------------------------------------------------\")\n",
    "print(\"                  Name     \\u03BB(deg) \\u03BB(min)   \\u03BB(sec)   \\u03C8(deg) \\u03C8(min)   \\u03C8(sec)       h(m)\")\n",
    "print(\"----------------------------------------------------------------------------------------\")\n",
    "for index, row in sph_dms.iterrows():\n",
    "    print(\"%25s %5d %5d %11.5f %7d %5d %11.5f %11.3f\" % (row['Name'], row['$\\lambda$dd'], \n",
    "                                                     row['$\\lambda$mm'], row['$\\lambda$ss.sssss'],\n",
    "                                                     row['$\\psi$dd'], row['$\\psi$mm'], \n",
    "                                                     row['$\\psi$ss.sssss'], row['$h$ (m)']))\n",
    "print(\"----------------------------------------------------------------------------------------\")"
   ]
  },
  {
   "cell_type": "markdown",
   "metadata": {},
   "source": [
    "____"
   ]
  },
  {
   "cell_type": "markdown",
   "metadata": {},
   "source": [
    "## <span style=\"color:blue\">*PART 3*<span>"
   ]
  },
  {
   "cell_type": "markdown",
   "metadata": {},
   "source": [
    "We now need to plot the 11 locations on a simple map. To do this, we will define our axes with Xm = $\\lambda$ and Ym = $\\psi$, respectively. The units for these will be in decimal degrees. "
   ]
  },
  {
   "cell_type": "markdown",
   "metadata": {},
   "source": [
    "## 3.1: Plotting Map "
   ]
  },
  {
   "cell_type": "code",
   "execution_count": 17,
   "metadata": {},
   "outputs": [
    {
     "data": {
      "image/png": "[encoded data removed]",
      "text/plain": [
       "<Figure size 1008x504 with 1 Axes>"
      ]
     },
     "metadata": {
      "needs_background": "light"
     },
     "output_type": "display_data"
    }
   ],
   "source": [
    "# Variables to be plotted\n",
    "Xm = sph_dd['$\\lambda$°']\n",
    "Ym = sph_dd['$\\psi$°']\n",
    "\n",
    "# Labels for markers\n",
    "labels = ['  NP', '  SP', '  PoB', '  1', '  2', '  3', '  4', '  5', '  6', '  7', '  8']\n",
    "\n",
    "# Resizing the plot window\n",
    "plt.rcParams[\"figure.figsize\"] = (14,7)\n",
    "\n",
    "# Plotting the original locations\n",
    "plt.plot(Xm, Ym, 'ro')\n",
    "\n",
    "# Plot title & Axis labels\n",
    "plt.xlabel('$\\lambda °$', fontsize='16', fontweight='bold')\n",
    "plt.ylabel('$\\psi °$', fontsize='16', fontweight='bold')\n",
    "plt.title('Map of Locations', fontsize='24', fontweight='bold')\n",
    "\n",
    "# Adding labels to the markers\n",
    "for i, txt in enumerate(labels):\n",
    "    plt.annotate(txt, (Xm[i], Ym[i]), fontsize='14')\n",
    "\n",
    "# Tick Marks\n",
    "xticks = np.arange(-180, 181, 90)\n",
    "yticks = np.arange(-90, 91, 90)\n",
    "\n",
    "# Tick Mark Labels\n",
    "plt.xticks(xticks, fontsize='14')\n",
    "plt.yticks(yticks, fontsize='14')\n",
    "\n",
    "# Grid\n",
    "plt.grid(True)"
   ]
  },
  {
   "cell_type": "markdown",
   "metadata": {},
   "source": [
    "When creating this map, I plotted my locations using spherical coordinates in decimal degrees format. Each point is labeled in regards to the octant that contains it, with the exception of the North Pole (NP), the South Pole (SP), and my place of birth(PoB)."
   ]
  },
  {
   "cell_type": "markdown",
   "metadata": {},
   "source": [
    "___"
   ]
  },
  {
   "cell_type": "markdown",
   "metadata": {},
   "source": [
    "## <span style=\"color:blue\">*PART 4*<span>"
   ]
  },
  {
   "cell_type": "markdown",
   "metadata": {},
   "source": [
    "For part 4, we will be using the Jacobian matrix to calculate dx, dy, dz after adding +1.50000 arcseconds to $\\lambda$ and $\\psi$ and +50 meter to the height. Once calculated, we will then display the results, as well as the results we calculated in Lab 01, where we will then compare and discuss our findings. Following that, we will repeat the process, but we will be adding +1 degree to $\\lambda$ and $\\psi$ instead of +1.50000 arcseconds. Finally, we will compare our results with Lab 01 and discuss our findings."
   ]
  },
  {
   "cell_type": "markdown",
   "metadata": {},
   "source": [
    "## 4.1: Cartesian Difference using Jacobian (+1.5 arcseconds  to $\\lambda$ and $\\psi$, +50m to $h$))"
   ]
  },
  {
   "cell_type": "code",
   "execution_count": 18,
   "metadata": {},
   "outputs": [],
   "source": [
    "dx = np.zeros(11, dtype = np.float64)\n",
    "dy = np.zeros(11, dtype = np.float64)\n",
    "dz = np.zeros(11, dtype = np.float64)"
   ]
  },
  {
   "cell_type": "markdown",
   "metadata": {},
   "source": [
    "**Adjusting coordinates by 1.5 arcseconds**"
   ]
  },
  {
   "cell_type": "code",
   "execution_count": 19,
   "metadata": {},
   "outputs": [],
   "source": [
    "sph_diff = ([(1.5/3600)*rad, (1.5/3600)*rad, 50])"
   ]
  },
  {
   "cell_type": "markdown",
   "metadata": {},
   "source": [
    "**Jacobian Transformation function for Spherical to Cartesian Coordinates**"
   ]
  },
  {
   "cell_type": "code",
   "execution_count": 20,
   "metadata": {},
   "outputs": [],
   "source": [
    "def sph2xyz(l,p,h, R = 6371000):\n",
    "\n",
    "    J = [[-(R + h) * np.cos(p) * np.sin(l), -(R + h) * np.sin(p) * np.cos(l), np.cos(p) * np.cos(l)],\n",
    "         [(R + h) * np.cos(p) * np.cos(l), -(R + h) * np.sin(p) * np.sin(l), np.cos(p) * np.sin(l)],\n",
    "         [0, (R + h) * np.cos(p), np.sin(p)]]\n",
    "    \n",
    "    xyz_diff = np.matmul(J, sph_diff)\n",
    "    \n",
    "    return xyz_diff[0], xyz_diff[1], xyz_diff[2]"
   ]
  },
  {
   "cell_type": "markdown",
   "metadata": {},
   "source": [
    "**Applying the transformation**"
   ]
  },
  {
   "cell_type": "code",
   "execution_count": 21,
   "metadata": {},
   "outputs": [],
   "source": [
    "for index, row in sph_dd.iterrows():\n",
    "\n",
    "    dx[index], dy[index], dz[index] = sph2xyz(row['$\\lambda$°']*rad, row['$\\psi$°']*rad, row['$h$ (m)'])"
   ]
  },
  {
   "cell_type": "markdown",
   "metadata": {},
   "source": [
    "**Displaying the Pandas DataFrame**"
   ]
  },
  {
   "cell_type": "code",
   "execution_count": 22,
   "metadata": {},
   "outputs": [],
   "source": [
    "dxyz = pd.DataFrame({\n",
    "    'Name':names,\n",
    "    '$\\Delta X$(m)':dx,\n",
    "    '$\\Delta Y$(m)':dy,\n",
    "    '$\\Delta Z$(m)':dz\n",
    "})"
   ]
  },
  {
   "cell_type": "markdown",
   "metadata": {},
   "source": [
    "**Printing the Cartesian Difference using Jacobian (+1.5 arcseconds to $\\lambda$ and $\\psi$, +50m to $h$)**"
   ]
  },
  {
   "cell_type": "code",
   "execution_count": 23,
   "metadata": {},
   "outputs": [
    {
     "name": "stdout",
     "output_type": "stream",
     "text": [
      "Cartesian Difference using Jacobian\n",
      "(+1.5 arcseconds added to λ and ψ, +50m added to h)\n",
      "------------------------------------------------------------\n",
      "                 Name          ΔX(m)      ΔY(m)      ΔZ(m)\n",
      "------------------------------------------------------------\n",
      "          North Pole (NP)    -46.300      0.000     50.000\n",
      "          South Pole (NP)     46.352      0.000    -50.000\n",
      "        New Orleans (PoB)     40.123    -20.054     65.139\n",
      "         Eiffel Tower (1)     -3.214     30.378     68.137\n",
      "           Angkor Wat (2)    -52.835     25.984     56.666\n",
      "               Denali (3)     26.539     -9.307     65.582\n",
      "      Purdue Fountain (4)     35.649     -6.104     67.694\n",
      "  Cradle of Humankind (5)     38.300     67.268     19.818\n",
      "   Sydney Opera House (6)    -77.540     -1.296     10.617\n",
      "             Rapa Nui (7)     13.465    -76.234      8.568\n",
      "       Mount Fitz Roy (8)     48.691    -55.986     -7.644\n",
      "------------------------------------------------------------\n"
     ]
    }
   ],
   "source": [
    "print(\"Cartesian Difference using Jacobian\")\n",
    "print(\"(+1.5 arcseconds added to \\u03BB and \\u03C8, +50m added to h)\")\n",
    "print(\"------------------------------------------------------------\")\n",
    "print(\"                 Name          \\u0394X(m)      \\u0394Y(m)      \\u0394Z(m)\")\n",
    "print(\"------------------------------------------------------------\")\n",
    "for index, row in dxyz.iterrows():\n",
    "    print(\"%25s %10.3f %10.3f %10.3f\" % (row['Name'], row['$\\Delta X$(m)'], row['$\\Delta Y$(m)'], row['$\\Delta Z$(m)']))\n",
    "print(\"------------------------------------------------------------\")"
   ]
  },
  {
   "cell_type": "markdown",
   "metadata": {},
   "source": [
    "##  4.2: Lab 01 Cartesian Difference (+1.5 arcseconds to $\\lambda$ and $\\psi$, +50m to $h$)"
   ]
  },
  {
   "cell_type": "markdown",
   "metadata": {},
   "source": [
    "**Reading in the *pickle* file**"
   ]
  },
  {
   "cell_type": "code",
   "execution_count": 24,
   "metadata": {},
   "outputs": [],
   "source": [
    "dxyz_lab1 = pd.read_pickle(\"./xyz_difference.pkl\")"
   ]
  },
  {
   "cell_type": "markdown",
   "metadata": {},
   "source": [
    "**Printing the Lab 01 Cartesian Difference (+1.5 arcseconds to $\\lambda$ and $\\psi$, +50m to $h$)**"
   ]
  },
  {
   "cell_type": "code",
   "execution_count": 25,
   "metadata": {},
   "outputs": [
    {
     "name": "stdout",
     "output_type": "stream",
     "text": [
      "Cartesian Difference from Lab 01\n",
      "(+1.5 arcseconds added to λ and ψ, +50m added to h)\n",
      "------------------------------------------------------------\n",
      "                 Name          ΔX(m)      ΔY(m)      ΔZ(m)\n",
      "------------------------------------------------------------\n",
      "          North Pole (NP)    -46.301     -0.000     50.000\n",
      "          South Pole (NP)     46.352      0.000    -50.000\n",
      "        New Orleans (PoB)     40.123    -20.053     65.140\n",
      "         Eiffel Tower (1)     -3.215     30.378     68.137\n",
      "           Angkor Wat (2)    -52.835     25.983     56.666\n",
      "               Denali (3)     26.539     -9.307     65.582\n",
      "      Purdue Fountain (4)     35.649     -6.103     67.694\n",
      "  Cradle of Humankind (5)     38.300     67.268     19.819\n",
      "   Sydney Opera House (6)    -77.540     -1.296     10.617\n",
      "             Rapa Nui (7)     13.466    -76.234      8.568\n",
      "       Mount Fitz Roy (8)     48.692    -55.986     -7.644\n",
      "------------------------------------------------------------\n"
     ]
    }
   ],
   "source": [
    "print(\"Cartesian Difference from Lab 01\")\n",
    "print(\"(+1.5 arcseconds added to \\u03BB and \\u03C8, +50m added to h)\")\n",
    "print(\"------------------------------------------------------------\")\n",
    "print(\"                 Name          \\u0394X(m)      \\u0394Y(m)      \\u0394Z(m)\")\n",
    "print(\"------------------------------------------------------------\")\n",
    "for index, row in dxyz_lab1.iterrows():\n",
    "    print(\"%25s %10.3f %10.3f %10.3f\" % (row['Name'], row['$\\Delta X$(m)'], row['$\\Delta Y$(m)'], row['$\\Delta Z$(m)']))\n",
    "print(\"------------------------------------------------------------\")"
   ]
  },
  {
   "cell_type": "markdown",
   "metadata": {},
   "source": [
    "## 4.3 Evaluating the Results (+1.5 arcseconds to $\\lambda$ and $\\psi$, +50m to $h$)"
   ]
  },
  {
   "cell_type": "markdown",
   "metadata": {},
   "source": [
    "When comparing the results from Lab 02 with those computed in Lab 01, there appears to be very little difference. The results are nearly identical down to a centimeter accuracy, but some variation is apparent at the millimeter level.  The minimal differences between Lab 01 results and Lab 02 results agree with what one might expect, considering the changes in $\\lambda$ and $\\psi$ were so small. Small changes in angle, such as 1.5 arcseconds, tend to result in small changes in arc length, thus, it seems logical that the differences between a full transformation and a differential transformation would also be small.\n",
    "\n",
    "I think it is worth noting that the Y coordinate of the North Pole underwent a change in sign, despite the value remaining zero. Considering it is the only coordinate to undergo a sign change, it may seem like a calculation error at first glance, but it makes sense when you acknowledge the change in $\\psi$.\n",
    "\n",
    "I also find it interesting that the changes in the X direction seem to be more correlated with the arc-length than the Y or Z directions. Given that R is equal to 6371 km, if 1 arcsecond is equal to about 30 meters, then 1.5 arcseconds should equal about 45 meters. "
   ]
  },
  {
   "cell_type": "markdown",
   "metadata": {},
   "source": [
    "## 4.4 Cartesian Difference using Jacobian (+1 degree to $\\lambda$ and $\\psi$, +50m to $h$)"
   ]
  },
  {
   "cell_type": "code",
   "execution_count": 26,
   "metadata": {},
   "outputs": [],
   "source": [
    "dx2 = np.zeros(11, dtype = np.float64)\n",
    "dy2 = np.zeros(11, dtype = np.float64)\n",
    "dz2 = np.zeros(11, dtype = np.float64)"
   ]
  },
  {
   "cell_type": "markdown",
   "metadata": {},
   "source": [
    "**Adjusting coordinates by 1 degree**"
   ]
  },
  {
   "cell_type": "code",
   "execution_count": 27,
   "metadata": {},
   "outputs": [],
   "source": [
    "sph_diff2 = ([(1)*rad, (1)*rad, 50])"
   ]
  },
  {
   "cell_type": "markdown",
   "metadata": {},
   "source": [
    "**Jacobian Transformation function for Spherical to Cartesian Coordinates**"
   ]
  },
  {
   "cell_type": "code",
   "execution_count": 28,
   "metadata": {},
   "outputs": [],
   "source": [
    "def sph2xyz2(l,p,h, R = 6371000):\n",
    "\n",
    "    J = [[-(R + h) * np.cos(p) * np.sin(l), -(R + h) * np.sin(p) * np.cos(l), np.cos(p) * np.cos(l)],\n",
    "         [(R + h) * np.cos(p) * np.cos(l), -(R + h) * np.sin(p) * np.sin(l), np.cos(p) * np.sin(l)],\n",
    "         [0, (R + h) * np.cos(p), np.sin(p)]]\n",
    "    \n",
    "    xyz_diff2 = np.matmul(J, sph_diff2)\n",
    "    \n",
    "    return xyz_diff2[0], xyz_diff2[1], xyz_diff2[2]"
   ]
  },
  {
   "cell_type": "markdown",
   "metadata": {},
   "source": [
    "**Applying the transformation**"
   ]
  },
  {
   "cell_type": "code",
   "execution_count": 29,
   "metadata": {},
   "outputs": [],
   "source": [
    "for index, row in sph_dd.iterrows():\n",
    "    rad = math.pi/180\n",
    "    dx2[index], dy2[index], dz2[index] = sph2xyz2(row['$\\lambda$°']*rad, row['$\\psi$°']*rad, row['$h$ (m)'])"
   ]
  },
  {
   "cell_type": "markdown",
   "metadata": {},
   "source": [
    "**Creating Pandas DataFrame**"
   ]
  },
  {
   "cell_type": "code",
   "execution_count": 30,
   "metadata": {},
   "outputs": [],
   "source": [
    "dxyz2 = pd.DataFrame({\n",
    "    'Name':names,\n",
    "    '$\\Delta X$(m)':dx2,\n",
    "    '$\\Delta Y$(m)':dy2,\n",
    "    '$\\Delta Z$(m)':dz2\n",
    "})"
   ]
  },
  {
   "cell_type": "markdown",
   "metadata": {},
   "source": [
    "**Printing the Cartesian Difference using Jacobian (+1 degree to $\\lambda$ and $\\psi$, +50m to $h$)**"
   ]
  },
  {
   "cell_type": "code",
   "execution_count": 31,
   "metadata": {},
   "outputs": [
    {
     "name": "stdout",
     "output_type": "stream",
     "text": [
      "Cartesian Difference using Jacobian\n",
      "(+1 degree added to λ and ψ, +50m added to h)\n",
      "-----------------------------------------------------------------\n",
      "                 Name          ΔX(m)         ΔY(m)        ΔZ(m)\n",
      "-----------------------------------------------------------------\n",
      "          North Pole (NP)  -111120.556        0.000       50.000\n",
      "          South Pole (NP)   111244.406        0.000      -50.000\n",
      "        New Orleans (PoB)    96210.108    55705.561    96280.377\n",
      "         Eiffel Tower (1)   -86568.519    69748.323    73195.903\n",
      "           Angkor Wat (2)   -98840.800   -50917.123   108174.807\n",
      "               Denali (3)   111211.075     3993.999    50454.731\n",
      "      Purdue Fountain (4)    80642.551    76526.726    84678.110\n",
      "  Cradle of Humankind (5)    -3535.215   111184.265   100006.128\n",
      "   Sydney Opera House (6)   -98796.704   -51075.285    92310.102\n",
      "             Rapa Nui (7)    64237.849   -90802.220    90389.772\n",
      "       Mount Fitz Roy (8)    94033.521   -59504.036    72553.165\n",
      "-----------------------------------------------------------------\n"
     ]
    }
   ],
   "source": [
    "print(\"Cartesian Difference using Jacobian\")\n",
    "print(\"(+1 degree added to \\u03BB and \\u03C8, +50m added to h)\")\n",
    "print(\"-----------------------------------------------------------------\")\n",
    "print(\"                 Name          \\u0394X(m)         \\u0394Y(m)        \\u0394Z(m)\")\n",
    "print(\"-----------------------------------------------------------------\")\n",
    "for index, row in dxyz2.iterrows():\n",
    "    print(\"%25s %12.3f %12.3f %12.3f\" % (row['Name'], row['$\\Delta X$(m)'], row['$\\Delta Y$(m)'], row['$\\Delta Z$(m)']))\n",
    "print(\"-----------------------------------------------------------------\")"
   ]
  },
  {
   "cell_type": "markdown",
   "metadata": {},
   "source": [
    "## 4.5: Lab 01 - Cartesian Difference (+1 degree to $\\lambda$ and $\\psi$, +50m to $h$)"
   ]
  },
  {
   "cell_type": "code",
   "execution_count": 32,
   "metadata": {},
   "outputs": [],
   "source": [
    "dxyz_1deg = pd.read_pickle(\"./xyz_1deg.pkl\")"
   ]
  },
  {
   "cell_type": "markdown",
   "metadata": {},
   "source": [
    "**Printing the Lab 01 Cartesian Difference (+1 degree to $\\lambda$ & $\\psi$, +50m to $h$)**"
   ]
  },
  {
   "cell_type": "code",
   "execution_count": 33,
   "metadata": {},
   "outputs": [
    {
     "name": "stdout",
     "output_type": "stream",
     "text": [
      "Cartesian Difference from Lab 01\n",
      "(+1 degree added to λ and ψ, +50m added to h)\n",
      "-----------------------------------------------------------------\n",
      "                 Name          ΔX(m)         ΔY(m)        ΔZ(m)\n",
      "-----------------------------------------------------------------\n",
      "          North Pole (NP)  -111098.864    -1939.238     -919.693\n",
      "          South Pole (NP)   111222.688     1941.399      920.774\n",
      "        New Orleans (PoB)    95218.416    57373.703    95790.436\n",
      "         Eiffel Tower (1)   -87768.813    68223.369    72462.010\n",
      "           Angkor Wat (2)   -97932.094   -52631.906   107945.081\n",
      "               Denali (3)   111119.466     5934.380    49586.612\n",
      "      Purdue Fountain (4)    79290.627    77919.090    84045.191\n",
      "  Cradle of Humankind (5)    -5474.501   111100.174   100426.167\n",
      "   Sydney Opera House (6)   -97885.726   -52788.841    92846.761\n",
      "             Rapa Nui (7)    65809.285   -89663.212    90950.806\n",
      "       Mount Fitz Roy (8)    95053.064   -57851.551    73285.774\n",
      "-----------------------------------------------------------------\n"
     ]
    }
   ],
   "source": [
    "print(\"Cartesian Difference from Lab 01\")\n",
    "print(\"(+1 degree added to \\u03BB and \\u03C8, +50m added to h)\")\n",
    "print(\"-----------------------------------------------------------------\")\n",
    "print(\"                 Name          \\u0394X(m)         \\u0394Y(m)        \\u0394Z(m)\")\n",
    "print(\"-----------------------------------------------------------------\")\n",
    "for index, row in dxyz_1deg.iterrows():\n",
    "    print(\"%25s %12.3f %12.3f %12.3f\" % (row['Name'], row['$\\Delta X$(m)'], row['$\\Delta Y$(m)'], row['$\\Delta Z$(m)']))\n",
    "print(\"-----------------------------------------------------------------\")"
   ]
  },
  {
   "cell_type": "markdown",
   "metadata": {},
   "source": [
    "## 4.6a: Evaluating the Results (+1 degree to $\\lambda$ and $\\psi$, +50m to $h$)"
   ]
  },
  {
   "cell_type": "markdown",
   "metadata": {},
   "source": [
    "When comparing the results from Lab 01 with the results from Lab 02, most of the values appeared to be in the same ballpark with each other, but it was quite difficult to pinpoint the specific differences given the size of the values. To better understand the different results in each axis, I simply subtracted one from the other, taking the absolute value of that result *(see the table below in 4.6b)*. \n",
    "\n",
    "Again, similarly to the changes of 1.5 arcseconds, it seems as though the changes in the X direction are more correlated with the arc-length than the Y or Z locations. Using the given R, an angle of 1 degree results in an arc-length of about 111,195 meters *(See calculations below)*.\n",
    "\n",
    "Additionally, I found it interesting, and also confusing, that the Y values of the North and South Poles that were calculated using the differential method came out to be zero and the Z values came out to be equal to the added height.  I can see how those values get there by following the order of operations in the Jacobian matrix, but I am perplexed to understand why those values are what they are. and see what are fairly similar in the X direction, but dramatically different in both the Y and the Z directions. "
   ]
  },
  {
   "cell_type": "markdown",
   "metadata": {},
   "source": [
    "**Calculating arc-length (m)**"
   ]
  },
  {
   "cell_type": "code",
   "execution_count": 34,
   "metadata": {},
   "outputs": [
    {
     "data": {
      "text/plain": [
       "111194.92664455874"
      ]
     },
     "execution_count": 34,
     "metadata": {},
     "output_type": "execute_result"
    }
   ],
   "source": [
    "alpha = 1 * rad\n",
    "AL = R * alpha\n",
    "AL"
   ]
  },
  {
   "cell_type": "markdown",
   "metadata": {},
   "source": [
    "## 4.6b: Cartesian Difference Between Lab 01 and Lab 02 (+1 degree to $\\lambda$ and $\\psi$, +50m to $h$)"
   ]
  },
  {
   "cell_type": "markdown",
   "metadata": {},
   "source": [
    "**Calculating the differences for each axis**"
   ]
  },
  {
   "cell_type": "code",
   "execution_count": 35,
   "metadata": {},
   "outputs": [],
   "source": [
    "diffx = abs(dxyz2['$\\Delta X$(m)'] - dxyz_1deg['$\\Delta X$(m)'])\n",
    "diffy = abs(dxyz2['$\\Delta Y$(m)'] - dxyz_1deg['$\\Delta Y$(m)'])\n",
    "diffz = abs(dxyz2['$\\Delta Z$(m)'] - dxyz_1deg['$\\Delta Z$(m)'])"
   ]
  },
  {
   "cell_type": "markdown",
   "metadata": {},
   "source": [
    "**Creating the Pandas DataFrame**"
   ]
  },
  {
   "cell_type": "code",
   "execution_count": 36,
   "metadata": {},
   "outputs": [],
   "source": [
    "diff_xyz2 = pd.DataFrame({\n",
    "    'Name':names,\n",
    "    '$\\Delta X$(m)':diffx,\n",
    "    '$\\Delta Y$(m)':diffy,\n",
    "    '$\\Delta Z$(m)':diffz\n",
    "})"
   ]
  },
  {
   "cell_type": "markdown",
   "metadata": {},
   "source": [
    "**Printing the Cartesian Difference Between Lab 01 and Lab 02 (+1 degree to $\\lambda$ and $\\psi$, +50m to $h$)**"
   ]
  },
  {
   "cell_type": "code",
   "execution_count": 37,
   "metadata": {},
   "outputs": [
    {
     "name": "stdout",
     "output_type": "stream",
     "text": [
      "Cartesian Difference between Lab 01 and Lab 02\n",
      "(+1 degree added to λ and ψ, +50m added to h)\n",
      "-----------------------------------------------------------------\n",
      "                 Name          ΔX(m)         ΔY(m)        ΔZ(m)\n",
      "-----------------------------------------------------------------\n",
      "          North Pole (NP)       21.692     1939.238      969.693\n",
      "          South Pole (NP)       21.717     1941.399      970.774\n",
      "        New Orleans (PoB)      991.692     1668.142      489.941\n",
      "         Eiffel Tower (1)     1200.295     1524.954      733.893\n",
      "           Angkor Wat (2)      908.706     1714.783      229.726\n",
      "               Denali (3)       91.609     1940.381      868.119\n",
      "      Purdue Fountain (4)     1351.924     1392.363      632.919\n",
      "  Cradle of Humankind (5)     1939.286       84.091      420.039\n",
      "   Sydney Opera House (6)      910.977     1713.556      536.659\n",
      "             Rapa Nui (7)     1571.436     1139.008      561.034\n",
      "       Mount Fitz Roy (8)     1019.544     1652.485      732.609\n",
      "-----------------------------------------------------------------\n"
     ]
    }
   ],
   "source": [
    "print(\"Cartesian Difference between Lab 01 and Lab 02\")\n",
    "print(\"(+1 degree added to \\u03BB and \\u03C8, +50m added to h)\")\n",
    "print(\"-----------------------------------------------------------------\")\n",
    "print(\"                 Name          \\u0394X(m)         \\u0394Y(m)        \\u0394Z(m)\")\n",
    "print(\"-----------------------------------------------------------------\")\n",
    "for index, row in diff_xyz2.iterrows():\n",
    "    print(\"%25s %12.3f %12.3f %12.3f\" % (row['Name'], row['$\\Delta X$(m)'], row['$\\Delta Y$(m)'], row['$\\Delta Z$(m)']))\n",
    "print(\"-----------------------------------------------------------------\")"
   ]
  },
  {
   "cell_type": "markdown",
   "metadata": {},
   "source": [
    "Based on the above results, we can see that differences in X and Y values fall between tens of meters to about 2,000 meters, while the differences in the Z values range between a few hundred meters to about a thousand meters. After spending quite a bit of time evaluating these results, I still found it difficult to make sense of them. For example, in octant 3, why were the differences in the X direction so small compared to the others? Likewise, in octant 5, why were the differences in the Y direction so small compared to the others? \n",
    "\n",
    "To hopefully gain a better understanding of these differences, I decided to calculate the euclidean distances between the resulting differences in Lab 01 and the resulting differences in Lab 02. I was wondering if I could possibly make a spatial correlation based on these euclidean distances."
   ]
  },
  {
   "cell_type": "markdown",
   "metadata": {},
   "source": [
    "## 4.6c: Calculating the Euclidean Distances between Lab 01 and Lab 02 results"
   ]
  },
  {
   "cell_type": "markdown",
   "metadata": {},
   "source": [
    "**Calculating the Euclidean Distance**"
   ]
  },
  {
   "cell_type": "code",
   "execution_count": 38,
   "metadata": {},
   "outputs": [],
   "source": [
    "euclid = np.zeros(11, dtype = np.float64)\n",
    "dflt = np.zeros(11, dtype = np.float64)"
   ]
  },
  {
   "cell_type": "code",
   "execution_count": 39,
   "metadata": {},
   "outputs": [],
   "source": [
    "for index, row in diff_xyz2.iterrows():\n",
    "    \n",
    "    euclid[index] = math.sqrt(row['$\\Delta X$(m)']**2 + row['$\\Delta Y$(m)']**2 + row['$\\Delta Z$(m)']**2)\n",
    "    dflt[index] = 2.5"
   ]
  },
  {
   "cell_type": "markdown",
   "metadata": {},
   "source": [
    "I'm using the above iteration to create the vector \"dflt\" which will serve as the default scale for the point markers in the map below."
   ]
  },
  {
   "cell_type": "markdown",
   "metadata": {},
   "source": [
    "**Normalizing the euclidean distance**"
   ]
  },
  {
   "cell_type": "code",
   "execution_count": 40,
   "metadata": {},
   "outputs": [],
   "source": [
    "euclidMaxMin = ((euclid-euclid.min())/(euclid.max()-euclid.min()))*100"
   ]
  },
  {
   "cell_type": "code",
   "execution_count": 41,
   "metadata": {},
   "outputs": [
    {
     "data": {
      "text/plain": [
       "array([ 98.88359078, 100.        ,  21.86076827,  55.70042967,\n",
       "         0.        ,  80.1385975 ,  40.23140528,  14.69449118,\n",
       "        27.37962743,  30.51204138,  55.93456488])"
      ]
     },
     "execution_count": 41,
     "metadata": {},
     "output_type": "execute_result"
    }
   ],
   "source": [
    "euclidMaxMin"
   ]
  },
  {
   "cell_type": "markdown",
   "metadata": {},
   "source": [
    "**Plotting Map to Illustrate Comparison**"
   ]
  },
  {
   "cell_type": "code",
   "execution_count": 42,
   "metadata": {},
   "outputs": [
    {
     "data": {
      "image/png": "[encoded data removed]",
      "text/plain": [
       "<Figure size 1008x504 with 1 Axes>"
      ]
     },
     "metadata": {
      "needs_background": "light"
     },
     "output_type": "display_data"
    }
   ],
   "source": [
    "#Setting the scale factors for the markers\n",
    "s1 = euclidMaxMin\n",
    "s2 = 1\n",
    "\n",
    "# Labels for markers\n",
    "labels = ['   NP', '   SP', '      PoB', '   1', '   2', '   3', ' 4', '   5', '    6', '     7', '   8']\n",
    "\n",
    "# Resizing the plot window \n",
    "plt.rcParams[\"figure.figsize\"] = (14,7)\n",
    "\n",
    "# Plotting the Euclidean distances between the results from Lab 01 and Lab 02\n",
    "for i, s1 in enumerate(euclidMaxMin):\n",
    "    plt.rcParams['lines.markersize'] = s1\n",
    "    plt.plot(Xm[i], Ym[i],'go', alpha=0.5)\n",
    "    plt.plot(Xm[i], Ym[i],'ko',fillstyle='none')\n",
    "\n",
    "# Plotting the original locations\n",
    "for i, s2 in enumerate(dflt):\n",
    "    plt.rcParams['lines.markersize'] = s2**2\n",
    "    plt.plot(Xm[i], Ym[i],'ro')\n",
    "\n",
    "# Plot title & Axis labels   \n",
    "plt.xlabel('$\\lambda °$', fontsize='16', fontweight='bold')\n",
    "plt.ylabel('$\\psi °$', fontsize='16', fontweight='bold')\n",
    "plt.title('Map of Differences', fontsize='24', fontweight='bold')\n",
    "\n",
    "# Adding labels to the markers\n",
    "for i, text in enumerate(labels):\n",
    "    plt.annotate(text, xy=(Xm[i], Ym[i]), fontsize='14')\n",
    "\n",
    "# Tick Marks\n",
    "xticks = np.arange(-180, 181, 90)\n",
    "yticks = np.arange(-90, 91, 90)\n",
    "\n",
    "# Tick Mark Labels\n",
    "plt.xticks(xticks, fontsize='14')\n",
    "plt.yticks(yticks, fontsize='14')\n",
    "\n",
    "# Grid\n",
    "plt.grid(True)"
   ]
  },
  {
   "cell_type": "markdown",
   "metadata": {},
   "source": [
    "This map is intended to illustrate the differences between the results obtained using the differential method in Lab 02 and results obtained using the full method in Lab 01.  The red dots are spatially accurate representations of the 11 locations. The green dots, however, have no spatial significance other than the fact that they relate to the point that they encompass.  The green dots are scaled based on the normalized euclidean distance between the difference calculated in Lab 01 and the differences calculated in Lab 02. For visual purposes, I then multiplied the normalized distance values by 100 to make them more prominent.  \n",
    "\n",
    "Observing the results on the above map, we can see that the differences between the full transformation results and the differential transformation results are greater near the poles and smaller near the equator. This is oppposite of what I had originally expected. Initially, I had assumed that the differences around the poles would be smaller because 1 degree of longitude near the poles is a shorter distance in meters than 1 degree of longitude at the equator. After thinking about it though, the results seem to make sense because the differences in latitude and longitude around the equator are more uniform in surface distance, while, at the poles, the latitude value covers a greater distance in meters than the longitude value."
   ]
  },
  {
   "cell_type": "code",
   "execution_count": null,
   "metadata": {},
   "outputs": [],
   "source": []
  }
 ],
 "metadata": {
  "kernelspec": {
   "display_name": "geodesy",
   "language": "python",
   "name": "geodesy"
  },
  "language_info": {
   "codemirror_mode": {
    "name": "ipython",
    "version": 3
   },
   "file_extension": ".py",
   "mimetype": "text/x-python",
   "name": "python",
   "nbconvert_exporter": "python",
   "pygments_lexer": "ipython3",
   "version": "3.7.4"
  }
 },
 "nbformat": 4,
 "nbformat_minor": 2
}
