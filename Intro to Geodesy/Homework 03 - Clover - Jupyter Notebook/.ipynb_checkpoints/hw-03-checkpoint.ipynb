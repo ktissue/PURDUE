{
 "cells": [
  {
   "cell_type": "markdown",
   "metadata": {},
   "source": [
    "# Homework No. 3\n",
    "\n",
    "## Program description\n",
    "\n",
    "- Plots a circle in 2D using polar coordinates\n",
    "- Prints a table of polar and cartesian coordinates using print"
   ]
  },
  {
   "cell_type": "markdown",
   "metadata": {},
   "source": [
    "### Importing required module"
   ]
  },
  {
   "cell_type": "code",
   "execution_count": 1,
   "metadata": {},
   "outputs": [],
   "source": [
    "import math\n",
    "import numpy as np\n",
    "import pandas as pd\n",
    "import matplotlib.pyplot as plt\n",
    "\n",
    "# Plot figures inside the notebook\n",
    "%matplotlib inline"
   ]
  },
  {
   "cell_type": "markdown",
   "metadata": {},
   "source": [
    "Then initializing variables\n",
    "\n",
    "- $\\rho \\rightarrow$ conversion factor from radian to degree\n",
    "- $\\alpha \\rightarrow$ angle between 0 and $2 \\pi$ with 10 degree interval\n",
    "- $R \\rightarrow$ radius of the Earth (approximately 6371 km)"
   ]
  },
  {
   "cell_type": "code",
   "execution_count": 3,
   "metadata": {},
   "outputs": [
    {
     "data": {
      "text/plain": [
       "array([0, 2, 4, 6, 8])"
      ]
     },
     "execution_count": 3,
     "metadata": {},
     "output_type": "execute_result"
    }
   ],
   "source": [
    "temp = np.arange(0,10,2)\n",
    "temp"
   ]
  },
  {
   "cell_type": "code",
   "execution_count": 4,
   "metadata": {},
   "outputs": [],
   "source": [
    "rho = 180 / math.pi\n",
    "alpha = np.arange(0, 2 * math.pi+0.1, math.pi/18.0)\n",
    "R = 6371"
   ]
  },
  {
   "cell_type": "code",
   "execution_count": 5,
   "metadata": {},
   "outputs": [
    {
     "data": {
      "text/plain": [
       "57.29577951308232"
      ]
     },
     "execution_count": 5,
     "metadata": {},
     "output_type": "execute_result"
    }
   ],
   "source": [
    "rho"
   ]
  },
  {
   "cell_type": "code",
   "execution_count": 6,
   "metadata": {},
   "outputs": [
    {
     "data": {
      "text/plain": [
       "array([0.        , 0.17453293, 0.34906585, 0.52359878, 0.6981317 ,\n",
       "       0.87266463, 1.04719755, 1.22173048, 1.3962634 , 1.57079633,\n",
       "       1.74532925, 1.91986218, 2.0943951 , 2.26892803, 2.44346095,\n",
       "       2.61799388, 2.7925268 , 2.96705973, 3.14159265, 3.31612558,\n",
       "       3.4906585 , 3.66519143, 3.83972435, 4.01425728, 4.1887902 ,\n",
       "       4.36332313, 4.53785606, 4.71238898, 4.88692191, 5.06145483,\n",
       "       5.23598776, 5.41052068, 5.58505361, 5.75958653, 5.93411946,\n",
       "       6.10865238, 6.28318531])"
      ]
     },
     "execution_count": 6,
     "metadata": {},
     "output_type": "execute_result"
    }
   ],
   "source": [
    "alpha"
   ]
  },
  {
   "cell_type": "code",
   "execution_count": 7,
   "metadata": {},
   "outputs": [
    {
     "data": {
      "text/plain": [
       "(37,)"
      ]
     },
     "execution_count": 7,
     "metadata": {},
     "output_type": "execute_result"
    }
   ],
   "source": [
    "alpha.shape"
   ]
  },
  {
   "cell_type": "markdown",
   "metadata": {},
   "source": [
    "Now convert polar coordinates into cartesian coordinates using below equations\n",
    "\n",
    "- $x = R \\cdot cos(\\alpha)$\n",
    "- $y = R \\cdot sin(\\alpha)$"
   ]
  },
  {
   "cell_type": "code",
   "execution_count": 8,
   "metadata": {},
   "outputs": [],
   "source": [
    "x = R * np.cos(alpha)\n",
    "y = R * np.sin(alpha)"
   ]
  },
  {
   "cell_type": "code",
   "execution_count": 9,
   "metadata": {},
   "outputs": [
    {
     "data": {
      "text/plain": [
       "array([ 6.37100000e+03,  6.27421019e+03,  5.98678169e+03,  5.51744785e+03,\n",
       "        4.88046915e+03,  4.09519986e+03,  3.18550000e+03,  2.17901033e+03,\n",
       "        1.10631254e+03,  3.90111238e-13, -1.10631254e+03, -2.17901033e+03,\n",
       "       -3.18550000e+03, -4.09519986e+03, -4.88046915e+03, -5.51744785e+03,\n",
       "       -5.98678169e+03, -6.27421019e+03, -6.37100000e+03, -6.27421019e+03,\n",
       "       -5.98678169e+03, -5.51744785e+03, -4.88046915e+03, -4.09519986e+03,\n",
       "       -3.18550000e+03, -2.17901033e+03, -1.10631254e+03, -1.17033371e-12,\n",
       "        1.10631254e+03,  2.17901033e+03,  3.18550000e+03,  4.09519986e+03,\n",
       "        4.88046915e+03,  5.51744785e+03,  5.98678169e+03,  6.27421019e+03,\n",
       "        6.37100000e+03])"
      ]
     },
     "execution_count": 9,
     "metadata": {},
     "output_type": "execute_result"
    }
   ],
   "source": [
    "x"
   ]
  },
  {
   "cell_type": "code",
   "execution_count": 10,
   "metadata": {},
   "outputs": [
    {
     "data": {
      "text/plain": [
       "array([ 0.00000000e+00,  1.10631254e+03,  2.17901033e+03,  3.18550000e+03,\n",
       "        4.09519986e+03,  4.88046915e+03,  5.51744785e+03,  5.98678169e+03,\n",
       "        6.27421019e+03,  6.37100000e+03,  6.27421019e+03,  5.98678169e+03,\n",
       "        5.51744785e+03,  4.88046915e+03,  4.09519986e+03,  3.18550000e+03,\n",
       "        2.17901033e+03,  1.10631254e+03,  7.80222476e-13, -1.10631254e+03,\n",
       "       -2.17901033e+03, -3.18550000e+03, -4.09519986e+03, -4.88046915e+03,\n",
       "       -5.51744785e+03, -5.98678169e+03, -6.27421019e+03, -6.37100000e+03,\n",
       "       -6.27421019e+03, -5.98678169e+03, -5.51744785e+03, -4.88046915e+03,\n",
       "       -4.09519986e+03, -3.18550000e+03, -2.17901033e+03, -1.10631254e+03,\n",
       "       -1.56044495e-12])"
      ]
     },
     "execution_count": 10,
     "metadata": {},
     "output_type": "execute_result"
    }
   ],
   "source": [
    "y"
   ]
  },
  {
   "cell_type": "markdown",
   "metadata": {},
   "source": [
    "Now convert alpha into degree"
   ]
  },
  {
   "cell_type": "code",
   "execution_count": 11,
   "metadata": {},
   "outputs": [
    {
     "data": {
      "text/plain": [
       "(37,)"
      ]
     },
     "execution_count": 11,
     "metadata": {},
     "output_type": "execute_result"
    }
   ],
   "source": [
    "x.shape"
   ]
  },
  {
   "cell_type": "code",
   "execution_count": 12,
   "metadata": {},
   "outputs": [
    {
     "data": {
      "text/plain": [
       "(37,)"
      ]
     },
     "execution_count": 12,
     "metadata": {},
     "output_type": "execute_result"
    }
   ],
   "source": [
    "y.shape"
   ]
  },
  {
   "cell_type": "code",
   "execution_count": 13,
   "metadata": {},
   "outputs": [],
   "source": [
    "alpha_deg = alpha * rho"
   ]
  },
  {
   "cell_type": "code",
   "execution_count": 14,
   "metadata": {},
   "outputs": [
    {
     "data": {
      "text/plain": [
       "array([  0.,  10.,  20.,  30.,  40.,  50.,  60.,  70.,  80.,  90., 100.,\n",
       "       110., 120., 130., 140., 150., 160., 170., 180., 190., 200., 210.,\n",
       "       220., 230., 240., 250., 260., 270., 280., 290., 300., 310., 320.,\n",
       "       330., 340., 350., 360.])"
      ]
     },
     "execution_count": 14,
     "metadata": {},
     "output_type": "execute_result"
    }
   ],
   "source": [
    "alpha_deg"
   ]
  },
  {
   "cell_type": "markdown",
   "metadata": {},
   "source": [
    "Now make a Panda DataFrame"
   ]
  },
  {
   "cell_type": "code",
   "execution_count": 15,
   "metadata": {},
   "outputs": [],
   "source": [
    "results = pd.DataFrame({'alpha_deg': alpha_deg, 'x': x, 'y': y})"
   ]
  },
  {
   "cell_type": "code",
   "execution_count": 17,
   "metadata": {},
   "outputs": [
    {
     "data": {
      "text/html": [
       "<div>\n",
       "<style scoped>\n",
       "    .dataframe tbody tr th:only-of-type {\n",
       "        vertical-align: middle;\n",
       "    }\n",
       "\n",
       "    .dataframe tbody tr th {\n",
       "        vertical-align: top;\n",
       "    }\n",
       "\n",
       "    .dataframe thead th {\n",
       "        text-align: right;\n",
       "    }\n",
       "</style>\n",
       "<table border=\"1\" class=\"dataframe\">\n",
       "  <thead>\n",
       "    <tr style=\"text-align: right;\">\n",
       "      <th></th>\n",
       "      <th>alpha_deg</th>\n",
       "      <th>x</th>\n",
       "      <th>y</th>\n",
       "    </tr>\n",
       "  </thead>\n",
       "  <tbody>\n",
       "    <tr>\n",
       "      <th>0</th>\n",
       "      <td>0.000</td>\n",
       "      <td>6,371.000</td>\n",
       "      <td>0.000</td>\n",
       "    </tr>\n",
       "    <tr>\n",
       "      <th>1</th>\n",
       "      <td>10.000</td>\n",
       "      <td>6,274.210</td>\n",
       "      <td>1,106.313</td>\n",
       "    </tr>\n",
       "    <tr>\n",
       "      <th>2</th>\n",
       "      <td>20.000</td>\n",
       "      <td>5,986.782</td>\n",
       "      <td>2,179.010</td>\n",
       "    </tr>\n",
       "    <tr>\n",
       "      <th>3</th>\n",
       "      <td>30.000</td>\n",
       "      <td>5,517.448</td>\n",
       "      <td>3,185.500</td>\n",
       "    </tr>\n",
       "    <tr>\n",
       "      <th>4</th>\n",
       "      <td>40.000</td>\n",
       "      <td>4,880.469</td>\n",
       "      <td>4,095.200</td>\n",
       "    </tr>\n",
       "  </tbody>\n",
       "</table>\n",
       "</div>"
      ],
      "text/plain": [
       "   alpha_deg         x         y\n",
       "0      0.000 6,371.000     0.000\n",
       "1     10.000 6,274.210 1,106.313\n",
       "2     20.000 5,986.782 2,179.010\n",
       "3     30.000 5,517.448 3,185.500\n",
       "4     40.000 4,880.469 4,095.200"
      ]
     },
     "execution_count": 17,
     "metadata": {},
     "output_type": "execute_result"
    }
   ],
   "source": [
    "results.head()"
   ]
  },
  {
   "cell_type": "code",
   "execution_count": 18,
   "metadata": {},
   "outputs": [
    {
     "data": {
      "text/html": [
       "<div>\n",
       "<style scoped>\n",
       "    .dataframe tbody tr th:only-of-type {\n",
       "        vertical-align: middle;\n",
       "    }\n",
       "\n",
       "    .dataframe tbody tr th {\n",
       "        vertical-align: top;\n",
       "    }\n",
       "\n",
       "    .dataframe thead th {\n",
       "        text-align: right;\n",
       "    }\n",
       "</style>\n",
       "<table border=\"1\" class=\"dataframe\">\n",
       "  <thead>\n",
       "    <tr style=\"text-align: right;\">\n",
       "      <th></th>\n",
       "      <th>alpha_deg</th>\n",
       "      <th>x</th>\n",
       "      <th>y</th>\n",
       "    </tr>\n",
       "  </thead>\n",
       "  <tbody>\n",
       "    <tr>\n",
       "      <th>0</th>\n",
       "      <td>0.000</td>\n",
       "      <td>6,371.000</td>\n",
       "      <td>0.000</td>\n",
       "    </tr>\n",
       "    <tr>\n",
       "      <th>1</th>\n",
       "      <td>10.000</td>\n",
       "      <td>6,274.210</td>\n",
       "      <td>1,106.313</td>\n",
       "    </tr>\n",
       "    <tr>\n",
       "      <th>2</th>\n",
       "      <td>20.000</td>\n",
       "      <td>5,986.782</td>\n",
       "      <td>2,179.010</td>\n",
       "    </tr>\n",
       "    <tr>\n",
       "      <th>3</th>\n",
       "      <td>30.000</td>\n",
       "      <td>5,517.448</td>\n",
       "      <td>3,185.500</td>\n",
       "    </tr>\n",
       "    <tr>\n",
       "      <th>4</th>\n",
       "      <td>40.000</td>\n",
       "      <td>4,880.469</td>\n",
       "      <td>4,095.200</td>\n",
       "    </tr>\n",
       "    <tr>\n",
       "      <th>5</th>\n",
       "      <td>50.000</td>\n",
       "      <td>4,095.200</td>\n",
       "      <td>4,880.469</td>\n",
       "    </tr>\n",
       "    <tr>\n",
       "      <th>6</th>\n",
       "      <td>60.000</td>\n",
       "      <td>3,185.500</td>\n",
       "      <td>5,517.448</td>\n",
       "    </tr>\n",
       "    <tr>\n",
       "      <th>7</th>\n",
       "      <td>70.000</td>\n",
       "      <td>2,179.010</td>\n",
       "      <td>5,986.782</td>\n",
       "    </tr>\n",
       "    <tr>\n",
       "      <th>8</th>\n",
       "      <td>80.000</td>\n",
       "      <td>1,106.313</td>\n",
       "      <td>6,274.210</td>\n",
       "    </tr>\n",
       "    <tr>\n",
       "      <th>9</th>\n",
       "      <td>90.000</td>\n",
       "      <td>0.000</td>\n",
       "      <td>6,371.000</td>\n",
       "    </tr>\n",
       "  </tbody>\n",
       "</table>\n",
       "</div>"
      ],
      "text/plain": [
       "   alpha_deg         x         y\n",
       "0      0.000 6,371.000     0.000\n",
       "1     10.000 6,274.210 1,106.313\n",
       "2     20.000 5,986.782 2,179.010\n",
       "3     30.000 5,517.448 3,185.500\n",
       "4     40.000 4,880.469 4,095.200\n",
       "5     50.000 4,095.200 4,880.469\n",
       "6     60.000 3,185.500 5,517.448\n",
       "7     70.000 2,179.010 5,986.782\n",
       "8     80.000 1,106.313 6,274.210\n",
       "9     90.000     0.000 6,371.000"
      ]
     },
     "execution_count": 18,
     "metadata": {},
     "output_type": "execute_result"
    }
   ],
   "source": [
    "results.head(10)"
   ]
  },
  {
   "cell_type": "markdown",
   "metadata": {},
   "source": [
    "Print the data frame with 3 decimal points"
   ]
  },
  {
   "cell_type": "code",
   "execution_count": 16,
   "metadata": {},
   "outputs": [
    {
     "name": "stdout",
     "output_type": "stream",
     "text": [
      "    alpha_deg          x          y\n",
      "0       0.000  6,371.000      0.000\n",
      "1      10.000  6,274.210  1,106.313\n",
      "2      20.000  5,986.782  2,179.010\n",
      "3      30.000  5,517.448  3,185.500\n",
      "4      40.000  4,880.469  4,095.200\n",
      "5      50.000  4,095.200  4,880.469\n",
      "6      60.000  3,185.500  5,517.448\n",
      "7      70.000  2,179.010  5,986.782\n",
      "8      80.000  1,106.313  6,274.210\n",
      "9      90.000      0.000  6,371.000\n",
      "10    100.000 -1,106.313  6,274.210\n",
      "11    110.000 -2,179.010  5,986.782\n",
      "12    120.000 -3,185.500  5,517.448\n",
      "13    130.000 -4,095.200  4,880.469\n",
      "14    140.000 -4,880.469  4,095.200\n",
      "15    150.000 -5,517.448  3,185.500\n",
      "16    160.000 -5,986.782  2,179.010\n",
      "17    170.000 -6,274.210  1,106.313\n",
      "18    180.000 -6,371.000      0.000\n",
      "19    190.000 -6,274.210 -1,106.313\n",
      "20    200.000 -5,986.782 -2,179.010\n",
      "21    210.000 -5,517.448 -3,185.500\n",
      "22    220.000 -4,880.469 -4,095.200\n",
      "23    230.000 -4,095.200 -4,880.469\n",
      "24    240.000 -3,185.500 -5,517.448\n",
      "25    250.000 -2,179.010 -5,986.782\n",
      "26    260.000 -1,106.313 -6,274.210\n",
      "27    270.000     -0.000 -6,371.000\n",
      "28    280.000  1,106.313 -6,274.210\n",
      "29    290.000  2,179.010 -5,986.782\n",
      "30    300.000  3,185.500 -5,517.448\n",
      "31    310.000  4,095.200 -4,880.469\n",
      "32    320.000  4,880.469 -4,095.200\n",
      "33    330.000  5,517.448 -3,185.500\n",
      "34    340.000  5,986.782 -2,179.010\n",
      "35    350.000  6,274.210 -1,106.313\n",
      "36    360.000  6,371.000     -0.000\n"
     ]
    }
   ],
   "source": [
    "pd.options.display.float_format = '{:,.3f}'.format\n",
    "print(results)"
   ]
  },
  {
   "cell_type": "markdown",
   "metadata": {},
   "source": [
    "Or you can print in more manual way like this"
   ]
  },
  {
   "cell_type": "code",
   "execution_count": 19,
   "metadata": {},
   "outputs": [
    {
     "name": "stdout",
     "output_type": "stream",
     "text": [
      "\n",
      "Homework #1 by Jinha Jung\n",
      "\n",
      "Table with circle coordinates\n",
      "\n",
      "Radius = 6371 km\n",
      "\n",
      "---------------------------------------------\n",
      "  alpha(degree)         X(km)          Y(km)\n",
      "             0       6371.000          0.000\n",
      "            10       6274.210       1106.313\n",
      "            20       5986.782       2179.010\n",
      "            30       5517.448       3185.500\n",
      "            40       4880.469       4095.200\n",
      "            50       4095.200       4880.469\n",
      "            60       3185.500       5517.448\n",
      "            70       2179.010       5986.782\n",
      "            80       1106.313       6274.210\n",
      "            90          0.000       6371.000\n",
      "           100      -1106.313       6274.210\n",
      "           110      -2179.010       5986.782\n",
      "           120      -3185.500       5517.448\n",
      "           130      -4095.200       4880.469\n",
      "           140      -4880.469       4095.200\n",
      "           150      -5517.448       3185.500\n",
      "           160      -5986.782       2179.010\n",
      "           170      -6274.210       1106.313\n",
      "           180      -6371.000          0.000\n",
      "           190      -6274.210      -1106.313\n",
      "           200      -5986.782      -2179.010\n",
      "           210      -5517.448      -3185.500\n",
      "           220      -4880.469      -4095.200\n",
      "           230      -4095.200      -4880.469\n",
      "           240      -3185.500      -5517.448\n",
      "           250      -2179.010      -5986.782\n",
      "           260      -1106.313      -6274.210\n",
      "           270         -0.000      -6371.000\n",
      "           280       1106.313      -6274.210\n",
      "           290       2179.010      -5986.782\n",
      "           300       3185.500      -5517.448\n",
      "           310       4095.200      -4880.469\n",
      "           320       4880.469      -4095.200\n",
      "           330       5517.448      -3185.500\n",
      "           340       5986.782      -2179.010\n",
      "           350       6274.210      -1106.313\n",
      "           360       6371.000         -0.000\n",
      "---------------------------------------------\n"
     ]
    }
   ],
   "source": [
    "print(\"\")\n",
    "print(\"Homework #1 by Jinha Jung\")\n",
    "print(\"\")\n",
    "print(\"Table with circle coordinates\")\n",
    "print(\"\")\n",
    "print(\"Radius = %d km\" % (R))\n",
    "print(\"\")\n",
    "print(\"---------------------------------------------\")\n",
    "print(\"  alpha(degree)         X(km)          Y(km)\")\n",
    "for i in range(len(results)):\n",
    "    print(\"%14.0f %14.3f %14.3f\" % (results['alpha_deg'][i], results['x'][i], results['y'][i]))\n",
    "print(\"---------------------------------------------\")\n"
   ]
  },
  {
   "cell_type": "markdown",
   "metadata": {},
   "source": [
    "Now let's plot the graph"
   ]
  },
  {
   "cell_type": "code",
   "execution_count": 20,
   "metadata": {},
   "outputs": [
    {
     "data": {
      "text/plain": [
       "Text(0.5, 1.0, 'CE 597 Homework #1 - Jinha Jung')"
      ]
     },
     "execution_count": 20,
     "metadata": {},
     "output_type": "execute_result"
    },
    {
     "data": {
      "image/png": "[encoded data removed]",
      "text/plain": [
       "<Figure size 432x432 with 1 Axes>"
      ]
     },
     "metadata": {
      "needs_background": "light"
     },
     "output_type": "display_data"
    }
   ],
   "source": [
    "fig, ax = plt.subplots(figsize=(6,6))\n",
    "ax.plot(x,y, 'go')\n",
    "ax.axis('equal')\n",
    "ax.grid(True, alpha=0.4, linestyle='--')\n",
    "ax.set_xlabel('X (km)', fontsize=12, fontweight='bold')\n",
    "ax.set_ylabel('Y (km)', fontsize=12, fontweight='bold')\n",
    "ax.set_title('CE 597 Homework #1 - Jinha Jung', fontsize=16, fontweight=\"bold\")"
   ]
  },
  {
   "cell_type": "code",
   "execution_count": null,
   "metadata": {},
   "outputs": [],
   "source": []
  }
 ],
 "metadata": {
  "kernelspec": {
   "display_name": "geodesy",
   "language": "python",
   "name": "geodesy"
  },
  "language_info": {
   "codemirror_mode": {
    "name": "ipython",
    "version": 3
   },
   "file_extension": ".py",
   "mimetype": "text/x-python",
   "name": "python",
   "nbconvert_exporter": "python",
   "pygments_lexer": "ipython3",
   "version": "3.7.4"
  }
 },
 "nbformat": 4,
 "nbformat_minor": 2
}
