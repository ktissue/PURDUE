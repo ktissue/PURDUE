{
 "cells": [
  {
   "cell_type": "code",
   "execution_count": 1,
   "metadata": {},
   "outputs": [],
   "source": [
    "import numpy as np\n",
    "import pandas as pd\n",
    "import matplotlib.pyplot as plt\n",
    "import math\n",
    "\n",
    "%matplotlib inline"
   ]
  },
  {
   "cell_type": "markdown",
   "metadata": {},
   "source": [
    "Locations"
   ]
  },
  {
   "cell_type": "code",
   "execution_count": 2,
   "metadata": {},
   "outputs": [],
   "source": [
    "np_lmd = [0, 0, 0.00000]\n",
    "np_psi = [90, 0, 0.00000]\n",
    "np_h = 0\n",
    "\n",
    "sp_lmd = [0, 0, 0.00000]\n",
    "sp_psi = [-90, -0, -0.00000]\n",
    "sp_h = 0\n",
    "\n",
    "pob_lmd = [128, 34, 12.34567]\n",
    "pob_psi = [36, 12, 12.12345]\n",
    "pob_h = 0"
   ]
  },
  {
   "cell_type": "markdown",
   "metadata": {},
   "source": [
    "Generate random numbers with seeds to hold the values"
   ]
  },
  {
   "cell_type": "code",
   "execution_count": 3,
   "metadata": {},
   "outputs": [],
   "source": [
    "np.random.seed(1234567)\n",
    "lmd_dms = np.random.rand(8,3)\n",
    "psi_dms = np.random.rand(8,3)\n",
    "h = np.random.rand(8) * 50"
   ]
  },
  {
   "cell_type": "code",
   "execution_count": 4,
   "metadata": {},
   "outputs": [
    {
     "data": {
      "text/plain": [
       "1"
      ]
     },
     "execution_count": 4,
     "metadata": {},
     "output_type": "execute_result"
    }
   ],
   "source": [
    "h.ndim"
   ]
  },
  {
   "cell_type": "markdown",
   "metadata": {},
   "source": [
    "set the limits of the random values for each octant"
   ]
  },
  {
   "cell_type": "code",
   "execution_count": 5,
   "metadata": {},
   "outputs": [],
   "source": [
    "lmd_dms[:,0] = lmd_dms[:,0] * 90\n",
    "lmd_dms[:,1] = lmd_dms[:,1] * 60\n",
    "lmd_dms[:,2] = lmd_dms[:,2] * 60\n",
    "\n",
    "psi_dms[:,0] = psi_dms[:,0] * 90\n",
    "psi_dms[:,1] = psi_dms[:,1] * 60\n",
    "psi_dms[:,2] = psi_dms[:,2] * 60\n",
    "\n",
    "for i in range(4):\n",
    "    lmd_dms[i,0] = lmd_dms[i,0] + 90*i\n",
    "    lmd_dms[i+4,0] = lmd_dms[i+4,0] + 90*i\n",
    "    \n",
    "for i in range(4):\n",
    "    psi_dms[i+4,0] = -psi_dms[i+4,0]\n",
    "    psi_dms[i+4,1] = -psi_dms[i+4,1]\n",
    "    psi_dms[i+4,2] = -psi_dms[i+4,2]"
   ]
  },
  {
   "cell_type": "code",
   "execution_count": 6,
   "metadata": {},
   "outputs": [
    {
     "data": {
      "text/plain": [
       "array([[ 11.82532043,   4.65619355,  50.45446765],\n",
       "       [ 19.89054412,  45.17467735,  20.58138101],\n",
       "       [  0.87753527,  23.74246847,  12.55680256],\n",
       "       [ 42.12766926,  21.87602428,  35.70308455],\n",
       "       [-82.23606447, -29.83180644, -20.8813531 ],\n",
       "       [-32.67814354, -52.21732771, -23.08717613],\n",
       "       [-72.31770745, -31.58786116,  -2.18418222],\n",
       "       [-23.79417448,  -9.90960147, -14.2683992 ]])"
      ]
     },
     "execution_count": 6,
     "metadata": {},
     "output_type": "execute_result"
    }
   ],
   "source": [
    "psi_dms"
   ]
  },
  {
   "cell_type": "code",
   "execution_count": 7,
   "metadata": {},
   "outputs": [
    {
     "data": {
      "text/plain": [
       "(8, 3)"
      ]
     },
     "execution_count": 7,
     "metadata": {},
     "output_type": "execute_result"
    }
   ],
   "source": [
    "lmd_dms.shape"
   ]
  },
  {
   "cell_type": "code",
   "execution_count": 8,
   "metadata": {},
   "outputs": [
    {
     "data": {
      "text/plain": [
       "(8,)"
      ]
     },
     "execution_count": 8,
     "metadata": {},
     "output_type": "execute_result"
    }
   ],
   "source": [
    "h.shape"
   ]
  },
  {
   "cell_type": "markdown",
   "metadata": {},
   "source": [
    "stack the arrays into a single array for each lmd, psi, h"
   ]
  },
  {
   "cell_type": "code",
   "execution_count": 9,
   "metadata": {},
   "outputs": [],
   "source": [
    "lmd_dms = np.vstack((np_lmd, sp_lmd, pob_lmd, lmd_dms))\n",
    "psi_dms = np.vstack((np_psi, sp_psi, pob_psi, psi_dms))\n",
    "h = np.concatenate((np.array([np_h, sp_h, pob_h]), h))"
   ]
  },
  {
   "cell_type": "code",
   "execution_count": 10,
   "metadata": {},
   "outputs": [],
   "source": [
    "names = ['NP', 'SP', 'PoB', '1', '2', '3', '4', '5', '6', '7', '8']"
   ]
  },
  {
   "cell_type": "code",
   "execution_count": 11,
   "metadata": {},
   "outputs": [
    {
     "data": {
      "text/plain": [
       "(11,)"
      ]
     },
     "execution_count": 11,
     "metadata": {},
     "output_type": "execute_result"
    }
   ],
   "source": [
    "h.shape"
   ]
  },
  {
   "cell_type": "code",
   "execution_count": 12,
   "metadata": {},
   "outputs": [
    {
     "data": {
      "text/plain": [
       "array([[  0.        ,   0.        ,   0.        ],\n",
       "       [  0.        ,   0.        ,   0.        ],\n",
       "       [128.        ,  34.        ,  12.34567   ],\n",
       "       [ 21.33262516,   0.45890243,   1.1898185 ],\n",
       "       [118.17833568,   5.96727985,  11.71045753],\n",
       "       [198.65682198,   9.89587147,  42.71273752],\n",
       "       [272.88600059,  11.84217711,  57.87341732],\n",
       "       [ 51.65051206,  41.95365944,  58.47848528],\n",
       "       [148.89154252,  15.65209588,  11.78457593],\n",
       "       [257.53169898,  22.24354058,  22.13012886],\n",
       "       [318.86223821,  40.96791233,  49.37256375]])"
      ]
     },
     "execution_count": 12,
     "metadata": {},
     "output_type": "execute_result"
    }
   ],
   "source": [
    "lmd_dms"
   ]
  },
  {
   "cell_type": "markdown",
   "metadata": {},
   "source": [
    "Make pandas data frame"
   ]
  },
  {
   "cell_type": "code",
   "execution_count": 13,
   "metadata": {},
   "outputs": [],
   "source": [
    "sph = pd.DataFrame({\n",
    "    'name': names,\n",
    "    'lmd_dd': lmd_dms[:,0].astype(np.int),\n",
    "    'lmd_mm': lmd_dms[:,1].astype(np.int),\n",
    "    'lmd_ss': lmd_dms[:,2],\n",
    "    'psi_dd': psi_dms[:,0].astype(np.int),\n",
    "    'psi_mm': psi_dms[:,1].astype(np.int),\n",
    "    'psi_ss': psi_dms[:,2],\n",
    "    'h': h\n",
    "})"
   ]
  },
  {
   "cell_type": "code",
   "execution_count": 14,
   "metadata": {},
   "outputs": [
    {
     "data": {
      "text/html": [
       "<div>\n",
       "<style scoped>\n",
       "    .dataframe tbody tr th:only-of-type {\n",
       "        vertical-align: middle;\n",
       "    }\n",
       "\n",
       "    .dataframe tbody tr th {\n",
       "        vertical-align: top;\n",
       "    }\n",
       "\n",
       "    .dataframe thead th {\n",
       "        text-align: right;\n",
       "    }\n",
       "</style>\n",
       "<table border=\"1\" class=\"dataframe\">\n",
       "  <thead>\n",
       "    <tr style=\"text-align: right;\">\n",
       "      <th></th>\n",
       "      <th>name</th>\n",
       "      <th>lmd_dd</th>\n",
       "      <th>lmd_mm</th>\n",
       "      <th>lmd_ss</th>\n",
       "      <th>psi_dd</th>\n",
       "      <th>psi_mm</th>\n",
       "      <th>psi_ss</th>\n",
       "      <th>h</th>\n",
       "    </tr>\n",
       "  </thead>\n",
       "  <tbody>\n",
       "    <tr>\n",
       "      <th>0</th>\n",
       "      <td>NP</td>\n",
       "      <td>0</td>\n",
       "      <td>0</td>\n",
       "      <td>0.000000</td>\n",
       "      <td>90</td>\n",
       "      <td>0</td>\n",
       "      <td>0.000000</td>\n",
       "      <td>0.000000</td>\n",
       "    </tr>\n",
       "    <tr>\n",
       "      <th>1</th>\n",
       "      <td>SP</td>\n",
       "      <td>0</td>\n",
       "      <td>0</td>\n",
       "      <td>0.000000</td>\n",
       "      <td>-90</td>\n",
       "      <td>0</td>\n",
       "      <td>-0.000000</td>\n",
       "      <td>0.000000</td>\n",
       "    </tr>\n",
       "    <tr>\n",
       "      <th>2</th>\n",
       "      <td>PoB</td>\n",
       "      <td>128</td>\n",
       "      <td>34</td>\n",
       "      <td>12.345670</td>\n",
       "      <td>36</td>\n",
       "      <td>12</td>\n",
       "      <td>12.123450</td>\n",
       "      <td>0.000000</td>\n",
       "    </tr>\n",
       "    <tr>\n",
       "      <th>3</th>\n",
       "      <td>1</td>\n",
       "      <td>21</td>\n",
       "      <td>0</td>\n",
       "      <td>1.189819</td>\n",
       "      <td>11</td>\n",
       "      <td>4</td>\n",
       "      <td>50.454468</td>\n",
       "      <td>6.133314</td>\n",
       "    </tr>\n",
       "    <tr>\n",
       "      <th>4</th>\n",
       "      <td>2</td>\n",
       "      <td>118</td>\n",
       "      <td>5</td>\n",
       "      <td>11.710458</td>\n",
       "      <td>19</td>\n",
       "      <td>45</td>\n",
       "      <td>20.581381</td>\n",
       "      <td>34.131413</td>\n",
       "    </tr>\n",
       "    <tr>\n",
       "      <th>5</th>\n",
       "      <td>3</td>\n",
       "      <td>198</td>\n",
       "      <td>9</td>\n",
       "      <td>42.712738</td>\n",
       "      <td>0</td>\n",
       "      <td>23</td>\n",
       "      <td>12.556803</td>\n",
       "      <td>43.234554</td>\n",
       "    </tr>\n",
       "    <tr>\n",
       "      <th>6</th>\n",
       "      <td>4</td>\n",
       "      <td>272</td>\n",
       "      <td>11</td>\n",
       "      <td>57.873417</td>\n",
       "      <td>42</td>\n",
       "      <td>21</td>\n",
       "      <td>35.703085</td>\n",
       "      <td>4.451169</td>\n",
       "    </tr>\n",
       "    <tr>\n",
       "      <th>7</th>\n",
       "      <td>5</td>\n",
       "      <td>51</td>\n",
       "      <td>41</td>\n",
       "      <td>58.478485</td>\n",
       "      <td>-82</td>\n",
       "      <td>-29</td>\n",
       "      <td>-20.881353</td>\n",
       "      <td>5.234971</td>\n",
       "    </tr>\n",
       "    <tr>\n",
       "      <th>8</th>\n",
       "      <td>6</td>\n",
       "      <td>148</td>\n",
       "      <td>15</td>\n",
       "      <td>11.784576</td>\n",
       "      <td>-32</td>\n",
       "      <td>-52</td>\n",
       "      <td>-23.087176</td>\n",
       "      <td>49.110067</td>\n",
       "    </tr>\n",
       "    <tr>\n",
       "      <th>9</th>\n",
       "      <td>7</td>\n",
       "      <td>257</td>\n",
       "      <td>22</td>\n",
       "      <td>22.130129</td>\n",
       "      <td>-72</td>\n",
       "      <td>-31</td>\n",
       "      <td>-2.184182</td>\n",
       "      <td>10.893523</td>\n",
       "    </tr>\n",
       "    <tr>\n",
       "      <th>10</th>\n",
       "      <td>8</td>\n",
       "      <td>318</td>\n",
       "      <td>40</td>\n",
       "      <td>49.372564</td>\n",
       "      <td>-23</td>\n",
       "      <td>-9</td>\n",
       "      <td>-14.268399</td>\n",
       "      <td>3.426202</td>\n",
       "    </tr>\n",
       "  </tbody>\n",
       "</table>\n",
       "</div>"
      ],
      "text/plain": [
       "   name  lmd_dd  lmd_mm     lmd_ss  psi_dd  psi_mm     psi_ss          h\n",
       "0    NP       0       0   0.000000      90       0   0.000000   0.000000\n",
       "1    SP       0       0   0.000000     -90       0  -0.000000   0.000000\n",
       "2   PoB     128      34  12.345670      36      12  12.123450   0.000000\n",
       "3     1      21       0   1.189819      11       4  50.454468   6.133314\n",
       "4     2     118       5  11.710458      19      45  20.581381  34.131413\n",
       "5     3     198       9  42.712738       0      23  12.556803  43.234554\n",
       "6     4     272      11  57.873417      42      21  35.703085   4.451169\n",
       "7     5      51      41  58.478485     -82     -29 -20.881353   5.234971\n",
       "8     6     148      15  11.784576     -32     -52 -23.087176  49.110067\n",
       "9     7     257      22  22.130129     -72     -31  -2.184182  10.893523\n",
       "10    8     318      40  49.372564     -23      -9 -14.268399   3.426202"
      ]
     },
     "execution_count": 14,
     "metadata": {},
     "output_type": "execute_result"
    }
   ],
   "source": [
    "sph.head(11)"
   ]
  },
  {
   "cell_type": "markdown",
   "metadata": {},
   "source": [
    "Print the locations in DMS format"
   ]
  },
  {
   "cell_type": "code",
   "execution_count": 15,
   "metadata": {},
   "outputs": [
    {
     "name": "stdout",
     "output_type": "stream",
     "text": [
      "name  λ(deg)  λ(min)    λ(sec)   ψ(deg) ψ(min)   ψ(sec)     h(m)\n",
      "------------------------------------------------------------------\n",
      " NP      0       0     0.00000      90     0     0.00000    0.000\n",
      " SP      0       0     0.00000     -90     0    -0.00000    0.000\n",
      "PoB    128      34    12.34567      36    12    12.12345    0.000\n",
      "  1     21       0     1.18982      11     4    50.45447    6.133\n",
      "  2    118       5    11.71046      19    45    20.58138   34.131\n",
      "  3    198       9    42.71274       0    23    12.55680   43.235\n",
      "  4    272      11    57.87342      42    21    35.70308    4.451\n",
      "  5     51      41    58.47849     -82   -29   -20.88135    5.235\n",
      "  6    148      15    11.78458     -32   -52   -23.08718   49.110\n",
      "  7    257      22    22.13013     -72   -31    -2.18418   10.894\n",
      "  8    318      40    49.37256     -23    -9   -14.26840    3.426\n",
      "------------------------------------------------------------------\n"
     ]
    }
   ],
   "source": [
    "print(\"name  \\u03BB(deg)  \\u03BB(min)    \\u03BB(sec)   \\u03C8(deg) \\u03C8(min)   \\u03C8(sec)     h(m)\")\n",
    "print(\"------------------------------------------------------------------\")\n",
    "for index, row in sph.iterrows():\n",
    "    print(\"%3s %6d %7d %11.5f %7d %5d %11.5f %8.3f\" % (row['name'], row['lmd_dd'], \n",
    "                                                     row['lmd_mm'], row['lmd_ss'],\n",
    "                                                     row['psi_dd'], row['psi_mm'], \n",
    "                                                     row['psi_ss'], row['h']))\n",
    "print(\"------------------------------------------------------------------\")"
   ]
  },
  {
   "cell_type": "markdown",
   "metadata": {},
   "source": [
    "Create coordinate transformation function"
   ]
  },
  {
   "cell_type": "code",
   "execution_count": 16,
   "metadata": {},
   "outputs": [],
   "source": [
    "def sph2xyz(l,p,h, R = 6371000):\n",
    "    x = (R+h) * np.cos(p) * np.cos(l)\n",
    "    y = (R+h) * np.cos(p) * np.sin(l)\n",
    "    z = (R+h) * np.sin(p)\n",
    "    \n",
    "    return x,y,z"
   ]
  },
  {
   "cell_type": "markdown",
   "metadata": {},
   "source": [
    "Convert DMS to decimal degrees"
   ]
  },
  {
   "cell_type": "code",
   "execution_count": 17,
   "metadata": {},
   "outputs": [],
   "source": [
    "def dms2dd(dd, mm, ss):\n",
    "    return dd + mm/60.0 + ss/3600."
   ]
  },
  {
   "cell_type": "markdown",
   "metadata": {},
   "source": [
    "Make array for lambda and psi in decimal degrees"
   ]
  },
  {
   "cell_type": "code",
   "execution_count": 18,
   "metadata": {},
   "outputs": [],
   "source": [
    "x = np.zeros(11, dtype = np.float64)\n",
    "y = np.zeros(11, dtype = np.float64)\n",
    "z = np.zeros(11, dtype = np.float64)\n",
    "\n",
    "psi_ddd = np.zeros(11, dtype=np.float64)"
   ]
  },
  {
   "cell_type": "code",
   "execution_count": 19,
   "metadata": {},
   "outputs": [],
   "source": [
    "for index, row in sph.iterrows():\n",
    "    lmd_dd = dms2dd(row['lmd_dd'], row['lmd_mm'], row['lmd_ss'])\n",
    "    lmd_rad = lmd_dd * math.pi / 180.0\n",
    "    \n",
    "    psi_dd = dms2dd(row['psi_dd'], row['psi_mm'], row['psi_ss'])\n",
    "    psi_rad = psi_dd * math.pi / 180.0\n",
    "    \n",
    "    psi_ddd[index] = psi_dd\n",
    "    \n",
    "    x[index], y[index], z[index] = sph2xyz(lmd_rad, psi_rad, row['h'])"
   ]
  },
  {
   "cell_type": "code",
   "execution_count": 20,
   "metadata": {},
   "outputs": [],
   "source": [
    "xyz = pd.DataFrame({\n",
    "    'name': names,\n",
    "    'x': x,\n",
    "    'y': y,\n",
    "    'z': z\n",
    "})"
   ]
  },
  {
   "cell_type": "code",
   "execution_count": 21,
   "metadata": {},
   "outputs": [
    {
     "data": {
      "text/html": [
       "<div>\n",
       "<style scoped>\n",
       "    .dataframe tbody tr th:only-of-type {\n",
       "        vertical-align: middle;\n",
       "    }\n",
       "\n",
       "    .dataframe tbody tr th {\n",
       "        vertical-align: top;\n",
       "    }\n",
       "\n",
       "    .dataframe thead th {\n",
       "        text-align: right;\n",
       "    }\n",
       "</style>\n",
       "<table border=\"1\" class=\"dataframe\">\n",
       "  <thead>\n",
       "    <tr style=\"text-align: right;\">\n",
       "      <th></th>\n",
       "      <th>name</th>\n",
       "      <th>x</th>\n",
       "      <th>y</th>\n",
       "      <th>z</th>\n",
       "    </tr>\n",
       "  </thead>\n",
       "  <tbody>\n",
       "    <tr>\n",
       "      <th>0</th>\n",
       "      <td>NP</td>\n",
       "      <td>3.901112e-10</td>\n",
       "      <td>0.000000e+00</td>\n",
       "      <td>6.371000e+06</td>\n",
       "    </tr>\n",
       "    <tr>\n",
       "      <th>1</th>\n",
       "      <td>SP</td>\n",
       "      <td>3.901112e-10</td>\n",
       "      <td>0.000000e+00</td>\n",
       "      <td>-6.371000e+06</td>\n",
       "    </tr>\n",
       "    <tr>\n",
       "      <th>2</th>\n",
       "      <td>PoB</td>\n",
       "      <td>-3.205220e+06</td>\n",
       "      <td>4.019410e+06</td>\n",
       "      <td>3.763051e+06</td>\n",
       "    </tr>\n",
       "    <tr>\n",
       "      <th>3</th>\n",
       "      <td>1</td>\n",
       "      <td>5.836951e+06</td>\n",
       "      <td>2.240634e+06</td>\n",
       "      <td>1.224451e+06</td>\n",
       "    </tr>\n",
       "    <tr>\n",
       "      <th>4</th>\n",
       "      <td>2</td>\n",
       "      <td>-2.822972e+06</td>\n",
       "      <td>5.289938e+06</td>\n",
       "      <td>2.153477e+06</td>\n",
       "    </tr>\n",
       "    <tr>\n",
       "      <th>5</th>\n",
       "      <td>3</td>\n",
       "      <td>-6.053498e+06</td>\n",
       "      <td>-1.985825e+06</td>\n",
       "      <td>4.301253e+04</td>\n",
       "    </tr>\n",
       "    <tr>\n",
       "      <th>6</th>\n",
       "      <td>4</td>\n",
       "      <td>1.806700e+05</td>\n",
       "      <td>-4.704238e+06</td>\n",
       "      <td>4.292691e+06</td>\n",
       "    </tr>\n",
       "    <tr>\n",
       "      <th>7</th>\n",
       "      <td>5</td>\n",
       "      <td>5.161450e+05</td>\n",
       "      <td>6.535430e+05</td>\n",
       "      <td>-6.316343e+06</td>\n",
       "    </tr>\n",
       "    <tr>\n",
       "      <th>8</th>\n",
       "      <td>6</td>\n",
       "      <td>-4.550298e+06</td>\n",
       "      <td>2.815450e+06</td>\n",
       "      <td>-3.458077e+06</td>\n",
       "    </tr>\n",
       "    <tr>\n",
       "      <th>9</th>\n",
       "      <td>7</td>\n",
       "      <td>-4.184054e+05</td>\n",
       "      <td>-1.867675e+06</td>\n",
       "      <td>-6.076718e+06</td>\n",
       "    </tr>\n",
       "    <tr>\n",
       "      <th>10</th>\n",
       "      <td>8</td>\n",
       "      <td>4.399453e+06</td>\n",
       "      <td>-3.867684e+06</td>\n",
       "      <td>-2.505099e+06</td>\n",
       "    </tr>\n",
       "  </tbody>\n",
       "</table>\n",
       "</div>"
      ],
      "text/plain": [
       "   name             x             y             z\n",
       "0    NP  3.901112e-10  0.000000e+00  6.371000e+06\n",
       "1    SP  3.901112e-10  0.000000e+00 -6.371000e+06\n",
       "2   PoB -3.205220e+06  4.019410e+06  3.763051e+06\n",
       "3     1  5.836951e+06  2.240634e+06  1.224451e+06\n",
       "4     2 -2.822972e+06  5.289938e+06  2.153477e+06\n",
       "5     3 -6.053498e+06 -1.985825e+06  4.301253e+04\n",
       "6     4  1.806700e+05 -4.704238e+06  4.292691e+06\n",
       "7     5  5.161450e+05  6.535430e+05 -6.316343e+06\n",
       "8     6 -4.550298e+06  2.815450e+06 -3.458077e+06\n",
       "9     7 -4.184054e+05 -1.867675e+06 -6.076718e+06\n",
       "10    8  4.399453e+06 -3.867684e+06 -2.505099e+06"
      ]
     },
     "execution_count": 21,
     "metadata": {},
     "output_type": "execute_result"
    }
   ],
   "source": [
    "xyz.head(11)"
   ]
  },
  {
   "cell_type": "code",
   "execution_count": 22,
   "metadata": {},
   "outputs": [
    {
     "name": "stdout",
     "output_type": "stream",
     "text": [
      "name        X(m)            Y(m)           Z(m)\n",
      "----------------------------------------------------\n",
      " NP           0.000           0.000     6371000.000\n",
      " SP           0.000           0.000    -6371000.000\n",
      "PoB    -3205219.570     4019409.981     3763050.879\n",
      "  1     5836951.087     2240634.228     1224450.657\n",
      "  2    -2822972.262     5289937.547     2153477.249\n",
      "  3    -6053498.161    -1985825.228       43012.535\n",
      "  4      180670.036    -4704238.347     4292691.188\n",
      "  5      516145.010      653543.027    -6316342.577\n",
      "  6    -4550297.614     2815450.089    -3458077.383\n",
      "  7     -418405.421    -1867675.153    -6076718.377\n",
      "  8     4399452.827    -3867683.631    -2505099.361\n",
      "----------------------------------------------------\n"
     ]
    }
   ],
   "source": [
    "print(\"name        X(m)            Y(m)           Z(m)\")\n",
    "print(\"----------------------------------------------------\")\n",
    "for index, row in xyz.iterrows():\n",
    "    print(\"%3s %15.3f %15.3f %15.3f\" % (row['name'], row['x'], row['y'], row['z']))\n",
    "print(\"----------------------------------------------------\")"
   ]
  },
  {
   "cell_type": "code",
   "execution_count": 23,
   "metadata": {},
   "outputs": [],
   "source": [
    "sph2 = sph.copy()\n",
    "\n",
    "for index, row in sph2.iterrows():\n",
    "    sph2.at[index, 'lmd_ss'] += 1.5\n",
    "    sph2.at[index, 'psi_ss'] += 1.5\n",
    "    sph2.at[index, 'h'] += 50"
   ]
  },
  {
   "cell_type": "code",
   "execution_count": 24,
   "metadata": {},
   "outputs": [
    {
     "data": {
      "text/html": [
       "<div>\n",
       "<style scoped>\n",
       "    .dataframe tbody tr th:only-of-type {\n",
       "        vertical-align: middle;\n",
       "    }\n",
       "\n",
       "    .dataframe tbody tr th {\n",
       "        vertical-align: top;\n",
       "    }\n",
       "\n",
       "    .dataframe thead th {\n",
       "        text-align: right;\n",
       "    }\n",
       "</style>\n",
       "<table border=\"1\" class=\"dataframe\">\n",
       "  <thead>\n",
       "    <tr style=\"text-align: right;\">\n",
       "      <th></th>\n",
       "      <th>name</th>\n",
       "      <th>lmd_dd</th>\n",
       "      <th>lmd_mm</th>\n",
       "      <th>lmd_ss</th>\n",
       "      <th>psi_dd</th>\n",
       "      <th>psi_mm</th>\n",
       "      <th>psi_ss</th>\n",
       "      <th>h</th>\n",
       "    </tr>\n",
       "  </thead>\n",
       "  <tbody>\n",
       "    <tr>\n",
       "      <th>0</th>\n",
       "      <td>NP</td>\n",
       "      <td>0</td>\n",
       "      <td>0</td>\n",
       "      <td>1.500000</td>\n",
       "      <td>90</td>\n",
       "      <td>0</td>\n",
       "      <td>1.500000</td>\n",
       "      <td>50.000000</td>\n",
       "    </tr>\n",
       "    <tr>\n",
       "      <th>1</th>\n",
       "      <td>SP</td>\n",
       "      <td>0</td>\n",
       "      <td>0</td>\n",
       "      <td>1.500000</td>\n",
       "      <td>-90</td>\n",
       "      <td>0</td>\n",
       "      <td>1.500000</td>\n",
       "      <td>50.000000</td>\n",
       "    </tr>\n",
       "    <tr>\n",
       "      <th>2</th>\n",
       "      <td>PoB</td>\n",
       "      <td>128</td>\n",
       "      <td>34</td>\n",
       "      <td>13.845670</td>\n",
       "      <td>36</td>\n",
       "      <td>12</td>\n",
       "      <td>13.623450</td>\n",
       "      <td>50.000000</td>\n",
       "    </tr>\n",
       "    <tr>\n",
       "      <th>3</th>\n",
       "      <td>1</td>\n",
       "      <td>21</td>\n",
       "      <td>0</td>\n",
       "      <td>2.689819</td>\n",
       "      <td>11</td>\n",
       "      <td>4</td>\n",
       "      <td>51.954468</td>\n",
       "      <td>56.133314</td>\n",
       "    </tr>\n",
       "    <tr>\n",
       "      <th>4</th>\n",
       "      <td>2</td>\n",
       "      <td>118</td>\n",
       "      <td>5</td>\n",
       "      <td>13.210458</td>\n",
       "      <td>19</td>\n",
       "      <td>45</td>\n",
       "      <td>22.081381</td>\n",
       "      <td>84.131413</td>\n",
       "    </tr>\n",
       "    <tr>\n",
       "      <th>5</th>\n",
       "      <td>3</td>\n",
       "      <td>198</td>\n",
       "      <td>9</td>\n",
       "      <td>44.212738</td>\n",
       "      <td>0</td>\n",
       "      <td>23</td>\n",
       "      <td>14.056803</td>\n",
       "      <td>93.234554</td>\n",
       "    </tr>\n",
       "    <tr>\n",
       "      <th>6</th>\n",
       "      <td>4</td>\n",
       "      <td>272</td>\n",
       "      <td>11</td>\n",
       "      <td>59.373417</td>\n",
       "      <td>42</td>\n",
       "      <td>21</td>\n",
       "      <td>37.203085</td>\n",
       "      <td>54.451169</td>\n",
       "    </tr>\n",
       "    <tr>\n",
       "      <th>7</th>\n",
       "      <td>5</td>\n",
       "      <td>51</td>\n",
       "      <td>41</td>\n",
       "      <td>59.978485</td>\n",
       "      <td>-82</td>\n",
       "      <td>-29</td>\n",
       "      <td>-19.381353</td>\n",
       "      <td>55.234971</td>\n",
       "    </tr>\n",
       "    <tr>\n",
       "      <th>8</th>\n",
       "      <td>6</td>\n",
       "      <td>148</td>\n",
       "      <td>15</td>\n",
       "      <td>13.284576</td>\n",
       "      <td>-32</td>\n",
       "      <td>-52</td>\n",
       "      <td>-21.587176</td>\n",
       "      <td>99.110067</td>\n",
       "    </tr>\n",
       "    <tr>\n",
       "      <th>9</th>\n",
       "      <td>7</td>\n",
       "      <td>257</td>\n",
       "      <td>22</td>\n",
       "      <td>23.630129</td>\n",
       "      <td>-72</td>\n",
       "      <td>-31</td>\n",
       "      <td>-0.684182</td>\n",
       "      <td>60.893523</td>\n",
       "    </tr>\n",
       "    <tr>\n",
       "      <th>10</th>\n",
       "      <td>8</td>\n",
       "      <td>318</td>\n",
       "      <td>40</td>\n",
       "      <td>50.872564</td>\n",
       "      <td>-23</td>\n",
       "      <td>-9</td>\n",
       "      <td>-12.768399</td>\n",
       "      <td>53.426202</td>\n",
       "    </tr>\n",
       "  </tbody>\n",
       "</table>\n",
       "</div>"
      ],
      "text/plain": [
       "   name  lmd_dd  lmd_mm     lmd_ss  psi_dd  psi_mm     psi_ss          h\n",
       "0    NP       0       0   1.500000      90       0   1.500000  50.000000\n",
       "1    SP       0       0   1.500000     -90       0   1.500000  50.000000\n",
       "2   PoB     128      34  13.845670      36      12  13.623450  50.000000\n",
       "3     1      21       0   2.689819      11       4  51.954468  56.133314\n",
       "4     2     118       5  13.210458      19      45  22.081381  84.131413\n",
       "5     3     198       9  44.212738       0      23  14.056803  93.234554\n",
       "6     4     272      11  59.373417      42      21  37.203085  54.451169\n",
       "7     5      51      41  59.978485     -82     -29 -19.381353  55.234971\n",
       "8     6     148      15  13.284576     -32     -52 -21.587176  99.110067\n",
       "9     7     257      22  23.630129     -72     -31  -0.684182  60.893523\n",
       "10    8     318      40  50.872564     -23      -9 -12.768399  53.426202"
      ]
     },
     "execution_count": 24,
     "metadata": {},
     "output_type": "execute_result"
    }
   ],
   "source": [
    "sph2.head(11)"
   ]
  },
  {
   "cell_type": "code",
   "execution_count": 25,
   "metadata": {},
   "outputs": [],
   "source": [
    "x2 = np.zeros(11, dtype = np.float64)\n",
    "y2 = np.zeros(11, dtype = np.float64)\n",
    "z2 = np.zeros(11, dtype = np.float64)"
   ]
  },
  {
   "cell_type": "code",
   "execution_count": 26,
   "metadata": {},
   "outputs": [],
   "source": [
    "for index, row in sph2.iterrows():\n",
    "    lmd_dd = dms2dd(row['lmd_dd'], row['lmd_mm'], row['lmd_ss'])\n",
    "    lmd_rad = lmd_dd * math.pi / 180.0\n",
    "    \n",
    "    psi_dd = dms2dd(row['psi_dd'], row['psi_mm'], row['psi_ss'])\n",
    "    psi_rad = psi_dd * math.pi / 180.0\n",
    "    \n",
    "    x2[index], y2[index], z2[index] = sph2xyz(lmd_rad, psi_rad, row['h'])"
   ]
  },
  {
   "cell_type": "code",
   "execution_count": 27,
   "metadata": {},
   "outputs": [],
   "source": [
    "xyz2 = pd.DataFrame({\n",
    "    'name': names,\n",
    "    'x': x2,\n",
    "    'y': y2,\n",
    "    'z': z2\n",
    "})"
   ]
  },
  {
   "cell_type": "code",
   "execution_count": 28,
   "metadata": {},
   "outputs": [
    {
     "data": {
      "text/html": [
       "<div>\n",
       "<style scoped>\n",
       "    .dataframe tbody tr th:only-of-type {\n",
       "        vertical-align: middle;\n",
       "    }\n",
       "\n",
       "    .dataframe tbody tr th {\n",
       "        vertical-align: top;\n",
       "    }\n",
       "\n",
       "    .dataframe thead th {\n",
       "        text-align: right;\n",
       "    }\n",
       "</style>\n",
       "<table border=\"1\" class=\"dataframe\">\n",
       "  <thead>\n",
       "    <tr style=\"text-align: right;\">\n",
       "      <th></th>\n",
       "      <th>name</th>\n",
       "      <th>x</th>\n",
       "      <th>y</th>\n",
       "      <th>z</th>\n",
       "    </tr>\n",
       "  </thead>\n",
       "  <tbody>\n",
       "    <tr>\n",
       "      <th>0</th>\n",
       "      <td>NP</td>\n",
       "      <td>-4.633158e+01</td>\n",
       "      <td>-3.369328e-04</td>\n",
       "      <td>6.371050e+06</td>\n",
       "    </tr>\n",
       "    <tr>\n",
       "      <th>1</th>\n",
       "      <td>SP</td>\n",
       "      <td>4.633158e+01</td>\n",
       "      <td>3.369328e-04</td>\n",
       "      <td>-6.371050e+06</td>\n",
       "    </tr>\n",
       "    <tr>\n",
       "      <th>2</th>\n",
       "      <td>PoB</td>\n",
       "      <td>-3.205257e+06</td>\n",
       "      <td>4.019397e+06</td>\n",
       "      <td>3.763118e+06</td>\n",
       "    </tr>\n",
       "    <tr>\n",
       "      <th>3</th>\n",
       "      <td>1</td>\n",
       "      <td>5.836972e+06</td>\n",
       "      <td>2.240691e+06</td>\n",
       "      <td>1.224506e+06</td>\n",
       "    </tr>\n",
       "    <tr>\n",
       "      <th>4</th>\n",
       "      <td>2</td>\n",
       "      <td>-2.823026e+06</td>\n",
       "      <td>5.289945e+06</td>\n",
       "      <td>2.153538e+06</td>\n",
       "    </tr>\n",
       "    <tr>\n",
       "      <th>5</th>\n",
       "      <td>3</td>\n",
       "      <td>-6.053531e+06</td>\n",
       "      <td>-1.985885e+06</td>\n",
       "      <td>4.305920e+04</td>\n",
       "    </tr>\n",
       "    <tr>\n",
       "      <th>6</th>\n",
       "      <td>4</td>\n",
       "      <td>1.807045e+05</td>\n",
       "      <td>-4.704243e+06</td>\n",
       "      <td>4.292759e+06</td>\n",
       "    </tr>\n",
       "    <tr>\n",
       "      <th>7</th>\n",
       "      <td>5</td>\n",
       "      <td>5.161728e+05</td>\n",
       "      <td>6.535880e+05</td>\n",
       "      <td>-6.316386e+06</td>\n",
       "    </tr>\n",
       "    <tr>\n",
       "      <th>8</th>\n",
       "      <td>6</td>\n",
       "      <td>-4.550375e+06</td>\n",
       "      <td>2.815452e+06</td>\n",
       "      <td>-3.458066e+06</td>\n",
       "    </tr>\n",
       "    <tr>\n",
       "      <th>9</th>\n",
       "      <td>7</td>\n",
       "      <td>-4.184048e+05</td>\n",
       "      <td>-1.867736e+06</td>\n",
       "      <td>-6.076752e+06</td>\n",
       "    </tr>\n",
       "    <tr>\n",
       "      <th>10</th>\n",
       "      <td>8</td>\n",
       "      <td>4.399529e+06</td>\n",
       "      <td>-3.867694e+06</td>\n",
       "      <td>-2.505076e+06</td>\n",
       "    </tr>\n",
       "  </tbody>\n",
       "</table>\n",
       "</div>"
      ],
      "text/plain": [
       "   name             x             y             z\n",
       "0    NP -4.633158e+01 -3.369328e-04  6.371050e+06\n",
       "1    SP  4.633158e+01  3.369328e-04 -6.371050e+06\n",
       "2   PoB -3.205257e+06  4.019397e+06  3.763118e+06\n",
       "3     1  5.836972e+06  2.240691e+06  1.224506e+06\n",
       "4     2 -2.823026e+06  5.289945e+06  2.153538e+06\n",
       "5     3 -6.053531e+06 -1.985885e+06  4.305920e+04\n",
       "6     4  1.807045e+05 -4.704243e+06  4.292759e+06\n",
       "7     5  5.161728e+05  6.535880e+05 -6.316386e+06\n",
       "8     6 -4.550375e+06  2.815452e+06 -3.458066e+06\n",
       "9     7 -4.184048e+05 -1.867736e+06 -6.076752e+06\n",
       "10    8  4.399529e+06 -3.867694e+06 -2.505076e+06"
      ]
     },
     "execution_count": 28,
     "metadata": {},
     "output_type": "execute_result"
    }
   ],
   "source": [
    "xyz2.head(11)"
   ]
  },
  {
   "cell_type": "code",
   "execution_count": 29,
   "metadata": {},
   "outputs": [
    {
     "name": "stdout",
     "output_type": "stream",
     "text": [
      "name        X(m)            Y(m)           Z(m)\n",
      "----------------------------------------------------\n",
      " NP         -46.332          -0.000     6371050.000\n",
      " SP          46.332           0.000    -6371050.000\n",
      "PoB    -3205256.893     4019396.820     3763117.797\n",
      "  1     5836972.288     2240691.069     1224505.734\n",
      "  2    -2823025.513     5289944.716     2153537.754\n",
      "  3    -6053530.930    -1985884.737       43059.203\n",
      "  4      180704.466    -4704242.757     4292759.112\n",
      "  5      516172.777      653587.958    -6316386.091\n",
      "  6    -4550375.185     2815452.326    -3458065.608\n",
      "  7     -418404.783    -1867735.976    -6076752.148\n",
      "  8     4399529.163    -3867694.019    -2505076.421\n",
      "----------------------------------------------------\n"
     ]
    }
   ],
   "source": [
    "print(\"name        X(m)            Y(m)           Z(m)\")\n",
    "print(\"----------------------------------------------------\")\n",
    "for index, row in xyz2.iterrows():\n",
    "    print(\"%3s %15.3f %15.3f %15.3f\" % (row['name'], row['x'], row['y'], row['z']))\n",
    "print(\"----------------------------------------------------\")"
   ]
  },
  {
   "cell_type": "code",
   "execution_count": 30,
   "metadata": {},
   "outputs": [],
   "source": [
    "dx = np.zeros(11, dtype = np.float64)\n",
    "dy = np.zeros(11, dtype = np.float64)\n",
    "dz = np.zeros(11, dtype = np.float64)"
   ]
  },
  {
   "cell_type": "code",
   "execution_count": 31,
   "metadata": {},
   "outputs": [],
   "source": [
    "for i in range(11):\n",
    "    dx[i] = xyz2.at[i, 'x'] - xyz.at[i, 'x']\n",
    "    dy[i] = xyz2.at[i, 'y'] - xyz.at[i, 'y']\n",
    "    dz[i] = xyz2.at[i, 'z'] - xyz.at[i, 'z']"
   ]
  },
  {
   "cell_type": "code",
   "execution_count": 32,
   "metadata": {},
   "outputs": [
    {
     "name": "stdout",
     "output_type": "stream",
     "text": [
      "     -46.332       -0.000       50.000\n",
      "      46.332        0.000      -50.000\n",
      "     -37.323      -13.161       66.919\n",
      "      21.201       56.841       55.077\n",
      "     -53.251        7.170       60.505\n",
      "     -32.769      -59.510       46.668\n",
      "      34.430       -4.410       67.925\n",
      "      27.767       44.931      -43.515\n",
      "     -77.571        2.236       11.774\n",
      "       0.638      -60.823      -33.771\n",
      "      76.336      -10.388       22.940\n"
     ]
    }
   ],
   "source": [
    "for i in range(11):\n",
    "    print(\"%12.3f %12.3f %12.3f\" % (dx[i], dy[i], dz[i]))"
   ]
  },
  {
   "cell_type": "code",
   "execution_count": 33,
   "metadata": {},
   "outputs": [],
   "source": [
    "xyz_diff = np.zeros(11, dtype=np.float64)\n",
    "\n",
    "for i in range(11):\n",
    "    xyz_diff[i] = np.sqrt(dx[i]**2 + dy[i]**2 +dz[i]**2)"
   ]
  },
  {
   "cell_type": "code",
   "execution_count": 34,
   "metadata": {},
   "outputs": [
    {
     "data": {
      "text/plain": [
       "array([68.16596468, 68.16596468, 77.74512087, 81.93846982, 80.91961714,\n",
       "       82.42061516, 76.28018282, 68.43450579, 78.49109213, 69.57258212,\n",
       "       80.38236319])"
      ]
     },
     "execution_count": 34,
     "metadata": {},
     "output_type": "execute_result"
    }
   ],
   "source": [
    "xyz_diff"
   ]
  },
  {
   "cell_type": "code",
   "execution_count": 35,
   "metadata": {},
   "outputs": [
    {
     "data": {
      "text/plain": [
       "array([90.        , 90.        , 36.20336763, 11.0806818 , 19.75571705,\n",
       "        0.38682133, 42.35991752, 82.48913371, 32.87307977, 72.51727338,\n",
       "       23.15396344])"
      ]
     },
     "execution_count": 35,
     "metadata": {},
     "output_type": "execute_result"
    }
   ],
   "source": [
    "np.absolute(psi_ddd)"
   ]
  },
  {
   "cell_type": "code",
   "execution_count": 36,
   "metadata": {},
   "outputs": [
    {
     "data": {
      "text/plain": [
       "[<matplotlib.lines.Line2D at 0x120142bd0>]"
      ]
     },
     "execution_count": 36,
     "metadata": {},
     "output_type": "execute_result"
    },
    {
     "data": {
      "image/png": "[encoded data removed]",
      "text/plain": [
       "<Figure size 432x288 with 1 Axes>"
      ]
     },
     "metadata": {
      "needs_background": "light"
     },
     "output_type": "display_data"
    }
   ],
   "source": [
    "plt.plot(np.absolute(psi_ddd), xyz_diff, 'g.')"
   ]
  },
  {
   "cell_type": "code",
   "execution_count": null,
   "metadata": {},
   "outputs": [],
   "source": []
  }
 ],
 "metadata": {
  "kernelspec": {
   "display_name": "geodesy",
   "language": "python",
   "name": "geodesy"
  },
  "language_info": {
   "codemirror_mode": {
    "name": "ipython",
    "version": 3
   },
   "file_extension": ".py",
   "mimetype": "text/x-python",
   "name": "python",
   "nbconvert_exporter": "python",
   "pygments_lexer": "ipython3",
   "version": "3.7.4"
  }
 },
 "nbformat": 4,
 "nbformat_minor": 2
}
