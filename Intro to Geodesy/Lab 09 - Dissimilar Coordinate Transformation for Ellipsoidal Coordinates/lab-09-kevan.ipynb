{
 "cells": [
  {
   "cell_type": "markdown",
   "metadata": {},
   "source": [
    "# CE597 - Mapping Projection and Geometric Geodesy"
   ]
  },
  {
   "cell_type": "markdown",
   "metadata": {},
   "source": [
    "## Lab 9 - Dissimilar Coordinate Transformation for Ellipsoidal Coordinates"
   ]
  },
  {
   "cell_type": "markdown",
   "metadata": {},
   "source": [
    "*Kevan Tissue*  \n",
    "*Geomatics Engineering*  \n",
    "*Lyles School of Civil Engineering*  \n",
    "*Purdue University*"
   ]
  },
  {
   "cell_type": "markdown",
   "metadata": {},
   "source": [
    "________"
   ]
  },
  {
   "cell_type": "markdown",
   "metadata": {},
   "source": [
    "**Importing the necessary packages**"
   ]
  },
  {
   "cell_type": "code",
   "execution_count": 1,
   "metadata": {},
   "outputs": [],
   "source": [
    "import math\n",
    "import numpy as np\n",
    "import pandas as pd\n",
    "import matplotlib.pyplot as plt\n",
    "\n",
    "# Plot figures inside the notebook\n",
    "%matplotlib inline"
   ]
  },
  {
   "cell_type": "markdown",
   "metadata": {},
   "source": [
    "**Radian/Degrees Conversions**"
   ]
  },
  {
   "cell_type": "code",
   "execution_count": 2,
   "metadata": {},
   "outputs": [],
   "source": [
    "rad = math.pi/180\n",
    "deg = 180/math.pi"
   ]
  },
  {
   "cell_type": "markdown",
   "metadata": {},
   "source": [
    "**Earth's Radius**  \n",
    "*(Assuming that the Earth is sphere and the radius of the Earth is 6371 km)*"
   ]
  },
  {
   "cell_type": "code",
   "execution_count": 3,
   "metadata": {},
   "outputs": [],
   "source": [
    "R = 6371000 # meters"
   ]
  },
  {
   "cell_type": "markdown",
   "metadata": {},
   "source": [
    "-----"
   ]
  },
  {
   "cell_type": "markdown",
   "metadata": {},
   "source": [
    "## $\\blacktriangleright$ <span style=\"color:limegreen\">*Functions*<span>"
   ]
  },
  {
   "cell_type": "markdown",
   "metadata": {},
   "source": [
    "**DMS $\\rightarrow$ Decimal Degrees**"
   ]
  },
  {
   "cell_type": "code",
   "execution_count": 4,
   "metadata": {},
   "outputs": [],
   "source": [
    "def dms2dd(dd, mm, ss):\n",
    "    \"\"\"\n",
    "    A function that will convert degree minute second (DMS) format into decimal degree format\n",
    "    \n",
    "    Inputs\n",
    "    -----\n",
    "    dd: spherical coordinate value: degrees (integer)\n",
    "    mm:spherical coordinate value: minutes (integer)\n",
    "    ss: spherical coordinate value: seconds (floating number)\n",
    "    \n",
    "    Output\n",
    "    ------\n",
    "    calculated decimal degree value (floating number)\n",
    "    \"\"\"\n",
    "    return dd + mm/60 + ss/3600"
   ]
  },
  {
   "cell_type": "markdown",
   "metadata": {},
   "source": [
    "**Decimal Degrees $\\rightarrow$ DMS**"
   ]
  },
  {
   "cell_type": "code",
   "execution_count": 5,
   "metadata": {},
   "outputs": [],
   "source": [
    "def dd2dms(dec_deg):\n",
    "    \"\"\"\n",
    "    A function that will convert decimal degree format into degree minute second (DMS) format \n",
    "    \n",
    "    Inputs\n",
    "    -----\n",
    "    decimal degree value (floating number)\n",
    "    \n",
    "    Output\n",
    "    ------\n",
    "    dd: spherical coordinate value: degrees (integer)\n",
    "    mm:spherical coordinate value: minutes (integer)\n",
    "    ss: spherical coordinate value: seconds (floating number)\n",
    "    \"\"\"\n",
    "    \n",
    "    dd = int(dec_deg)\n",
    "    mmfloat = (dec_deg - dd) * 60\n",
    "    mm = int(mmfloat)\n",
    "    ss = (mmfloat - mm) * 60\n",
    "    \n",
    "    return dd, mm, ss"
   ]
  },
  {
   "cell_type": "markdown",
   "metadata": {},
   "source": [
    "**Spherical $\\rightarrow$ Cartesian**"
   ]
  },
  {
   "cell_type": "code",
   "execution_count": 6,
   "metadata": {},
   "outputs": [],
   "source": [
    "def sph2xyz(l,p,h, R = 6371000):\n",
    "    \"\"\"\n",
    "    Function that converts geocentric earth-fixed spherical coordinates \n",
    "    into geocentric earth-fixed cartesian coordinates\n",
    "    \n",
    "    Input\n",
    "    -----\n",
    "    l: lambda, longitude (units: radians)\n",
    "    p: psi, latitude (units: radians)\n",
    "    h: height above sphere (units: meters)\n",
    "    \n",
    "    Output\n",
    "    ------\n",
    "    x,y,z: cartesian coordinates (units: meters)\n",
    "    \"\"\"\n",
    "    x = (R+h) * np.cos(p) * np.cos(l)\n",
    "    y = (R+h) * np.cos(p) * np.sin(l)\n",
    "    z = (R+h) * np.sin(p)\n",
    "    \n",
    "    return x,y,z"
   ]
  },
  {
   "cell_type": "markdown",
   "metadata": {},
   "source": [
    "**Cartesian $\\rightarrow$ Spherical**"
   ]
  },
  {
   "cell_type": "code",
   "execution_count": 7,
   "metadata": {},
   "outputs": [],
   "source": [
    "def xyz2sph(x,y,z, R = 6371000):\n",
    "    \"\"\"\n",
    "    Function that converts geocentric earth-fixed cartesian coordinates into \n",
    "    geocentric earth-fixed spherical coordinates\n",
    "    \n",
    "    Input\n",
    "    -----\n",
    "    x,y,z: cartesian coordinates (units: meters)\n",
    "    \n",
    "    Output\n",
    "    ------\n",
    "    lmd: longitude (units: radians)\n",
    "    psi: latitude (units: radians)\n",
    "    h: height above sphere (units: meters)\n",
    "    \"\"\"\n",
    "    lmd = np.arctan2(y, x) * deg\n",
    "    psi = np.arctan2(z, math.sqrt(x**2 + y**2)) * deg\n",
    "    h = math.sqrt(x**2 + y**2 + z**2) - R\n",
    "    \n",
    "    return lmd, psi, h"
   ]
  },
  {
   "cell_type": "markdown",
   "metadata": {},
   "source": [
    "------"
   ]
  },
  {
   "cell_type": "markdown",
   "metadata": {},
   "source": [
    "# <span style=\"color:blue\">*PART 1 - Creating Input File*<span>"
   ]
  },
  {
   "cell_type": "markdown",
   "metadata": {},
   "source": [
    "##### Original Data Frame: 8 Points (1 from each octant)"
   ]
  },
  {
   "cell_type": "code",
   "execution_count": 8,
   "metadata": {},
   "outputs": [],
   "source": [
    "# Reading in the pickle file (Spherical Coordinates in DMS format)\n",
    "sph_dms = pd.read_pickle(\"./sph_dms.pkl\")\n",
    "\n",
    "# Dropping unnecessary rows from data frame\n",
    "sph_dms = sph_dms.drop([0,1,2])"
   ]
  },
  {
   "cell_type": "markdown",
   "metadata": {},
   "source": [
    "##### Q 94 (National Geodetic Survey)"
   ]
  },
  {
   "cell_type": "code",
   "execution_count": 9,
   "metadata": {},
   "outputs": [],
   "source": [
    "# Q94 from NGS Datasheet\n",
    "q94lon = [-86, -55, -52.80697] # Longitude\n",
    "q94lat = [40, 25, 00.66256] # Latitude\n",
    "q94h = 152.015  # Height(m)\n",
    "\n",
    "# Putting coordinates into arrays\n",
    "q94lmd_dms = np.array([q94lon])\n",
    "q94psi_dms = np.array([q94lat])\n",
    "q94h = np.array([q94h])\n",
    "\n",
    "# Creating Q94 data frame\n",
    "q94 = pd.DataFrame({\n",
    "    'Name': 'Q 94 (NGS)',\n",
    "    '$\\lambda$dd': q94lmd_dms[:,0].astype(np.int),\n",
    "    '$\\lambda$mm': q94lmd_dms[:,1].astype(np.int),\n",
    "    '$\\lambda$ss.sssss': q94lmd_dms[:,2],\n",
    "    '$\\psi$dd': q94psi_dms[:,0].astype(np.int),\n",
    "    '$\\psi$mm': q94psi_dms[:,1].astype(np.int),\n",
    "    '$\\psi$ss.sssss': q94psi_dms[:,2],\n",
    "    '$h$ (m)': q94h\n",
    "})"
   ]
  },
  {
   "cell_type": "markdown",
   "metadata": {},
   "source": [
    "##### Adding Q 94 to Original Data Frame"
   ]
  },
  {
   "cell_type": "code",
   "execution_count": 10,
   "metadata": {},
   "outputs": [],
   "source": [
    "# Appending Q94 to original data frame\n",
    "sph_dms = sph_dms.append(q94, ignore_index = True) "
   ]
  },
  {
   "cell_type": "markdown",
   "metadata": {},
   "source": [
    "##### Printing the Spherical Coordinates in DMS"
   ]
  },
  {
   "cell_type": "code",
   "execution_count": 11,
   "metadata": {},
   "outputs": [
    {
     "name": "stdout",
     "output_type": "stream",
     "text": [
      "\n",
      "Spherical Coordinates (DMS Format)\n",
      "\n",
      "------------------------------------------------------------------------------------------------\n",
      "                  Name      λ(deg)  λ(min)    λ(sec)     ψ(deg) ψ(min)    ψ(sec)         h(m)\n",
      "------------------------------------------------------------------------------------------------\n",
      "         Eiffel Tower (1)      2     17      40.20111      48     51     29.64298       34.442\n",
      "           Angkor Wat (2)    103     52       0.43521      13     24     45.08764       64.922\n",
      "               Denali (3)   -151      0     -26.64532      63      4     10.20103     6189.878\n",
      "      Purdue Fountain (4)    -86    -54     -49.61418      40     25     43.10224      189.890\n",
      "  Cradle of Humankind (5)     27     46       2.57003     -25    -55    -31.39308     1481.633\n",
      "   Sydney Opera House (6)    151     12      51.01352     -33    -51    -31.09981        3.962\n",
      "             Rapa Nui (7)   -109     -6     -16.81564     -35    -36     -3.16718      506.882\n",
      "       Mount Fitz Roy (8)    -73     -2     -35.60651     -49    -16    -16.61136     3404.921\n",
      "               Q 94 (NGS)    -86    -55     -52.80697      40     25      0.66256      152.015\n",
      "------------------------------------------------------------------------------------------------\n"
     ]
    }
   ],
   "source": [
    "print()\n",
    "print(\"Spherical Coordinates (DMS Format)\")\n",
    "print()\n",
    "print(\"------------------------------------------------------------------------------------------------\")\n",
    "print(\"                  Name      \\u03BB(deg)  \\u03BB(min)    \\u03BB(sec)     \\u03C8(deg) \\u03C8(min)    \\u03C8(sec)         h(m)\")\n",
    "print(\"------------------------------------------------------------------------------------------------\")\n",
    "for index, row in sph_dms.iterrows():\n",
    "    print(\"%25s %6d %6d %13.5f %7d %6d %12.5f %12.3f\" % (row['Name'], row['$\\lambda$dd'], \n",
    "                                                     row['$\\lambda$mm'], row['$\\lambda$ss.sssss'],\n",
    "                                                     row['$\\psi$dd'], row['$\\psi$mm'], \n",
    "                                                     row['$\\psi$ss.sssss'], row['$h$ (m)']))\n",
    "print(\"------------------------------------------------------------------------------------------------\")"
   ]
  },
  {
   "cell_type": "markdown",
   "metadata": {},
   "source": [
    "**Preparing data frame for output file**"
   ]
  },
  {
   "cell_type": "code",
   "execution_count": 12,
   "metadata": {},
   "outputs": [],
   "source": [
    "# Point IDs\n",
    "ptIDs = np.array(['1', '2', '3', '4', '5', '6', '7', '8', 'Q94'])\n",
    "\n",
    "# Dropping \"Name\" column\n",
    "sph_dms = sph_dms.drop(columns=['Name'])\n",
    "\n",
    "# Adding \"point ID\" column\n",
    "sph_dms.insert(loc=0, column='point ID', value=ptIDs)\n",
    "\n",
    "# Renaming \"psi\" to \"phi\"\n",
    "sph_dms = sph_dms.rename(columns={\"$\\psi$dd\": \"$\\phi$dd\", \"$\\psi$mm\": \"$\\phi$mm\", \"$\\psi$ss.sssss\": \"$\\phi$ss.sssss\"})"
   ]
  },
  {
   "cell_type": "markdown",
   "metadata": {},
   "source": [
    "##### Writing DataFrame to CSV file"
   ]
  },
  {
   "cell_type": "code",
   "execution_count": 13,
   "metadata": {},
   "outputs": [],
   "source": [
    "sph_dms.to_csv(path_or_buf='inputFile.csv', index=False)"
   ]
  },
  {
   "cell_type": "markdown",
   "metadata": {},
   "source": [
    "##### Reading in CSV file as DataFrame"
   ]
  },
  {
   "cell_type": "code",
   "execution_count": 14,
   "metadata": {},
   "outputs": [],
   "source": [
    "ell_dms = pd.read_csv('inputFile.csv')"
   ]
  },
  {
   "cell_type": "markdown",
   "metadata": {},
   "source": [
    "------"
   ]
  },
  {
   "cell_type": "markdown",
   "metadata": {},
   "source": [
    "# <span style=\"color:blue\">*PART 2 - Ellipsoidal Coordinates → Geocentric Cartesian Coordinates*<span>"
   ]
  },
  {
   "cell_type": "markdown",
   "metadata": {},
   "source": [
    "##### Ellipsoidal Coordinates $\\rightarrow$ Cartesian Coordinates (NAD 83)"
   ]
  },
  {
   "cell_type": "code",
   "execution_count": 15,
   "metadata": {},
   "outputs": [],
   "source": [
    "def ell2xyz(l, p, h):\n",
    "    \"\"\"\n",
    "    Function that converts ellipsoidal coordinates into geocentric earth-fixed cartesian coordinates\n",
    "    \n",
    "    Input\n",
    "    -----\n",
    "    l: lambda, ellipsoidal longitude (units: decimal degrees)\n",
    "    p: phi, ellipsoidal latitude (units: decimal degrees))\n",
    "    h: height above ellipsoid (units: meters)\n",
    "    \n",
    "    Output\n",
    "    ------\n",
    "    x,y,z: cartesian coordinates (units: meters)\n",
    "    \"\"\"\n",
    "    lmd = l * rad\n",
    "    phi = p * rad\n",
    "    \n",
    "    # Semi-major Axis\n",
    "    a = 6378137  #meters\n",
    "\n",
    "    # Flattening Factor\n",
    "    f = 1/298.257222101\n",
    "    \n",
    "    # Semi-minor Axis\n",
    "    b = a - (f * a)\n",
    "    \n",
    "    # First Eccentricity\n",
    "    e = np.sqrt((a**2 - b**2) / a**2)\n",
    "    \n",
    "    W = np.sqrt(1 - e**2 * np.sin(phi)**2)\n",
    "\n",
    "    # Radius of Curvature in the Prime Vertical\n",
    "    N = a / W\n",
    "\n",
    "    x = (N + h) * np.cos(phi) * np.cos(lmd)\n",
    "    y = (N + h) * np.cos(phi) * np.sin(lmd)\n",
    "    z = (N + h) * np.sin(phi) - N * e**2 * np.sin(phi)\n",
    "    \n",
    "    return x, y, z"
   ]
  },
  {
   "cell_type": "markdown",
   "metadata": {},
   "source": [
    "**Converting from DMS to Decimal Degrees**"
   ]
  },
  {
   "cell_type": "code",
   "execution_count": 16,
   "metadata": {},
   "outputs": [],
   "source": [
    "# Initializing Arrays\n",
    "lmd = np.zeros(9, dtype = np.float64)\n",
    "phi = np.zeros(9, dtype = np.float64)\n",
    "h = np.zeros(9, dtype = np.float64)\n",
    "\n",
    "# Applying conversion\n",
    "for index, row in ell_dms.iterrows():\n",
    "    lmd[index] = dms2dd(row['$\\lambda$dd'], row['$\\lambda$mm'], row['$\\lambda$ss.sssss'])\n",
    "    phi[index] = dms2dd(row['$\\phi$dd'], row['$\\phi$mm'], row['$\\phi$ss.sssss'])\n",
    "    h[index] = row['$h$ (m)']"
   ]
  },
  {
   "cell_type": "markdown",
   "metadata": {},
   "source": [
    "**Converting from Ellipsoidal Coordinates to Cartesian Coordinates**"
   ]
  },
  {
   "cell_type": "code",
   "execution_count": 17,
   "metadata": {},
   "outputs": [],
   "source": [
    "# Applying conversion\n",
    "x, y, z = ell2xyz(lmd, phi, h)\n",
    "\n",
    "# Creating new data frame\n",
    "ell = ell_dms\n",
    "\n",
    "# Adding cartesian coordinates to data frame\n",
    "ell['X (m)'] = x\n",
    "ell['Y (m)'] = y\n",
    "ell['Z (m)'] = z"
   ]
  },
  {
   "cell_type": "markdown",
   "metadata": {},
   "source": [
    "##### Printing Ellipsoidal Coordinates → Geocentric Cartesian Coordinates"
   ]
  },
  {
   "cell_type": "code",
   "execution_count": 18,
   "metadata": {},
   "outputs": [
    {
     "name": "stdout",
     "output_type": "stream",
     "text": [
      "\n",
      "Ellipsoidal Coordinates → Geocentric Cartesian Coordinates\n",
      "\n",
      "------------------------------------------------------------------------------------------------------------------\n",
      " ptID  λ(deg)  λ(min)   λ(sec)    ϕ(deg) ϕ(min)    ϕ(sec)      h(m)         X(m)           Y(m)            Z(m)\n",
      "------------------------------------------------------------------------------------------------------------------\n",
      "   1      2     17     40.20111     48     51     29.64298     34.442    4200972.337     168324.588    4780226.846\n",
      "   2    103     52      0.43521     13     24     45.08764     64.922   -1487208.423    6024503.840    1469851.713\n",
      "   3   -151      0    -26.64532     63      4     10.20103   6189.878   -2535912.202   -1405250.874    5669009.472\n",
      "   4    -86    -54    -49.61418     40     25     43.10224    189.890     261769.983   -4855070.406    4114454.279\n",
      "   5     27     46      2.57003    -25    -55    -31.39308   1481.633    5080145.233    2674761.647   -2772277.761\n",
      "   6    151     12     51.01352    -33    -51    -31.09981      3.962   -4646821.594    2553115.399   -3533438.711\n",
      "   7   -109     -6    -16.81564    -35    -36     -3.16718    506.882   -1699418.629   -4906334.551   -3692569.461\n",
      "   8    -73     -2    -35.60651    -49    -16    -16.61136   3404.921    1216718.010   -3990469.816   -4812878.209\n",
      " Q94    -86    -55    -52.80697     40     25      0.66256    152.015     260326.434   -4855969.213    4113433.130\n",
      "------------------------------------------------------------------------------------------------------------------\n"
     ]
    }
   ],
   "source": [
    "print()\n",
    "print(\"Ellipsoidal Coordinates → Geocentric Cartesian Coordinates\")\n",
    "print()\n",
    "print(\"------------------------------------------------------------------------------------------------------------------\")\n",
    "print(\" ptID  \\u03BB(deg)  \\u03BB(min)   \\u03BB(sec)    \\u03D5(deg) \\u03D5(min)    \\u03D5(sec)      h(m)         X(m)           Y(m)            Z(m)\")\n",
    "print(\"------------------------------------------------------------------------------------------------------------------\")\n",
    "for index, row in ell.iterrows():\n",
    "    print(\"%4s %6d %6d %12.5f %6d %6d %12.5f %10.3f %14.3f %14.3f %14.3f\" % (row['point ID'], row['$\\lambda$dd'], \n",
    "                                                     row['$\\lambda$mm'], row['$\\lambda$ss.sssss'],\n",
    "                                                     row['$\\phi$dd'], row['$\\phi$mm'], row['$\\phi$ss.sssss'], \n",
    "                                                                              row['$h$ (m)'], row['X (m)'], \n",
    "                                                                              row['Y (m)'], row['Z (m)']))\n",
    "print(\"------------------------------------------------------------------------------------------------------------------\")"
   ]
  },
  {
   "cell_type": "markdown",
   "metadata": {},
   "source": [
    "------"
   ]
  },
  {
   "cell_type": "markdown",
   "metadata": {},
   "source": [
    "# <span style=\"color:blue\">*PART 3 - Geocentric Cartesian → Ellipsoidal (using exact value)*<span>"
   ]
  },
  {
   "cell_type": "markdown",
   "metadata": {},
   "source": [
    "##### Cartesian Coordinates $\\rightarrow$ Ellipsoidal Coordinates (NAD 83)"
   ]
  },
  {
   "cell_type": "code",
   "execution_count": 19,
   "metadata": {},
   "outputs": [],
   "source": [
    "def xyz2ell(x, y, z):\n",
    "    \"\"\"\n",
    "    Function that converts geocentric earth-fixed cartesian coordinates into ellipsoidal coordinates\n",
    "    \n",
    "    Input\n",
    "    -----\n",
    "    x,y,z: cartesian coordinates (units: meters)\n",
    "\n",
    "    Output\n",
    "    ------\n",
    "    l: lambda, ellipsoidal longitude (units: radians)\n",
    "    p: phi, ellipsoidal latitude (units: radians)\n",
    "    h: height above ellipsoid (units: meters)\n",
    "    \"\"\"\n",
    "    # Semi-major Axis\n",
    "    a = 6378137  #meters\n",
    "\n",
    "    # Flattening Factor\n",
    "    f = 1/298.257222101\n",
    "    \n",
    "    # Semi-minor Axis\n",
    "    b = a - (f * a)\n",
    "    \n",
    "    # First Eccentricity\n",
    "    e = np.sqrt((a**2 - b**2) / a**2)\n",
    "\n",
    "    # Ellipsoidal Longitude\n",
    "    lmd = np.arctan2(y, x)\n",
    "  \n",
    "    phi_prev = 0\n",
    "    # Stopping Threshold\n",
    "    epsilon = 0.00000001\n",
    "\n",
    "    # Initializing index\n",
    "    i = 1\n",
    "    \n",
    "    # Iterating\n",
    "    while i < 11:\n",
    "        W = np.sqrt(1 - e**2 * np.sin(phi_prev)**2)\n",
    "        N = a / W\n",
    "        phi_new = np.arctan2((z + N * e**2 * np.sin(phi_prev)), np.sqrt(x**2 + y**2))\n",
    "        # Stopping Criteria\n",
    "        phi_diff = np.absolute(phi_new - phi_prev)\n",
    "        if phi_diff < epsilon:\n",
    "            print(\"Converged after \", i, \" iterations.\")\n",
    "            break\n",
    "        elif i == 10:\n",
    "            print(\"Did not converge.\")\n",
    "            break\n",
    "        phi_prev = phi_new\n",
    "        i = i + 1\n",
    "    \n",
    "    # Converting back to degrees\n",
    "    l = lmd * deg\n",
    "    p = phi_new * deg\n",
    "    \n",
    "    # Updating W and N with current phi\n",
    "    W = np.sqrt(1 - e**2 * np.sin(phi_new)**2)\n",
    "    N = a / W\n",
    "    \n",
    "    # Calculating height\n",
    "    h = np.sqrt(x**2 + y**2 + (z + N * e**2 * np.sin(phi_new))**2) - N\n",
    "#     h = (np.sqrt(x**2 + y**2)/np.cos(phi_new)) - N\n",
    "\n",
    "    return l, p, h"
   ]
  },
  {
   "cell_type": "markdown",
   "metadata": {},
   "source": [
    "**Converting from Cartesian Coordinates to Ellipsoidal Coordinates**"
   ]
  },
  {
   "cell_type": "code",
   "execution_count": 20,
   "metadata": {},
   "outputs": [
    {
     "name": "stdout",
     "output_type": "stream",
     "text": [
      "Converged after  5  iterations.\n",
      "Converged after  5  iterations.\n",
      "Converged after  4  iterations.\n",
      "Converged after  5  iterations.\n",
      "Converged after  5  iterations.\n",
      "Converged after  5  iterations.\n",
      "Converged after  5  iterations.\n",
      "Converged after  5  iterations.\n",
      "Converged after  5  iterations.\n"
     ]
    }
   ],
   "source": [
    "# Initializing Arrays\n",
    "lmd2 = np.zeros(len(ell), dtype=np.float64)\n",
    "phi2 = np.zeros(len(ell), dtype=np.float64)\n",
    "h2 = np.zeros(len(ell), dtype=np.float64)\n",
    "\n",
    "# Applying converison\n",
    "for index, row in ell.iterrows():\n",
    "    lmd2[index], phi2[index], h2[index] = xyz2ell(row['X (m)'], row['Y (m)'], row['Z (m)'])"
   ]
  },
  {
   "cell_type": "markdown",
   "metadata": {},
   "source": [
    "**Converting from Decimal Degrees to DMS Format**"
   ]
  },
  {
   "cell_type": "code",
   "execution_count": 21,
   "metadata": {},
   "outputs": [],
   "source": [
    "# Initializing Arrays\n",
    "lmd2_d = np.zeros(len(ell), dtype=np.int)\n",
    "lmd2_m = np.zeros(len(ell), dtype=np.int)\n",
    "lmd2_s = np.zeros(len(ell), dtype=np.float64)\n",
    "\n",
    "phi2_d = np.zeros(len(ell), dtype=np.int)\n",
    "phi2_m = np.zeros(len(ell), dtype=np.int)\n",
    "phi2_s = np.zeros(len(ell), dtype=np.float64)\n",
    "\n",
    "# Applying conversion\n",
    "for index, value in enumerate(lmd):\n",
    "    lmd2_d[index], lmd2_m[index], lmd2_s[index] = dd2dms(lmd2[index])\n",
    "    phi2_d[index], phi2_m[index], phi2_s[index] = dd2dms(phi2[index])\n",
    "    \n",
    "# Putting everything into a data frame\n",
    "ell2 = pd.DataFrame({\n",
    "    'point ID': ptIDs,\n",
    "    '$\\lambda$dd': lmd2_d,\n",
    "    '$\\lambda$mm': lmd2_m,\n",
    "    '$\\lambda$ss.sssss': lmd2_s,\n",
    "    '$\\phi$dd': phi2_d,\n",
    "    '$\\phi$mm': phi2_m,\n",
    "    '$\\phi$ss.sssss': phi2_s,\n",
    "    '$h$ (m)': h2,\n",
    "    'X (m)': x,\n",
    "    'Y (m)': y,\n",
    "    'Z (m)': z\n",
    "})"
   ]
  },
  {
   "cell_type": "markdown",
   "metadata": {},
   "source": [
    "##### Printing Geocentric Cartesian Coordinates → Ellipsoidal Coordinates"
   ]
  },
  {
   "cell_type": "code",
   "execution_count": 22,
   "metadata": {},
   "outputs": [
    {
     "name": "stdout",
     "output_type": "stream",
     "text": [
      "\n",
      "Geocentric Cartesian Coordinates → Ellipsoidal Coordinates (exact values)\n",
      "\n",
      "------------------------------------------------------------------------------------------------------------------\n",
      " ptID       X(m)           Y(m)          Z(m)       λ(deg)  λ(min)   λ(sec)    ϕ(deg) ϕ(min)    ϕ(sec)      h(m)\n",
      "------------------------------------------------------------------------------------------------------------------\n",
      "   1    4200972.337     168324.588    4780226.846      2     17     40.20111     48     51     29.64298     34.442\n",
      "   2   -1487208.423    6024503.840    1469851.713    103     52      0.43521     13     24     45.08764     64.922\n",
      "   3   -2535912.202   -1405250.874    5669009.472   -151      0    -26.64532     63      4     10.20103   6189.878\n",
      "   4     261769.983   -4855070.406    4114454.279    -86    -54    -49.61418     40     25     43.10224    189.890\n",
      "   5    5080145.233    2674761.647   -2772277.761     27     46      2.57003    -25    -55    -31.39308   1481.633\n",
      "   6   -4646821.594    2553115.399   -3533438.711    151     12     51.01352    -33    -51    -31.09981      3.962\n",
      "   7   -1699418.629   -4906334.551   -3692569.461   -109     -6    -16.81564    -35    -36     -3.16718    506.882\n",
      "   8    1216718.010   -3990469.816   -4812878.209    -73     -2    -35.60651    -49    -16    -16.61136   3404.921\n",
      " Q94     260326.434   -4855969.213    4113433.130    -86    -55    -52.80697     40     25      0.66256    152.015\n",
      "------------------------------------------------------------------------------------------------------------------\n"
     ]
    }
   ],
   "source": [
    "print()\n",
    "print(\"Geocentric Cartesian Coordinates → Ellipsoidal Coordinates (exact values)\")\n",
    "print()\n",
    "print(\"------------------------------------------------------------------------------------------------------------------\")\n",
    "print(\" ptID       X(m)           Y(m)          Z(m)       \\u03BB(deg)  \\u03BB(min)   \\u03BB(sec)    \\u03D5(deg) \\u03D5(min)    \\u03D5(sec)      h(m)\")\n",
    "print(\"------------------------------------------------------------------------------------------------------------------\")\n",
    "for index, row in ell2.iterrows():\n",
    "    print(\"%4s %14.3f %14.3f %14.3f %6d %6d %12.5f %6d %6d %12.5f %10.3f\" % (row['point ID'], row['X (m)'], row['Y (m)'], row['Z (m)'],\n",
    "                                                                             row['$\\lambda$dd'], row['$\\lambda$mm'], row['$\\lambda$ss.sssss'],\n",
    "                                                                             row['$\\phi$dd'], row['$\\phi$mm'], row['$\\phi$ss.sssss'], row['$h$ (m)']))\n",
    "print(\"------------------------------------------------------------------------------------------------------------------\")"
   ]
  },
  {
   "cell_type": "markdown",
   "metadata": {},
   "source": [
    "------"
   ]
  },
  {
   "cell_type": "markdown",
   "metadata": {},
   "source": [
    "# <span style=\"color:blue\">*PART 4 - Geocentric Cartesian → Ellipsoidal (rounded at the mm level)*<span>"
   ]
  },
  {
   "cell_type": "markdown",
   "metadata": {},
   "source": [
    "**Converting from Cartesian Coordinates to Ellipsoidal Coordinates**"
   ]
  },
  {
   "cell_type": "code",
   "execution_count": 23,
   "metadata": {},
   "outputs": [
    {
     "name": "stdout",
     "output_type": "stream",
     "text": [
      "Converged after  5  iterations.\n",
      "Converged after  5  iterations.\n",
      "Converged after  4  iterations.\n",
      "Converged after  5  iterations.\n",
      "Converged after  5  iterations.\n",
      "Converged after  5  iterations.\n",
      "Converged after  5  iterations.\n",
      "Converged after  5  iterations.\n",
      "Converged after  5  iterations.\n"
     ]
    }
   ],
   "source": [
    "# Initializing Arrays\n",
    "lmd3 = np.zeros(len(ell), dtype=np.float64)\n",
    "phi3 = np.zeros(len(ell), dtype=np.float64)\n",
    "h3 = np.zeros(len(ell), dtype=np.float64)\n",
    "\n",
    "# Applying converison\n",
    "for index, row in ell.iterrows():\n",
    "    lmd3[index], phi3[index], h3[index] = xyz2ell(round(row['X (m)'],3), round(row['Y (m)'],3), round(row['Z (m)'],3))"
   ]
  },
  {
   "cell_type": "markdown",
   "metadata": {},
   "source": [
    "**Converting from Decimal Degrees to DMS Format**"
   ]
  },
  {
   "cell_type": "code",
   "execution_count": 24,
   "metadata": {},
   "outputs": [],
   "source": [
    "# Initializing Arrays\n",
    "lmd3_d = np.zeros(len(ell), dtype=np.int)\n",
    "lmd3_m = np.zeros(len(ell), dtype=np.int)\n",
    "lmd3_s = np.zeros(len(ell), dtype=np.float64)\n",
    "\n",
    "phi3_d = np.zeros(len(ell), dtype=np.int)\n",
    "phi3_m = np.zeros(len(ell), dtype=np.int)\n",
    "phi3_s = np.zeros(len(ell), dtype=np.float64)\n",
    "\n",
    "x3 = np.zeros(len(ell), dtype=np.float64)\n",
    "y3 = np.zeros(len(ell), dtype=np.float64)\n",
    "z3 = np.zeros(len(ell), dtype=np.float64)\n",
    "\n",
    "# Applying conversion\n",
    "for index, value in enumerate(lmd):\n",
    "    lmd3_d[index], lmd3_m[index], lmd3_s[index] = dd2dms(lmd3[index])\n",
    "    phi3_d[index], phi3_m[index], phi3_s[index] = dd2dms(phi3[index])\n",
    "\n",
    "for index, row in ell.iterrows():\n",
    "    x3[index], y3[index], z3[index] = round(row['X (m)'],3), round(row['Y (m)'],3), round(row['Z (m)'],3)\n",
    "\n",
    "# Putting everything into a data frame\n",
    "ell3 = pd.DataFrame({\n",
    "    'point ID': ptIDs,\n",
    "    '$\\lambda$dd': lmd3_d,\n",
    "    '$\\lambda$mm': lmd3_m,\n",
    "    '$\\lambda$ss.sssss': lmd3_s,\n",
    "    '$\\phi$dd': phi3_d,\n",
    "    '$\\phi$mm': phi3_m,\n",
    "    '$\\phi$ss.sssss': phi3_s,\n",
    "    '$h$ (m)': h3,\n",
    "    'X (m)': x3,\n",
    "    'Y (m)': y3,\n",
    "    'Z (m)': z3\n",
    "})"
   ]
  },
  {
   "cell_type": "markdown",
   "metadata": {},
   "source": [
    "##### Printing Geocentric Cartesian Coordinates → Ellipsoidal Coordinates"
   ]
  },
  {
   "cell_type": "code",
   "execution_count": 25,
   "metadata": {},
   "outputs": [
    {
     "name": "stdout",
     "output_type": "stream",
     "text": [
      "\n",
      "Geocentric Cartesian Coordinates → Ellipsoidal Coordinates (rounded at the mm level)\n",
      "\n",
      "------------------------------------------------------------------------------------------------------------------\n",
      " ptID       X(m)           Y(m)          Z(m)       λ(deg)  λ(min)   λ(sec)    ϕ(deg) ϕ(min)    ϕ(sec)      h(m)\n",
      "------------------------------------------------------------------------------------------------------------------\n",
      "   1    4200972.337     168324.588    4780226.846      2     17     40.20111     48     51     29.64298     34.442\n",
      "   2   -1487208.423    6024503.840    1469851.713    103     52      0.43520     13     24     45.08765     64.922\n",
      "   3   -2535912.202   -1405250.874    5669009.472   -151      0    -26.64530     63      4     10.20103   6189.879\n",
      "   4     261769.983   -4855070.406    4114454.279    -86    -54    -49.61419     40     25     43.10224    189.890\n",
      "   5    5080145.233    2674761.647   -2772277.761     27     46      2.57005    -25    -55    -31.39308   1481.633\n",
      "   6   -4646821.594    2553115.399   -3533438.711    151     12     51.01352    -33    -51    -31.09982      3.962\n",
      "   7   -1699418.629   -4906334.551   -3692569.461   -109     -6    -16.81565    -35    -36     -3.16718    506.883\n",
      "   8    1216718.010   -3990469.816   -4812878.209    -73     -2    -35.60652    -49    -16    -16.61136   3404.920\n",
      " Q94     260326.434   -4855969.213    4113433.130    -86    -55    -52.80696     40     25      0.66257    152.015\n",
      "------------------------------------------------------------------------------------------------------------------\n"
     ]
    }
   ],
   "source": [
    "print()\n",
    "print(\"Geocentric Cartesian Coordinates → Ellipsoidal Coordinates (rounded at the mm level)\")\n",
    "print()\n",
    "print(\"------------------------------------------------------------------------------------------------------------------\")\n",
    "print(\" ptID       X(m)           Y(m)          Z(m)       \\u03BB(deg)  \\u03BB(min)   \\u03BB(sec)    \\u03D5(deg) \\u03D5(min)    \\u03D5(sec)      h(m)\")\n",
    "print(\"------------------------------------------------------------------------------------------------------------------\")\n",
    "for index, row in ell3.iterrows():\n",
    "    print(\"%4s %14.3f %14.3f %14.3f %6d %6d %12.5f %6d %6d %12.5f %10.3f\" % (row['point ID'], row['X (m)'], row['Y (m)'], row['Z (m)'],\n",
    "                                                                             row['$\\lambda$dd'], row['$\\lambda$mm'], row['$\\lambda$ss.sssss'],\n",
    "                                                                             row['$\\phi$dd'], row['$\\phi$mm'], row['$\\phi$ss.sssss'], row['$h$ (m)']))\n",
    "print(\"------------------------------------------------------------------------------------------------------------------\")"
   ]
  },
  {
   "cell_type": "markdown",
   "metadata": {},
   "source": [
    "------"
   ]
  },
  {
   "cell_type": "markdown",
   "metadata": {},
   "source": [
    "# <span style=\"color:blue\">*PART 5 - Comparison & Discussion*<span>"
   ]
  },
  {
   "cell_type": "markdown",
   "metadata": {},
   "source": [
    "##### Comparing Ellipsoidal Coordinates"
   ]
  },
  {
   "cell_type": "code",
   "execution_count": 26,
   "metadata": {},
   "outputs": [],
   "source": [
    "# Creating data frames to compare with each other\n",
    "ell_1 = ell.drop(columns=['point ID'])\n",
    "ell_2 = ell2.drop(columns=['point ID'])\n",
    "ell_3 = ell3.drop(columns=['point ID'])\n",
    "\n",
    "# Calculating Differences between Ellipsoid Coordinates\n",
    "# ell_1_2 = np.absolute(ell_1 - ell_2)\n",
    "# ell_1_3 = np.absolute(ell_1 - ell_3)\n",
    "# ell_2_3 = np.absolute(ell_2 - ell_3)\n",
    "ell_1_2 = ell_1 - ell_2\n",
    "ell_1_3 = ell_1 - ell_3\n",
    "ell_2_3 = ell_2 - ell_3\n",
    "\n",
    "# Adding \"point ID\" column\n",
    "ell_1_2.insert(loc=0, column='point ID', value=ptIDs)\n",
    "ell_1_3.insert(loc=0, column='point ID', value=ptIDs)\n",
    "ell_2_3.insert(loc=0, column='point ID', value=ptIDs)"
   ]
  },
  {
   "cell_type": "markdown",
   "metadata": {},
   "source": [
    "##### Printing Ellipsoidal Coordinate Comparisons"
   ]
  },
  {
   "cell_type": "code",
   "execution_count": 28,
   "metadata": {},
   "outputs": [
    {
     "name": "stdout",
     "output_type": "stream",
     "text": [
      "\n",
      "Differences between: \n",
      "   [Step 2] Input Ellipsoidal Coordinates & \n",
      "   [Step 3] Calculated Ellipsoidal Coordinates (exact values)\n",
      "-----------------------------------------------------------------------\n",
      " ptID   λ(deg)  λ(min)   λ(sec)    ϕ(deg) ϕ(min)    ϕ(sec)      h(m)\n",
      "-----------------------------------------------------------------------\n",
      "   1      0      0      0.00000      0      0      0.00000      0.000\n",
      "   2      0      0      0.00000      0      0      0.00000      0.000\n",
      "   3      0      0      0.00000      0      0      0.00000      0.000\n",
      "   4      0      0      0.00000      0      0      0.00000      0.000\n",
      "   5      0      0      0.00000      0      0     -0.00000     -0.000\n",
      "   6      0      0     -0.00000      0      0     -0.00000      0.000\n",
      "   7      0      0     -0.00000      0      0     -0.00000      0.000\n",
      "   8      0      0     -0.00000      0      0     -0.00000     -0.000\n",
      " Q94      0      0      0.00000      0      0      0.00000     -0.000\n",
      "-----------------------------------------------------------------------\n",
      "\n",
      "\n",
      "\n",
      "Differences between: \n",
      "   [Step 2] Input Ellipsoidal Coordinates & \n",
      "   [Step 4] Calculated Ellipsoidal Coordinates (rounded at the mm level)\n",
      "-----------------------------------------------------------------------\n",
      " ptID   λ(deg)  λ(min)   λ(sec)    ϕ(deg) ϕ(min)    ϕ(sec)      h(m)\n",
      "-----------------------------------------------------------------------\n",
      "   1      0      0      0.00000      0      0     -0.00000      0.001\n",
      "   2      0      0      0.00001      0      0     -0.00001      0.000\n",
      "   3      0      0     -0.00002      0      0      0.00000     -0.000\n",
      "   4      0      0      0.00001      0      0      0.00000      0.000\n",
      "   5      0      0     -0.00002      0      0      0.00000      0.000\n",
      "   6      0      0      0.00000      0      0      0.00001      0.000\n",
      "   7      0      0      0.00001      0      0     -0.00000     -0.001\n",
      "   8      0      0      0.00001      0      0      0.00000      0.001\n",
      " Q94      0      0     -0.00001      0      0     -0.00001      0.000\n",
      "-----------------------------------------------------------------------\n",
      "\n",
      "\n",
      "\n",
      "Differences between: \n",
      "   [Step 3] Calculated Ellipsoidal Coordinates (exact values) & \n",
      "   [Step 4] Calculated Ellipsoidal Coordinates (rounded at the mm level) \n",
      "-----------------------------------------------------------------------\n",
      " ptID   λ(deg)  λ(min)   λ(sec)    ϕ(deg) ϕ(min)    ϕ(sec)      h(m)\n",
      "-----------------------------------------------------------------------\n",
      "   1      0      0      0.00000      0      0     -0.00000      0.001\n",
      "   2      0      0      0.00001      0      0     -0.00001      0.000\n",
      "   3      0      0     -0.00002      0      0     -0.00000     -0.000\n",
      "   4      0      0      0.00001      0      0      0.00000      0.000\n",
      "   5      0      0     -0.00002      0      0      0.00001      0.000\n",
      "   6      0      0      0.00000      0      0      0.00001      0.000\n",
      "   7      0      0      0.00001      0      0     -0.00000     -0.001\n",
      "   8      0      0      0.00001      0      0      0.00000      0.001\n",
      " Q94      0      0     -0.00001      0      0     -0.00001      0.000\n",
      "-----------------------------------------------------------------------\n"
     ]
    }
   ],
   "source": [
    "print()\n",
    "print(\"Differences between: \\n   [Step 2] Input Ellipsoidal Coordinates & \\n   [Step 3] Calculated Ellipsoidal Coordinates (exact values)\")\n",
    "print(\"-----------------------------------------------------------------------\")\n",
    "print(\" ptID   \\u03BB(deg)  \\u03BB(min)   \\u03BB(sec)    \\u03D5(deg) \\u03D5(min)    \\u03D5(sec)      h(m)\")\n",
    "print(\"-----------------------------------------------------------------------\")\n",
    "for index, row in ell_1_2.iterrows():\n",
    "    print(\"%4s %6d %6d %12.5f %6d %6d %12.5f %10.3f\" % (row['point ID'], row['$\\lambda$dd'], row['$\\lambda$mm'], row['$\\lambda$ss.sssss'],\n",
    "                                                                             row['$\\phi$dd'], row['$\\phi$mm'], row['$\\phi$ss.sssss'], row['$h$ (m)']))\n",
    "print(\"-----------------------------------------------------------------------\")\n",
    "print()\n",
    "print()\n",
    "print()\n",
    "print(\"Differences between: \\n   [Step 2] Input Ellipsoidal Coordinates & \\n   [Step 4] Calculated Ellipsoidal Coordinates (rounded at the mm level)\")\n",
    "print(\"-----------------------------------------------------------------------\")\n",
    "print(\" ptID   \\u03BB(deg)  \\u03BB(min)   \\u03BB(sec)    \\u03D5(deg) \\u03D5(min)    \\u03D5(sec)      h(m)\")\n",
    "print(\"-----------------------------------------------------------------------\")\n",
    "for index, row in ell_1_3.iterrows():\n",
    "    print(\"%4s %6d %6d %12.5f %6d %6d %12.5f %10.3f\" % (row['point ID'], row['$\\lambda$dd'], row['$\\lambda$mm'], row['$\\lambda$ss.sssss'],\n",
    "                                                                             row['$\\phi$dd'], row['$\\phi$mm'], row['$\\phi$ss.sssss'], row['$h$ (m)']))\n",
    "print(\"-----------------------------------------------------------------------\")\n",
    "print()\n",
    "print()\n",
    "print()\n",
    "print(\"Differences between: \\n   [Step 3] Calculated Ellipsoidal Coordinates (exact values) & \\n   [Step 4] Calculated Ellipsoidal Coordinates (rounded at the mm level) \")\n",
    "print(\"-----------------------------------------------------------------------\")\n",
    "print(\" ptID   \\u03BB(deg)  \\u03BB(min)   \\u03BB(sec)    \\u03D5(deg) \\u03D5(min)    \\u03D5(sec)      h(m)\")\n",
    "print(\"-----------------------------------------------------------------------\")\n",
    "for index, row in ell_2_3.iterrows():\n",
    "    print(\"%4s %6d %6d %12.5f %6d %6d %12.5f %10.3f\" % (row['point ID'], row['$\\lambda$dd'], row['$\\lambda$mm'], row['$\\lambda$ss.sssss'],\n",
    "                                                                             row['$\\phi$dd'], row['$\\phi$mm'], row['$\\phi$ss.sssss'], row['$h$ (m)']))\n",
    "print(\"-----------------------------------------------------------------------\")"
   ]
  },
  {
   "cell_type": "markdown",
   "metadata": {},
   "source": [
    "-----"
   ]
  },
  {
   "cell_type": "markdown",
   "metadata": {},
   "source": [
    "I compared the ellipsoidal coordinates from the input file with those that I calculated in steps 3 and 4 by simply finding the difference, as shown in the tables above. Since the ellipsoidal coordinates from the input file were technically the spherical coordinates from Lab 01, my initial expectations were for these coordinates to be significantly different from those I would calculate. However, once calculated, I was surprised to see that the differences were not as severe as my prediction.\n",
    "\n",
    "One of the issues I ran into while trying to calculate the dissimilar coordinate transformation from geocentric cartesian coordinates to ellipsoidal coordinates was in the height equation. For some reason, when I ran my function, the height results were extremely large. For example, when I calculated the differences in results, most of my differences ranged in the kilometer level, with one point actually reaching 43km. This was clearly incorrect, so I needed to locate my mistake. After confirming that the equations in my python code matched my notes, I checked with some of my classmates to see if they were having similar issues, but they were not, so I knew the error must be somewhere in my notes. Not sure where my error existed, I decided to check the internet for clues to see if perhaps I was using the incorrect equation. Although I found several variations of possible alternatives for calculating h, I could not find any that closely matched the equation we were given in class, so I was unable to confirm whether or not my notes were correct. However, as a test, I attempted to generate different (and hopefully better) results using one of the equations I found online. The equation I used was $\\left(h = \\frac{\\sqrt{x^2 + y^2}}{\\cos\\phi} - N \\right)$, which was provided by the European Space Agency's website, https://gssc.esa.int/navipedia/index.php/Ellipsoidal_and_Cartesian_Coordinates_Conversion. Using this equation,  I was able to generate significantly better results. The differences in height only became noticeable at the millimeter level. This test allowed me to confirm that the rest of my code was correct, so I knew that my error was an isolated event. Finally, I compared my notes with one of my classmate's notes, and it turns out that I was squaring part of the height equation that should not have been squared. The equation I was using for calculating the height was $\\left(h = \\sqrt{x^2 + y^2 + (z + Ne^2\\sin^2\\phi)^2} \\right)$, but the equation I should have been using is $\\left(h = \\sqrt{x^2 + y^2 + (z + Ne^2\\sin\\phi)^2} \\right)$. After making my corrections, My results were drastically improved, matching the results from the ESA's equation exactly.\n",
    "\n",
    "The differences between the input ellipsoidal coordinates and the calculated ellipsoidal coordinates using the exact values are so small that they're essentially zero. There is no noticeable difference in the phi until the sixth decimal place in arc-seconds, and none in lambda until the tenth decimal place in arc-seconds. The height is the same until the eighth or nineth decimal place.  The differences with respect to the coordinates that are rounded at the millimeter level are much larger. This was expected, considering the fact that when the values are rounded, the error is compounded. \n",
    "\n",
    "For choosing the epsilon value, I wanted to make sure that my resulting ellipsoidal coordinates matched the initial ellipsoidal coordinates at the millimeter accuracy, so I needed to see zero change in the fifth decimal place of the arcseconds for each point. I initially began with a small number ($0.0001$) and then, after getting my results, I wanted to view the effects of changing the epsilon, so I made it slightly larger. Comparing the results from both runs and seeing that they were getting worse, I then made the epsilon smaller and tried again. My results improved, so I continued this process of running the function and slowly making the epsilon smaller until I saw no changes at the millimeter accuracy. This occurred at $\\epsilon = 0.00000001$. With this threshold, my results converged after only 4 or 5 iterations for each point. To see if my results would improve, I tried $\\epsilon = 0.1 \\times 10^{-50}$, but they did not change at all. In addition, despite the epsilon being so small, my results still converged after only 4 or 5 iterations."
   ]
  },
  {
   "cell_type": "code",
   "execution_count": null,
   "metadata": {},
   "outputs": [],
   "source": []
  }
 ],
 "metadata": {
  "kernelspec": {
   "display_name": "geodesy",
   "language": "python",
   "name": "geodesy"
  },
  "language_info": {
   "codemirror_mode": {
    "name": "ipython",
    "version": 3
   },
   "file_extension": ".py",
   "mimetype": "text/x-python",
   "name": "python",
   "nbconvert_exporter": "python",
   "pygments_lexer": "ipython3",
   "version": "3.7.5"
  }
 },
 "nbformat": 4,
 "nbformat_minor": 2
}
