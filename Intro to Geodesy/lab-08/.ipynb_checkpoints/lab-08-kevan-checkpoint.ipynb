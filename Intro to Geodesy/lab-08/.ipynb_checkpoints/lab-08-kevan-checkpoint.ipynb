{
 "cells": [
  {
   "cell_type": "markdown",
   "metadata": {},
   "source": [
    "# CE597 - Mapping Projection and Geometric Geodesy"
   ]
  },
  {
   "cell_type": "markdown",
   "metadata": {},
   "source": [
    "## Lab 08 - Mapping The Shortest (Geodesic) Distance"
   ]
  },
  {
   "cell_type": "markdown",
   "metadata": {},
   "source": [
    "*Kevan Tissue*  \n",
    "*Geomatics Engineering*  \n",
    "*Lyles School of Civil Engineering*  \n",
    "*Purdue University*"
   ]
  },
  {
   "cell_type": "markdown",
   "metadata": {},
   "source": [
    "________"
   ]
  },
  {
   "cell_type": "markdown",
   "metadata": {},
   "source": [
    "# <span style=\"color:green\">*PART 0 - Initialization, Functions, Data Preparation, & Calculations*<span>"
   ]
  },
  {
   "cell_type": "markdown",
   "metadata": {},
   "source": [
    "In Lab 3, 4, 5, and 6, we employed various mapping prescription which are defined on the Cartesian coordinate frame. In this lab, we will create different maps using stereographic mapping prescriptions which are defined in the Polar coordinate frame."
   ]
  },
  {
   "cell_type": "markdown",
   "metadata": {},
   "source": [
    "## $\\blacktriangleright$  <span style=\"color:limegreen\">*Initialization*<span>"
   ]
  },
  {
   "cell_type": "markdown",
   "metadata": {},
   "source": [
    "**Importing the necessary packages**"
   ]
  },
  {
   "cell_type": "code",
   "execution_count": 1,
   "metadata": {},
   "outputs": [],
   "source": [
    "import math\n",
    "import numpy as np\n",
    "import pandas as pd\n",
    "import matplotlib.pyplot as plt\n",
    "\n",
    "# Plot figures inside the notebook\n",
    "%matplotlib inline"
   ]
  },
  {
   "cell_type": "markdown",
   "metadata": {},
   "source": [
    "**Formula for conversing to radians**"
   ]
  },
  {
   "cell_type": "code",
   "execution_count": 2,
   "metadata": {},
   "outputs": [],
   "source": [
    "rad = math.pi/180\n",
    "deg = 180/math.pi"
   ]
  },
  {
   "cell_type": "markdown",
   "metadata": {},
   "source": [
    "**Earth's Radius**  \n",
    "*(Assuming that the Earth is sphere and the radius of the Earth is 6371 km)*"
   ]
  },
  {
   "cell_type": "code",
   "execution_count": 3,
   "metadata": {},
   "outputs": [],
   "source": [
    "R = 6371000 # meters"
   ]
  },
  {
   "cell_type": "markdown",
   "metadata": {},
   "source": [
    "------"
   ]
  },
  {
   "cell_type": "markdown",
   "metadata": {},
   "source": [
    "## $\\blacktriangleright$ <span style=\"color:limegreen\">*Functions*<span>"
   ]
  },
  {
   "cell_type": "markdown",
   "metadata": {},
   "source": [
    "**DMS $\\rightarrow$ Decimal Degrees**"
   ]
  },
  {
   "cell_type": "code",
   "execution_count": 4,
   "metadata": {},
   "outputs": [],
   "source": [
    "def dms2dd(dd, mm, ss):\n",
    "    \"\"\"\n",
    "    A function that will convert degree minute second (DMS) format into decimal degree format\n",
    "    \n",
    "    Inputs\n",
    "    -----\n",
    "    dd: spherical coordinate value: degrees (integer)\n",
    "    mm:spherical coordinate value: minutes (integer)\n",
    "    ss: spherical coordinate value: seconds (floating number)\n",
    "    \n",
    "    Output\n",
    "    ------\n",
    "    calculated decimal degree value (floating number)\n",
    "    \"\"\"\n",
    "    return dd + mm/60 + ss/3600"
   ]
  },
  {
   "cell_type": "code",
   "execution_count": 5,
   "metadata": {},
   "outputs": [],
   "source": [
    "def dd2dms(dec_deg):\n",
    "    \"\"\"\n",
    "    A function that will convert decimal degree format into degree minute second (DMS) format \n",
    "    \n",
    "    Inputs\n",
    "    -----\n",
    "    decimal degree value (floating number)\n",
    "    \n",
    "    Output\n",
    "    ------\n",
    "    dd: spherical coordinate value: degrees (integer)\n",
    "    mm:spherical coordinate value: minutes (integer)\n",
    "    ss: spherical coordinate value: seconds (floating number)\n",
    "    \"\"\"\n",
    "    \n",
    "    dd = int(dec_deg)\n",
    "    mmfloat = (dec_deg - dd) * 60\n",
    "    mm = int(mmfloat)\n",
    "    ss = (mmfloat - mm) * 60\n",
    "    \n",
    "    return dd, mm, ss"
   ]
  },
  {
   "cell_type": "code",
   "execution_count": null,
   "metadata": {},
   "outputs": [],
   "source": []
  },
  {
   "cell_type": "markdown",
   "metadata": {},
   "source": [
    "**Spherical $\\rightarrow$ Cartesian**"
   ]
  },
  {
   "cell_type": "code",
   "execution_count": 6,
   "metadata": {},
   "outputs": [],
   "source": [
    "def sph2xyz(l,p,h, R = 6371000):\n",
    "    \"\"\"\n",
    "    Function that converts geocentric earth-fixed spherical coordinates \n",
    "    into geocentric earth-fixed cartesian coordinates\n",
    "    \n",
    "    Input\n",
    "    -----\n",
    "    l: lambda, longitude (units: radians)\n",
    "    p: psi, latitude (units: radians)\n",
    "    h: height above sphere (units: meters)\n",
    "    \n",
    "    Output\n",
    "    ------\n",
    "    x,y,z: cartesian coordinates (units: meters)\n",
    "    \"\"\"\n",
    "    x = (R+h) * np.cos(p) * np.cos(l)\n",
    "    y = (R+h) * np.cos(p) * np.sin(l)\n",
    "    z = (R+h) * np.sin(p)\n",
    "    \n",
    "    return x,y,z"
   ]
  },
  {
   "cell_type": "markdown",
   "metadata": {},
   "source": [
    "**Cartesian $\\rightarrow$ Spherical**"
   ]
  },
  {
   "cell_type": "code",
   "execution_count": 7,
   "metadata": {},
   "outputs": [],
   "source": [
    "def xyz2sph(x,y,z, R = 6371000):\n",
    "    \"\"\"\n",
    "    Function that converts geocentric earth-fixed cartesian coordinates into \n",
    "    geocentric earth-fixed spherical coordinates\n",
    "    \n",
    "    Input\n",
    "    -----\n",
    "    x,y,z: cartesian coordinates (units: meters)\n",
    "    \n",
    "    Output\n",
    "    ------\n",
    "    lmd: longitude (units: radians)\n",
    "    psi: latitude (units: radians)\n",
    "    h: height above sphere (units: meters)\n",
    "    \"\"\"\n",
    "    lmd = np.arctan2(y, x) * deg\n",
    "    psi = np.arctan2(z, math.sqrt(x**2 + y**2)) * deg\n",
    "    h = math.sqrt(x**2 + y**2 + z**2) - R\n",
    "    \n",
    "    return lmd, psi, h"
   ]
  },
  {
   "cell_type": "markdown",
   "metadata": {},
   "source": [
    "**Stereographic Mapping Prescription**"
   ]
  },
  {
   "cell_type": "code",
   "execution_count": 8,
   "metadata": {},
   "outputs": [],
   "source": [
    "def stereo(df):\n",
    "    \"\"\"\n",
    "    A function that will take a data frame containing coordinates in decimal degrees\n",
    "    and apply a stereographic mapping prescription to it\n",
    "    \n",
    "    Input\n",
    "    -----\n",
    "    pandas.DataFrame with columns: psi, lambda (no prescription)\n",
    "    \n",
    "    Output\n",
    "    ------\n",
    "    pandas.DataFrame with columns: psi, lambda (mercator prescription)\n",
    "    \"\"\"\n",
    "    \n",
    "    # limiting the colatitudes from 0 to 105 degrees (before stereographic)\n",
    "    df = df[(df['psi'] >= -15)]\n",
    "\n",
    "    # resetting the data frame index\n",
    "    df = df.reset_index(drop=True)\n",
    "    \n",
    "    # defining the colatitude for psi\n",
    "    df['theta'] = np.pi/2 - df['psi']*rad\n",
    "    \n",
    "    # applying the stereographic mapping prescription \n",
    "    df['psi'] = (2 * np.tan(df['theta']/2) * np.sin(df['lambda']*rad)) * deg\n",
    "    df['lambda'] = (2 * np.tan(df['theta']/2) * np.cos(df['lambda']*rad)) * deg\n",
    "    \n",
    "\n",
    "    return df"
   ]
  },
  {
   "cell_type": "markdown",
   "metadata": {},
   "source": [
    "**Mapping Prescriptions**"
   ]
  },
  {
   "cell_type": "code",
   "execution_count": 9,
   "metadata": {},
   "outputs": [],
   "source": [
    "# Setting up argument variables for function\n",
    "RW = 0\n",
    "PC = 1\n",
    "SF = 2\n",
    "MC = 3\n",
    "PCt = 4\n",
    "SFt = 5\n",
    "MCt = 6\n",
    "ST = 7\n",
    "OST = 8\n",
    "\n",
    "def prescribe(df, prescription):\n",
    "    \"\"\"\n",
    "    Function that applies a mapping prescription to geocentric earth-fixed spherical coordinates in a data frame.\n",
    "    \n",
    "    Input\n",
    "    -----\n",
    "    dataframe: lambda, psi, height (units: decimal degrees)\n",
    "    prescription: desired mapping prescription (RW, PC, SF, MC)\n",
    "    \n",
    "    Output\n",
    "    ------\n",
    "    dataframe: lambda, psi, height (units: lambda=radians, psi=radians, height=meters)\n",
    "    \"\"\"\n",
    "    \n",
    "    # Initializing Variables\n",
    "    lam = np.zeros(len(df), dtype = np.float64)\n",
    "    psi = np.zeros(len(df), dtype = np.float64)\n",
    "    h = np.zeros(len(df), dtype = np.float64)\n",
    "          \n",
    "    if prescription == 3:\n",
    "        df = mercator(df)        \n",
    "    if prescription == 6:\n",
    "        df = mercator(df)    \n",
    "    if prescription == 7:\n",
    "        df = stereo(df)\n",
    "    elif prescription ==8:\n",
    "        df = stereo(df)\n",
    "  \n",
    "    # Applying mapping prescriptions\n",
    "    for index, row in df.iterrows():\n",
    "        # Real World\n",
    "        if prescription == 0:\n",
    "            lam[index], psi[index], h[index] = [row['lambda'], \n",
    "                                                row['psi'], \n",
    "                                                row['h']]       \n",
    "        \n",
    "        # Plate Carree\n",
    "        elif prescription == 1:\n",
    "            lam[index], psi[index], h[index] = [row['lambda'], \n",
    "                                                row['psi'], \n",
    "                                                row['h']] \n",
    "        # Sanson-Flamsteed\n",
    "        elif prescription == 2:\n",
    "            lam[index], psi[index], h[index] = [row['lambda']*np.cos(row['psi']*rad), \n",
    "                                                row['psi'], \n",
    "                                                row['h']]\n",
    "        # Mercator \n",
    "        elif prescription == 3:\n",
    "            lam[index], psi[index], h[index] = [row['lambda'], \n",
    "                                                row['psi'], \n",
    "                                                row['h']] \n",
    "        # Transverse Plate Carree\n",
    "        elif prescription == 4:\n",
    "            lam[index], psi[index], h[index] = [row['lambda'], \n",
    "                                                row['psi'], \n",
    "                                                row['h']] \n",
    "        # Transverse Sanson-Flamsteed\n",
    "        elif prescription == 5:\n",
    "            lam[index], psi[index], h[index] = [row['lambda']*np.cos(row['psi']*rad), \n",
    "                                                row['psi'], \n",
    "                                                row['h']]\n",
    "        # Transverse Mercator \n",
    "        elif prescription == 6:\n",
    "            lam[index], psi[index], h[index] = [row['lambda'], \n",
    "                                                row['psi'], \n",
    "                                                row['h']] \n",
    "        # Stereographic\n",
    "        elif prescription == 7:\n",
    "            lam[index], psi[index], h[index] = [row['lambda'], \n",
    "                                                row['psi'], \n",
    "                                                row['h']]  \n",
    "        # Oblique Stereographic\n",
    "        elif prescription == 8:\n",
    "            lam[index], psi[index], h[index] = [row['lambda'], \n",
    "                                                row['psi'], \n",
    "                                                row['h']] \n",
    "\n",
    "    # Putting new coordinates into a data frame       \n",
    "    new_coords = pd.DataFrame({\n",
    "        'lambda':lam,\n",
    "        'psi':psi,\n",
    "        'h':h\n",
    "    })\n",
    "    \n",
    "    xA = new_coords['lambda'][0]\n",
    "    xB = new_coords['lambda'][1]\n",
    "    xC = new_coords['lambda'][2]\n",
    "    xD = new_coords['lambda'][3]           \n",
    "    yA = new_coords['psi'][0]\n",
    "    yB = new_coords['psi'][1]\n",
    "    yC = new_coords['psi'][2]\n",
    "    yD = new_coords['psi'][3]\n",
    "\n",
    "    return xA,xB,xC,xD,yA,yB,yC,yD"
   ]
  },
  {
   "cell_type": "markdown",
   "metadata": {},
   "source": [
    "**Mercator Mapping Prescription**"
   ]
  },
  {
   "cell_type": "code",
   "execution_count": 10,
   "metadata": {},
   "outputs": [],
   "source": [
    "def mercator(df):\n",
    "    \"\"\"\n",
    "    A function that will take a data frame containing coordinates in decimal degrees\n",
    "    and apply a mercator mapping prescription to it\n",
    "    \n",
    "    Input\n",
    "    -----\n",
    "    pandas.DataFrame with columns: psi, lambda (no prescription)\n",
    "    \n",
    "    Output\n",
    "    ------\n",
    "    pandas.DataFrame with columns: psi, lambda (mercator prescription)\n",
    "    \"\"\"\n",
    "    \n",
    "    # limiting the latitude to +/- 80 degrees (before mercator)\n",
    "    df = df[(-80 <= df.psi) & (df.psi <= 81)]\n",
    "    \n",
    "    # resetting the data frame index\n",
    "    df = df.reset_index(drop=True)\n",
    "    \n",
    "    # applying the mercator mapping prescription \n",
    "    df.psi = np.log(np.tan(((df.psi*rad)/2) + (math.pi/4))) * deg\n",
    "    \n",
    "    # limiting the latitude to +/- 80 degrees (before mercator)\n",
    "    df = df[(-80 <= df.psi) & (df.psi <= 81)]\n",
    "    \n",
    "    # resetting the data frame index\n",
    "    df = df.reset_index(drop=True)\n",
    "    \n",
    "    \n",
    "    return df"
   ]
  },
  {
   "cell_type": "markdown",
   "metadata": {},
   "source": [
    "**Rotation Matrix**"
   ]
  },
  {
   "cell_type": "code",
   "execution_count": 139,
   "metadata": {},
   "outputs": [],
   "source": [
    "def rotate(x, y, z, omega, phi, kappa):\n",
    "    \"\"\"\n",
    "    Function that applies a 3D rotation to geocentric earth-fixed cartesian coordinates \n",
    "    \n",
    "    Input\n",
    "    -----\n",
    "    x,y,z: cartesian coordinates (units: meters)\n",
    "    omega: angle of rotation with respect to the x-axis (units: decimal degrees)\n",
    "    phi:   angle of rotation with respect to the y-axis (units: decimal degrees)\n",
    "    kappa: angle of rotation with respect to the z-axis (units: decimal degrees)\n",
    "    \n",
    "    Output\n",
    "    ------\n",
    "    x,y,z: rotated cartesian coordinates (units: meters)\n",
    "    \"\"\"\n",
    "    # Initializing Variables\n",
    "    xp = np.zeros(x.shape[0])\n",
    "    yp = np.zeros(y.shape[0])\n",
    "    zp = np.zeros(z.shape[0])\n",
    "    \n",
    "    # Converting the angles from decimal degrees to radians\n",
    "    ax = omega * rad\n",
    "    ay = phi * rad\n",
    "    az = kappa * rad\n",
    "    \n",
    "    # Rotation matrices for each axis\n",
    "    Rx = [[1, 0, 0],\n",
    "         [0, np.cos(ax), np.sin(ax)],\n",
    "         [0, -np.sin(ax), np.cos(ax)]]\n",
    "    \n",
    "    Ry = [[np.cos(ay), 0, -np.sin(ay)],\n",
    "         [0, 1, 0],\n",
    "         [np.sin(ay), 0, np.cos(ay)]]\n",
    "    \n",
    "    Rz = [[np.cos(az), np.sin(az), 0],\n",
    "         [-np.sin(az), np.cos(az), 0],\n",
    "         [0, 0, 1]]\n",
    "    \n",
    "    # Combining the rotation matrices for each axis into a single, 3D rotation matrix\n",
    "    Mxy = np.matmul(Ry,Rx)\n",
    "    M = np.matmul(Rz,Mxy)\n",
    "    \n",
    "    # Applying rotation to cartesian coordinates (iteratively)\n",
    "    for index in range(x.shape[0]):\n",
    "        xp[index], yp[index], zp[index] = np.matmul(M,[x[index], y[index], z[index]])\n",
    " \n",
    "    # Creating a pandas data frame of the rotated cartesian coordinates\n",
    "    rotated_xyz = pd.DataFrame({\n",
    "        'x': xp,\n",
    "        'y': yp,\n",
    "        'z': zp\n",
    "    })\n",
    "    \n",
    "    return rotated_xyz"
   ]
  },
  {
   "cell_type": "markdown",
   "metadata": {},
   "source": [
    "**Oblique Rotation Matrix**"
   ]
  },
  {
   "cell_type": "code",
   "execution_count": 140,
   "metadata": {},
   "outputs": [],
   "source": [
    "def oblique_rotate(x, y, z, omega, phi, kappa):\n",
    "    \"\"\"\n",
    "    Function that applies a 3D rotation to geocentric earth-fixed cartesian coordinates \n",
    "    \n",
    "    Input\n",
    "    -----\n",
    "    x,y,z: cartesian coordinates (units: meters)\n",
    "    omega: angle of rotation with respect to the x-axis (units: decimal degrees)\n",
    "    phi:   angle of rotation with respect to the y-axis (units: decimal degrees)\n",
    "    kappa: angle of rotation with respect to the z-axis (units: decimal degrees)\n",
    "    \n",
    "    Output\n",
    "    ------\n",
    "    x,y,z: rotated cartesian coordinates (units: meters)\n",
    "    \"\"\"\n",
    "    # Initializing Variables\n",
    "    xp = np.zeros(x.shape[0])\n",
    "    yp = np.zeros(y.shape[0])\n",
    "    zp = np.zeros(z.shape[0])\n",
    "    \n",
    "    # Converting the angles from decimal degrees to radians\n",
    "    ax = omega * rad\n",
    "    ay = phi * rad\n",
    "    az = kappa * rad\n",
    "    \n",
    "    # Rotation matrices for each axis\n",
    "    Rx = [[1, 0, 0],\n",
    "         [0, np.cos(ax), np.sin(ax)],\n",
    "         [0, -np.sin(ax), np.cos(ax)]]\n",
    "    \n",
    "    Ry = [[np.cos(ay), 0, -np.sin(ay)],\n",
    "         [0, 1, 0],\n",
    "         [np.sin(ay), 0, np.cos(ay)]]\n",
    "    \n",
    "    Rz = [[np.cos(az), np.sin(az), 0],\n",
    "         [-np.sin(az), np.cos(az), 0],\n",
    "         [0, 0, 1]]\n",
    "    \n",
    "    # Combining the rotation matrices for each axis into a single, 3D rotation matrix\n",
    "    Mzy = np.matmul(Ry,Rz)\n",
    "    M = np.matmul(Rx,Mzy)\n",
    "    \n",
    "    # Applying rotation to cartesian coordinates (iteratively)\n",
    "    for index in range(x.shape[0]):\n",
    "        xp[index], yp[index], zp[index] = np.matmul(M,[x[index], y[index], z[index]])\n",
    " \n",
    "    # Creating a pandas data frame of the rotated cartesian coordinates\n",
    "    rotated_xyz = pd.DataFrame({\n",
    "        'x': xp,\n",
    "        'y': yp,\n",
    "        'z': zp\n",
    "    })\n",
    "    \n",
    "    return rotated_xyz"
   ]
  },
  {
   "cell_type": "markdown",
   "metadata": {},
   "source": [
    "**Transverse Aspect**"
   ]
  },
  {
   "cell_type": "code",
   "execution_count": 102,
   "metadata": {},
   "outputs": [],
   "source": [
    "def transverse(df_sph, omega, phi, kappa):\n",
    "    \"\"\"\n",
    "    Function that takes a data frame of spherical coordinates in the normal aspect, converts them \n",
    "    to cartesian coordinates, applies a 3D rotation, then converts them back to spherical coordinates.\n",
    "    \n",
    "    Input\n",
    "    -----\n",
    "    df_sph: data frame containing (lambda, psi, height) in spherical coordinates (units: decimal degrees)\n",
    "    omega: angle of rotation with respect to the x-axis (units: decimal degrees)\n",
    "    phi:   angle of rotation with respect to the y-axis (units: decimal degrees)\n",
    "    kappa: angle of rotation with respect to the z-axis (units: decimal degrees)\n",
    "    \n",
    "    Output\n",
    "    ------\n",
    "    sph_new: spherical coordinates in transverse aspect (units: decimal degrees)\n",
    "    \"\"\"\n",
    "    # Initializing Variables\n",
    "    x = np.zeros(len(df_sph), dtype = np.float64)\n",
    "    y = np.zeros(len(df_sph), dtype = np.float64)\n",
    "    z = np.zeros(len(df_sph), dtype = np.float64)\n",
    "    lam = np.zeros(len(df_sph), dtype = np.float64)\n",
    "    psi = np.zeros(len(df_sph), dtype = np.float64)\n",
    "    h = np.zeros(len(df_sph), dtype = np.float64)\n",
    "    \n",
    "    # Converting coordinates from spherical to cartesian\n",
    "    for index, row in df_sph.iterrows():\n",
    "        x[index], y[index], z[index] = sph2xyz(row['lambda']*rad, row['psi']*rad, row['h'])\n",
    "    \n",
    "    # Putting cartesian coordinates into a data frame\n",
    "    xyz = pd.DataFrame({\n",
    "            'x': x,\n",
    "            'y': y,\n",
    "            'z': z\n",
    "    })\n",
    "\n",
    "    # Applying rotation to cartesian coordinates\n",
    "    xyz_new = rotate(xyz['x'], xyz['y'], xyz['z'], omega, phi, kappa) \n",
    "\n",
    "    # Converting the rotated coordinates from spherical to cartesian\n",
    "    for index, row in xyz_new.iterrows():\n",
    "        lam[index], psi[index], h[index] = xyz2sph(row['x'], row['y'], row['z'])\n",
    "    \n",
    "    # Putting rotated spherical coordinates into a data frame\n",
    "    sph_new = pd.DataFrame({\n",
    "            'lambda': lam,\n",
    "            'psi': psi,\n",
    "            'h': h\n",
    "    })\n",
    "    \n",
    "    return sph_new"
   ]
  },
  {
   "cell_type": "markdown",
   "metadata": {},
   "source": [
    "**Oblique Aspect**"
   ]
  },
  {
   "cell_type": "code",
   "execution_count": 103,
   "metadata": {},
   "outputs": [],
   "source": [
    "def oblique(df_sph, omega, phi, kappa):\n",
    "    \"\"\"\n",
    "    Function that takes a data frame of spherical coordinates in the normal aspect, converts them \n",
    "    to cartesian coordinates, applies a 3D rotation, then converts them back to spherical coordinates.\n",
    "    \n",
    "    Input\n",
    "    -----\n",
    "    df_sph: data frame containing (lambda, psi, height) in spherical coordinates (units: decimal degrees)\n",
    "    omega: angle of rotation with respect to the x-axis (units: decimal degrees)\n",
    "    phi:   angle of rotation with respect to the y-axis (units: decimal degrees)\n",
    "    kappa: angle of rotation with respect to the z-axis (units: decimal degrees)\n",
    "    \n",
    "    Output\n",
    "    ------\n",
    "    sph_new: spherical coordinates in oblique aspect (units: decimal degrees)\n",
    "    \"\"\"\n",
    "    # Initializing Variables\n",
    "    x = np.zeros(len(df_sph), dtype = np.float64)\n",
    "    y = np.zeros(len(df_sph), dtype = np.float64)\n",
    "    z = np.zeros(len(df_sph), dtype = np.float64)\n",
    "    lam = np.zeros(len(df_sph), dtype = np.float64)\n",
    "    psi = np.zeros(len(df_sph), dtype = np.float64)\n",
    "    h = np.zeros(len(df_sph), dtype = np.float64)\n",
    "    \n",
    "    # Converting coordinates from spherical to cartesian\n",
    "    for index, row in df_sph.iterrows():\n",
    "        x[index], y[index], z[index] = sph2xyz(row['lambda']*rad, row['psi']*rad, row['h'])\n",
    "    \n",
    "    # Putting cartesian coordinates into a data frame\n",
    "    xyz = pd.DataFrame({\n",
    "            'x': x,\n",
    "            'y': y,\n",
    "            'z': z\n",
    "    })\n",
    "\n",
    "    # Applying rotation to cartesian coordinates\n",
    "    xyz_new = oblique_rotate(xyz['x'], xyz['y'], xyz['z'], omega, phi, kappa) \n",
    "\n",
    "    # Converting the rotated coordinates from spherical to cartesian\n",
    "    for index, row in xyz_new.iterrows():\n",
    "        lam[index], psi[index], h[index] = xyz2sph(row['x'], row['y'], row['z'])\n",
    "    \n",
    "    # Putting rotated spherical coordinates into a data frame\n",
    "    sph_new = pd.DataFrame({\n",
    "            'lambda': lam,\n",
    "            'psi': psi,\n",
    "            'h': h\n",
    "    })\n",
    "    \n",
    "    return sph_new"
   ]
  },
  {
   "cell_type": "markdown",
   "metadata": {},
   "source": [
    "------"
   ]
  },
  {
   "cell_type": "markdown",
   "metadata": {},
   "source": [
    "# <span style=\"color:blue\">*PART 1 - Places of Birth (Spherical Coordinates in DMS)*<span>"
   ]
  },
  {
   "cell_type": "markdown",
   "metadata": {},
   "source": [
    "**Reading in the *pickle* file (Spherical Coordinates in DMS format)**"
   ]
  },
  {
   "cell_type": "code",
   "execution_count": 104,
   "metadata": {},
   "outputs": [],
   "source": [
    "sph_dms = pd.read_pickle(\"./sph_dms.pkl\")"
   ]
  },
  {
   "cell_type": "markdown",
   "metadata": {},
   "source": [
    "**My PoB (Kevan) - Spherical Coordinates in DMS**"
   ]
  },
  {
   "cell_type": "code",
   "execution_count": 105,
   "metadata": {},
   "outputs": [],
   "source": [
    "pob = sph_dms.loc[[2]]"
   ]
  },
  {
   "cell_type": "code",
   "execution_count": 106,
   "metadata": {},
   "outputs": [],
   "source": [
    "k_name = ['Kevan (PoB)']"
   ]
  },
  {
   "cell_type": "code",
   "execution_count": 107,
   "metadata": {},
   "outputs": [],
   "source": [
    "k_pob = pd.DataFrame({\n",
    "    'Name':k_name, \n",
    "    '$\\lambda$dd':pob.iloc[0,1], \n",
    "    '$\\lambda$mm':pob.iloc[0,2], \n",
    "    '$\\lambda$ss.sssss':pob.iloc[0,3], \n",
    "    '$\\psi$dd':pob.iloc[0,4], \n",
    "    '$\\psi$mm':pob.iloc[0,5], \n",
    "    '$\\psi$ss.sssss':pob.iloc[0,6], \n",
    "    '$h$ (m)':pob.iloc[0,7]\n",
    "})"
   ]
  },
  {
   "cell_type": "markdown",
   "metadata": {},
   "source": [
    "**Partner's PoB (Wildan) - Spherical Coordinates in DMS**"
   ]
  },
  {
   "cell_type": "code",
   "execution_count": 108,
   "metadata": {},
   "outputs": [],
   "source": [
    "w_name = ['Wildan (PoB)']"
   ]
  },
  {
   "cell_type": "code",
   "execution_count": 109,
   "metadata": {},
   "outputs": [],
   "source": [
    "wlon = [107, 3, 9.12345] # Longitude\n",
    "wlat = [6, 55, 3.12345] # Latitude\n",
    "wh = 0 * 0.3048 # Height(m)"
   ]
  },
  {
   "cell_type": "code",
   "execution_count": 110,
   "metadata": {},
   "outputs": [],
   "source": [
    "w_lmd_dms = np.array([wlon])\n",
    "w_psi_dms = np.array([wlat])\n",
    "w_h = np.array([wh])"
   ]
  },
  {
   "cell_type": "code",
   "execution_count": 111,
   "metadata": {},
   "outputs": [],
   "source": [
    "w_pob = pd.DataFrame({\n",
    "    'Name': w_name,\n",
    "    '$\\lambda$dd': w_lmd_dms[:,0].astype(np.int),\n",
    "    '$\\lambda$mm': w_lmd_dms[:,1].astype(np.int),\n",
    "    '$\\lambda$ss.sssss': w_lmd_dms[:,2],\n",
    "    '$\\psi$dd': w_psi_dms[:,0].astype(np.int),\n",
    "    '$\\psi$mm': w_psi_dms[:,1].astype(np.int),\n",
    "    '$\\psi$ss.sssss': w_psi_dms[:,2],\n",
    "    '$h$ (m)': w_h\n",
    "})"
   ]
  },
  {
   "cell_type": "code",
   "execution_count": 112,
   "metadata": {},
   "outputs": [],
   "source": [
    "pobs = pd.DataFrame({\n",
    "    'Name':(k_pob.iloc[0,0], w_pob.iloc[0,0]), \n",
    "    '$\\lambda$dd':(k_pob.iloc[0,1], w_pob.iloc[0,1]),\n",
    "    '$\\lambda$mm':(k_pob.iloc[0,2], w_pob.iloc[0,2]), \n",
    "    '$\\lambda$ss.sssss':(k_pob.iloc[0,3], w_pob.iloc[0,3]),\n",
    "    '$\\psi$dd':(k_pob.iloc[0,4], w_pob.iloc[0,4]),\n",
    "    '$\\psi$mm':(k_pob.iloc[0,5], w_pob.iloc[0,5]),\n",
    "    '$\\psi$ss.sssss':(k_pob.iloc[0,6], w_pob.iloc[0,6]),\n",
    "    '$h$ (m)':(k_pob.iloc[0,7], w_pob.iloc[0,7])\n",
    "})"
   ]
  },
  {
   "cell_type": "code",
   "execution_count": 113,
   "metadata": {},
   "outputs": [
    {
     "name": "stdout",
     "output_type": "stream",
     "text": [
      "\n",
      "PoB's in Spherical Coordinates (DMS)\n",
      "\n",
      "-----------------------------------------------------------------------------------------------\n",
      "       Name         λ(deg)   λ(min)    λ(sec)      ψ(deg)   ψ(min)    ψ(sec)        h(m)\n",
      "-----------------------------------------------------------------------------------------------\n",
      "    Kevan (PoB)      -89      -57    -12.38369       30        2     36.78024      0.000\n",
      "   Wildan (PoB)      107        3      9.12345        6       55      3.12345      0.000\n",
      "-----------------------------------------------------------------------------------------------\n",
      "\n"
     ]
    }
   ],
   "source": [
    "print()\n",
    "print(\"PoB's in Spherical Coordinates (DMS)\")\n",
    "print()\n",
    "print(\"-----------------------------------------------------------------------------------------------\")\n",
    "print(\"       Name         \\u03BB(deg)   \\u03BB(min)    \\u03BB(sec)      \\u03C8(deg)   \\u03C8(min)    \\u03C8(sec)        h(m)\")\n",
    "print(\"-----------------------------------------------------------------------------------------------\")\n",
    "for index, row in pobs.iterrows():\n",
    "    print(\"%15s %8d %8d %12.5f %8d %8d %12.5f %10.3f\" % (row['Name'], row['$\\lambda$dd'], \n",
    "                                                     row['$\\lambda$mm'], row['$\\lambda$ss.sssss'],\n",
    "                                                     row['$\\psi$dd'], row['$\\psi$mm'], \n",
    "                                                     row['$\\psi$ss.sssss'], row['$h$ (m)']))\n",
    "print(\"-----------------------------------------------------------------------------------------------\")\n",
    "print()"
   ]
  },
  {
   "cell_type": "markdown",
   "metadata": {},
   "source": [
    "**Converting from DMS to Decimal Degrees**"
   ]
  },
  {
   "cell_type": "code",
   "execution_count": 183,
   "metadata": {},
   "outputs": [],
   "source": [
    "lmd_dd = np.zeros(2, dtype = np.float64)\n",
    "psi_dd = np.zeros(2, dtype = np.float64)"
   ]
  },
  {
   "cell_type": "code",
   "execution_count": 184,
   "metadata": {},
   "outputs": [],
   "source": [
    "for index, row in pobs.iterrows():\n",
    "    lmd_dd[index] = dms2dd(row['$\\lambda$dd'], row['$\\lambda$mm'], row['$\\lambda$ss.sssss'])\n",
    "    psi_dd[index] = dms2dd(row['$\\psi$dd'], row['$\\psi$mm'], row['$\\psi$ss.sssss'])\n",
    "    \n",
    "# Putting my PoB coordinates into a data frame\n",
    "coords_dd = pd.DataFrame(\n",
    "    {\"psi\":[psi_dd],\n",
    "     \"lambda\":[lmd_dd]\n",
    "    })"
   ]
  },
  {
   "cell_type": "markdown",
   "metadata": {},
   "source": [
    "**Reading in the coastline data (decimal degrees)** "
   ]
  },
  {
   "cell_type": "code",
   "execution_count": 116,
   "metadata": {},
   "outputs": [],
   "source": [
    "coastline = pd.read_csv('coastline.dat', header=None, sep='\\s\\s+', engine='python', usecols=[1,2], \n",
    "                        names=[\"psi\",\"lambda\"])\n",
    "coast_dd = coastline/60"
   ]
  },
  {
   "cell_type": "markdown",
   "metadata": {},
   "source": [
    "**Reading in the gridline data (decimal degrees)**"
   ]
  },
  {
   "cell_type": "code",
   "execution_count": 117,
   "metadata": {},
   "outputs": [],
   "source": [
    "gridline = pd.read_csv('gridline.dat', header=None, sep='\\s\\s+', engine='python', usecols=[1,2], \n",
    "                       names=[\"psi\",\"lambda\"])\n",
    "grid_dd = gridline/60"
   ]
  },
  {
   "cell_type": "markdown",
   "metadata": {},
   "source": [
    "--------------"
   ]
  },
  {
   "cell_type": "markdown",
   "metadata": {},
   "source": [
    "## $\\blacktriangleright$ <span style=\"color:limegreen\">*Aspect Conversions*<span>"
   ]
  },
  {
   "cell_type": "markdown",
   "metadata": {},
   "source": [
    "###### Co-latitude"
   ]
  },
  {
   "cell_type": "code",
   "execution_count": 186,
   "metadata": {},
   "outputs": [],
   "source": [
    "# Defining theta\n",
    "theta = 90 - psi_dd"
   ]
  },
  {
   "cell_type": "markdown",
   "metadata": {},
   "source": [
    "###### Transverse & Oblique: PoB"
   ]
  },
  {
   "cell_type": "code",
   "execution_count": 188,
   "metadata": {},
   "outputs": [],
   "source": [
    "# Converting coordinates from spherical to cartesian\n",
    "for value, row in pobs.iterrows():\n",
    "    x, y, z = sph2xyz(lmd_dd*rad, psi_dd*rad, row['$h$ (m)'])\n",
    "\n",
    "# Putting cartesian coordinates into a data frame\n",
    "xyz = pd.DataFrame({\n",
    "    'x':[x],\n",
    "    'y':[y],\n",
    "    'z':[z]\n",
    "})\n",
    "\n",
    "# Applying rotation to cartesian coordinates\n",
    "xyz2 = rotate(xyz['x'], xyz['y'], xyz['z'], 90, lmd_dd, 0)\n",
    "\n",
    "# Applying oblique rotation to cartesian coordinates\n",
    "xyz3 = oblique_rotate(xyz['x'], xyz['y'], xyz['z'], 0, theta, lmd_dd)\n",
    "\n",
    "# Converting the rotated coordinates from spherical to cartesian\n",
    "for value, row in xyz2.iterrows():\n",
    "    lmd_ddT, psi_ddT, hT = xyz2sph(row['x'], row['y'], row['z'])\n",
    "    \n",
    "# Converting the rotated coordinates from spherical to cartesian\n",
    "for value, row in xyz3.iterrows():\n",
    "    lmd_ddO, psi_ddO, hO = xyz2sph(row['x'], row['y'], row['z'])\n",
    "    \n",
    "# Putting transverse PoB coordinates into a data frame\n",
    "coords_ddT = pd.DataFrame(\n",
    "    {\"psi\":[psi_ddT],\n",
    "     \"lambda\":[lmd_ddT]\n",
    "    })\n",
    "\n",
    "# Putting oblique PoB coordinates into a data frame\n",
    "coords_ddO = pd.DataFrame(\n",
    "    {\"psi\":[psi_ddO],\n",
    "     \"lambda\":[lmd_ddO]\n",
    "    })"
   ]
  },
  {
   "cell_type": "markdown",
   "metadata": {},
   "source": [
    "###### Transverse & Oblique: Coastlines"
   ]
  },
  {
   "cell_type": "code",
   "execution_count": null,
   "metadata": {},
   "outputs": [],
   "source": [
    "# Adding a \"height\" column of zeros to the coastline data \n",
    "coast_dd['h'] = 0\n",
    "\n",
    "# Applying transverse aspect to coordinates\n",
    "coast_ddT = transverse(coast_dd, 90, lmd_dd, 0)\n",
    "\n",
    "# Applying oblique aspect to coordinates\n",
    "coast_ddO = oblique(coast_dd, 0, theta, lmd_dd)"
   ]
  },
  {
   "cell_type": "markdown",
   "metadata": {},
   "source": [
    "###### Transverse & Oblique: Gridlines"
   ]
  },
  {
   "cell_type": "code",
   "execution_count": null,
   "metadata": {},
   "outputs": [],
   "source": [
    "# Adding a \"height\" column of zeros to the gridline data \n",
    "grid_dd['h'] = 0\n",
    "\n",
    "# Applying transverse aspect to coordinates\n",
    "grid_ddT = transverse(grid_dd, 90, lmd_dd, 0)\n",
    "\n",
    "# Applying oblique aspect to coordinates\n",
    "grid_ddO = oblique(grid_dd, 0, theta, lmd_dd)"
   ]
  },
  {
   "cell_type": "markdown",
   "metadata": {},
   "source": [
    "------"
   ]
  },
  {
   "cell_type": "markdown",
   "metadata": {},
   "source": [
    "# <span style=\"color:blue\">*PART 2 - Shortest Path*<span>"
   ]
  },
  {
   "cell_type": "code",
   "execution_count": null,
   "metadata": {},
   "outputs": [],
   "source": [
    "def direct(lmd_A, psi_A, sAB, azAB, R = 6371000):\n",
    "    \"\"\"\n",
    "    Given latitude and longitude of point A, the arc-length distance from A to B, the azimuth from A to B, \n",
    "    and the radius of the earth, it calculates the latitude and longitude of point B.\n",
    "    \n",
    "    Input\n",
    "    ------\n",
    "    lmd_A: longitude of point A (decimal degrees) \n",
    "    psi_A: latitude of point A (decimal degrees)\n",
    "    sAB:    distance from A to B\n",
    "    azAB:   azimuth from A to B (decimal degrees)\n",
    "    R:    radius of the earth (meters)\n",
    "    \n",
    "    Output\n",
    "    ------\n",
    "    lmd_B: longitude of point B (decimal degrees) \n",
    "    psi_B: latitude of point B (decimal degrees)\n",
    "    \"\"\"\n",
    "    # Converting to radians\n",
    "    lmd_A = lmd_A * rad \n",
    "    psi_A = psi_A * rad\n",
    "    azAB = azAB * rad\n",
    "    \n",
    "    # Calculate the Direct equations\n",
    "    lmd_B = lmd_A + np.arctan2(np.sin(azAB), (1/np.tan(sAB/R)) * np.cos(psi_A) - np.sin(psi_A) * np.cos(azAB))\n",
    "    psi_B = np.arcsin(np.sin(psi_A) * np.cos(sAB/R) + np.cos(psi_A) * np.sin(sAB/R) * np.cos(azAB))\n",
    "    \n",
    "    # Converting to decimal degrees\n",
    "    lmd_B = lmd_B * deg\n",
    "    psi_B = psi_B * deg\n",
    "    \n",
    "    # Accounting for the change in quadrant\n",
    "    if lmd_B > 180:\n",
    "        lmd_B = -(360 - lmd_B)\n",
    "    elif lmd_B < -180:\n",
    "        lmd_B = lmd_B + 360\n",
    "    \n",
    "    return lmd_B, psi_B"
   ]
  },
  {
   "cell_type": "code",
   "execution_count": null,
   "metadata": {},
   "outputs": [],
   "source": [
    "def indirect(lmd_A, psi_A, lmd_B, psi_B, R = 6371000):\n",
    "    \"\"\"\n",
    "    Given latitude and longitude of points A and B, as well as the radius of the earth, it calculates the \n",
    "    arc-length distance from A to B, the azimuth from A to B, and the azimuth from B to A.\n",
    "    \n",
    "    Input\n",
    "    ------\n",
    "    lmd_A: longitude of point A (decimal degrees) \n",
    "    psi_A: latitude of point A (decimal degrees)\n",
    "    lmd_B: longitude of point B (decimal degrees) \n",
    "    psi_B: latitude of point B (decimal degrees)\n",
    "    R:    radius of the earth (meters)\n",
    "    \n",
    "    Output\n",
    "    ------\n",
    "    sAB:     distance from A to B\n",
    "    azAB:   azimuth from A to B (decimal degrees)\n",
    "    azBA:   azimuth from B to A (decimal degrees)\n",
    "    \"\"\"\n",
    "    # Converting to radians\n",
    "    lmd_A = lmd_A * rad \n",
    "    psi_A = psi_A * rad\n",
    "    lmd_B = lmd_B * rad \n",
    "    psi_B = psi_B * rad\n",
    "    \n",
    "    # Calculating the Indirect equations\n",
    "    sAB = R * np.arccos((np.sin(psi_B) * np.sin(psi_A)) + (np.cos(psi_B) * np.cos(psi_A) * np.cos(lmd_B - lmd_A)))\n",
    "    azAB = np.arctan2(np.sin(lmd_B - lmd_A), (np.cos(psi_A) * np.tan(psi_B)) - (np.sin(psi_A) * np.cos(lmd_B-lmd_A)))\n",
    "    azBA = np.arctan2(np.sin(lmd_A - lmd_B), (np.cos(psi_B) * np.tan(psi_A)) - (np.sin(psi_B) * np.cos(lmd_A-lmd_B)))\n",
    "    \n",
    "    # Converting to degrees\n",
    "    azAB = azAB * deg\n",
    "    azBA = azBA * deg\n",
    "    \n",
    "    # Limiting the Azimuths to positve values\n",
    "    if azAB < 0:\n",
    "        azAB = azAB + 360\n",
    "    \n",
    "    \n",
    "    return sAB, azAB, azBA"
   ]
  },
  {
   "cell_type": "code",
   "execution_count": null,
   "metadata": {},
   "outputs": [],
   "source": [
    "# PoBs\n",
    "lmd_A = lmd_dd[0]\n",
    "psi_A = psi_dd[0]\n",
    "lmd_B = lmd_dd[1]\n",
    "psi_B = psi_dd[1]"
   ]
  },
  {
   "cell_type": "code",
   "execution_count": null,
   "metadata": {},
   "outputs": [],
   "source": [
    "# Calculating initial parameters\n",
    "sAB_total, azAB, azBA = indirect(lmd_A, psi_A, lmd_B, psi_B)\n",
    "sAB_total, azAB, azBA "
   ]
  },
  {
   "cell_type": "code",
   "execution_count": null,
   "metadata": {},
   "outputs": [],
   "source": [
    "sAB_sum = np.arange(0, sAB_total, 250000)\n",
    "sAB_sum[-1]"
   ]
  },
  {
   "cell_type": "code",
   "execution_count": null,
   "metadata": {},
   "outputs": [],
   "source": [
    "# Initializing lists\n",
    "lmd_list = []\n",
    "psi_list = []\n",
    "az_list = []\n",
    "s_list = []\n",
    "\n",
    "# Calculations \n",
    "for index in range(len(sAB_sum)):\n",
    "    \n",
    "    if index == len(sAB_sum)-1:\n",
    "        distAB = sAB_total - sAB_sum[-1]\n",
    "    elif index == len(sAB_sum):\n",
    "        distAB = 0\n",
    "    else:\n",
    "        distAB = 250000\n",
    "        \n",
    "    lmd_list.append(lmd_A)\n",
    "    psi_list.append(psi_A)\n",
    "    \n",
    "    sAB, azAB, azBA = indirect(lmd_A, psi_A, lmd_B, psi_B)\n",
    "    lmd_A, psi_A = direct(lmd_A, psi_A, distAB, azAB)\n",
    "    \n",
    "    az_list.append(azAB)\n",
    "    s_list.append(sAB)"
   ]
  },
  {
   "cell_type": "code",
   "execution_count": null,
   "metadata": {},
   "outputs": [],
   "source": [
    "# Converting lists to arrays\n",
    "lmd_list = np.array(lmd_list)\n",
    "psi_list = np.array(psi_list)\n",
    "az_list = np.array(az_list)\n",
    "s_list = np.array(s_list)"
   ]
  },
  {
   "cell_type": "code",
   "execution_count": null,
   "metadata": {},
   "outputs": [],
   "source": [
    "# Intializing arrays\n",
    "lmd_deg = np.zeros(len(lmd_list), dtype = np.int)\n",
    "lmd_min = np.zeros(len(lmd_list), dtype = np.int)\n",
    "lmd_sec = np.zeros(len(lmd_list), dtype = np.float64)\n",
    "psi_deg = np.zeros(len(psi_list), dtype = np.int)\n",
    "psi_min = np.zeros(len(psi_list), dtype = np.int)\n",
    "psi_sec = np.zeros(len(psi_list), dtype = np.float64)\n",
    "\n",
    "# Converting decimal degrees to DMS format\n",
    "for index in range(len(lmd_list)):\n",
    "    lmd_deg[index],lmd_min[index],lmd_sec[index] = dd2dms(lmd_list[index])\n",
    "    psi_deg[index],psi_min[index],psi_sec[index] = dd2dms(psi_list[index])"
   ]
  },
  {
   "cell_type": "code",
   "execution_count": null,
   "metadata": {},
   "outputs": [],
   "source": [
    "# Creating Data Frame\n",
    "short_path = pd.DataFrame({\n",
    "    'S':s_list,\n",
    "    'Az':az_list,\n",
    "    'lmd_deg':lmd_deg,\n",
    "    'lmd_min':lmd_min,\n",
    "    'lmd_sec':lmd_sec,\n",
    "    'psi_deg':psi_deg,\n",
    "    'psi_min':psi_min,\n",
    "    'psi_sec':psi_sec\n",
    "})"
   ]
  },
  {
   "cell_type": "code",
   "execution_count": null,
   "metadata": {},
   "outputs": [],
   "source": [
    "print()\n",
    "print(\"Shortest Distance Between POBs\")\n",
    "print()\n",
    "print(\"------------------------------------------------------------------------------------------\")\n",
    "print(\" S_{M} (m)     Az_{M} (deg)     \\u03BB(deg)   \\u03BB(min)    \\u03BB(sec)      \\u03C8(deg)   \\u03C8(min)    \\u03C8(sec)\")\n",
    "print(\"------------------------------------------------------------------------------------------\")\n",
    "for index, row in short_path.iterrows():\n",
    "    print(\"%9d  %15.7f  %8d %8d %12.5f %8d %8d %12.5f\" % (row['S'], row['Az'], \n",
    "                                                     row['lmd_deg'], row['lmd_min'],\n",
    "                                                     row['lmd_sec'], row['psi_deg'], \n",
    "                                                     row['psi_min'], row['psi_sec']))\n",
    "print(\"------------------------------------------------------------------------------------------\")\n",
    "print()"
   ]
  },
  {
   "cell_type": "markdown",
   "metadata": {},
   "source": [
    "------"
   ]
  },
  {
   "cell_type": "markdown",
   "metadata": {},
   "source": [
    "## $\\blacktriangleright$ Plate Carree"
   ]
  },
  {
   "cell_type": "markdown",
   "metadata": {},
   "source": [
    "###### Plotting Plate Carree Map"
   ]
  },
  {
   "cell_type": "code",
   "execution_count": null,
   "metadata": {
    "scrolled": false
   },
   "outputs": [],
   "source": [
    "# Plate Carree Mapping Prescription\n",
    "Xm_PC = lmd_dd\n",
    "Ym_PC = psi_dd\n",
    "\n",
    "# Labels for markers\n",
    "labels_PC = ['  PoB']\n",
    "\n",
    "# Defining the plot name\n",
    "PCn = plt\n",
    "\n",
    "# Resizing the plot window\n",
    "PCn.rcParams[\"figure.figsize\"] = (14,7)\n",
    "PCn.rcParams['axes.spines.right'] = True\n",
    "PCn.rcParams['axes.spines.top'] = True\n",
    "\n",
    "# Plotting the original locations\n",
    "PCn.plot(Xm_PC, Ym_PC, 'ro', markersize=10, zorder=4)\n",
    "\n",
    "# Plotting the coastlines\n",
    "PCn.scatter(coast_dd['lambda'], coast_dd['psi'], c='k', s=4, edgecolors='none', zorder=2)\n",
    "\n",
    "# Plotting the gridlines\n",
    "PCn.scatter(grid_dd['lambda'], grid_dd['psi'], c='k', s=4, edgecolors='none', zorder=3)\n",
    "\n",
    "# Plot title & Axis labels\n",
    "PCn.xlabel('$X$ $(cm)$', fontsize='16', fontweight='bold')\n",
    "PCn.ylabel('$Y$ $(cm)$', fontsize='16', fontweight='bold')\n",
    "PCn.title('Plate Carree', fontsize='24', fontweight='bold', style='italic')\n",
    "\n",
    "# Adding labels to the markers\n",
    "for i, txt in enumerate(labels_PC):\n",
    "    PCn.annotate(txt, (Xm_PC-8, Ym_PC+4), fontsize='14', color='b')\n",
    "\n",
    "# Tick Mark Labels\n",
    "PCn.xticks(np.arange(-180, 181, 30))\n",
    "PCn.yticks(np.arange(-90, 91, 30))\n",
    "PCn.ylim(-90,90)\n",
    "PCn.xlim(-180,180)\n",
    "\n",
    "# Grid\n",
    "PCn.grid(True, color='white', zorder=1)"
   ]
  },
  {
   "cell_type": "markdown",
   "metadata": {},
   "source": [
    "-------"
   ]
  },
  {
   "cell_type": "markdown",
   "metadata": {},
   "source": [
    "## $\\blacktriangleright$ Sanson-Flamsteed"
   ]
  },
  {
   "cell_type": "markdown",
   "metadata": {},
   "source": [
    "###### Plotting Sanson-Flamsteed Map"
   ]
  },
  {
   "cell_type": "code",
   "execution_count": null,
   "metadata": {},
   "outputs": [],
   "source": [
    "# Sanson-Flamsteed Mapping Prescription\n",
    "Xm_SF = lmd_dd * np.cos(psi_dd*rad)\n",
    "Ym_SF = psi_dd\n",
    "\n",
    "# Labels for markers\n",
    "labels_SF = ['  PoB']\n",
    "\n",
    "# Defining the plot name\n",
    "SFn = plt\n",
    "\n",
    "# Resizing the plot window\n",
    "SFn.rcParams[\"figure.figsize\"] = (14,7)\n",
    "SFn.rcParams['axes.spines.right'] = True\n",
    "SFn.rcParams['axes.spines.top'] = True\n",
    "\n",
    "# Plotting the original locations\n",
    "SFn.plot(Xm_SF, Ym_SF, 'ro', markersize=10, zorder=5)\n",
    "\n",
    "# Plotting the coastlines\n",
    "SFn.scatter(coast_dd['lambda']*np.cos(coast_dd['psi']*rad), coast_dd['psi'], c='k', s=4, \n",
    "            edgecolors='none', zorder=2)\n",
    "\n",
    "# Plotting the gridlines\n",
    "SFn.scatter(grid_dd['lambda']*np.cos(grid_dd['psi']*rad), grid_dd['psi'], c='k', s=4, \n",
    "            edgecolors='none', zorder=3)\n",
    "\n",
    "# Plot title & Axis labels\n",
    "SFn.xlabel('$X$ $(cm)$', fontsize='16', fontweight='bold')\n",
    "SFn.ylabel('$Y$ $(cm)$', fontsize='16', fontweight='bold')\n",
    "SFn.title('Sanson-Flamsteed', fontsize='24', fontweight='bold', style='italic')\n",
    "\n",
    "# Adding labels to the markers\n",
    "for i, txt in enumerate(labels_SF):\n",
    "    SFn.annotate(txt, (Xm_SF-8, Ym_SF+4), fontsize='14', color='b')\n",
    "\n",
    "# Tick Mark Labels\n",
    "SFn.xticks(np.arange(-180, 181, 30))\n",
    "SFn.yticks(np.arange(-90, 91, 30))\n",
    "SFn.ylim(-90,90)\n",
    "SFn.xlim(-180,180)\n",
    "\n",
    "# Grid\n",
    "SFn.grid(True, color='white', zorder=1)"
   ]
  },
  {
   "cell_type": "markdown",
   "metadata": {},
   "source": [
    "## $\\blacktriangleright$ Mercator"
   ]
  },
  {
   "cell_type": "markdown",
   "metadata": {},
   "source": [
    "###### Plotting Mercator Map"
   ]
  },
  {
   "cell_type": "code",
   "execution_count": null,
   "metadata": {},
   "outputs": [],
   "source": [
    "# Applying the Mercator Mapping Prescription to the coordinates\n",
    "coords_M = mercator(coords_dd)\n",
    "\n",
    "# Mercator mapping prescription\n",
    "Xm_M = coords_M['lambda']\n",
    "Ym_M = coords_M['psi']\n",
    "\n",
    "# Labels for markers\n",
    "labels_M = ['  PoB']\n",
    "\n",
    "# Defining the plot name\n",
    "MCn = plt\n",
    "\n",
    "# Resizing the plot window\n",
    "MCn.rcParams[\"figure.figsize\"] = (14,7)\n",
    "MCn.rcParams['axes.spines.right'] = True\n",
    "MCn.rcParams['axes.spines.top'] = True\n",
    "\n",
    "# Plotting the original locations\n",
    "MCn.plot(Xm_M, Ym_M, 'ro', markersize=10, zorder=5)\n",
    "\n",
    "# Applying the Mercator Mapping Prescription to the coastlines\n",
    "coast_M = mercator(coast_dd)\n",
    "\n",
    "# Plotting the coastlines\n",
    "MCn.scatter(coast_M['lambda'], coast_M['psi'], c='k', s=4, edgecolors='none', zorder=2)\n",
    "\n",
    "# Applying the Mercator Mapping Prescription to the gridlines\n",
    "grid_M = mercator(grid_dd)\n",
    "\n",
    "# Plotting the gridlines\n",
    "MCn.scatter(grid_M['lambda'], grid_M['psi'], c='k', s=4, edgecolors='none', zorder=3)\n",
    "\n",
    "# Plot title & Axis labels\n",
    "MCn.xlabel('$X$ $(cm)$', fontsize='16', fontweight='bold')\n",
    "MCn.ylabel('$Y$ $(cm)$', fontsize='16', fontweight='bold')\n",
    "MCn.title('Mercator', fontsize='24', fontweight='bold', style='italic')\n",
    "\n",
    "# Adding labels to the markers\n",
    "MCn.annotate(txt, (Xm_M-8, Ym_M+4), fontsize='14', color='b')\n",
    "\n",
    "# Tick Mark Labels\n",
    "MCn.xticks(np.arange(-180, 181, 30))\n",
    "MCn.yticks(np.arange(-80, 81, 20))\n",
    "MCn.ylim(-80,80)\n",
    "MCn.xlim(-180,180)\n",
    "\n",
    "# Grid\n",
    "MCn.grid(True, color='white', zorder=1)"
   ]
  },
  {
   "cell_type": "markdown",
   "metadata": {},
   "source": [
    "______"
   ]
  },
  {
   "cell_type": "markdown",
   "metadata": {},
   "source": [
    "## $\\blacktriangleright$ Transverse Plate Carree"
   ]
  },
  {
   "cell_type": "markdown",
   "metadata": {},
   "source": [
    "###### Plotting Transverse Plate Carree Map"
   ]
  },
  {
   "cell_type": "code",
   "execution_count": null,
   "metadata": {},
   "outputs": [],
   "source": [
    "# Transverse Plate Carree Mapping Prescription\n",
    "XmT_PC = lmd_ddT\n",
    "YmT_PC = psi_ddT\n",
    "\n",
    "# Labels for markers\n",
    "labels_PC = ['  PoB']\n",
    "\n",
    "# Defining the plot name\n",
    "PCt = plt\n",
    "\n",
    "# Resizing the plot window\n",
    "PCt.rcParams[\"figure.figsize\"] = (8,16)\n",
    "PCt.rcParams['axes.spines.right'] = True\n",
    "PCt.rcParams['axes.spines.top'] = True\n",
    "\n",
    "# Plotting the original locations\n",
    "PCt.plot(-YmT_PC, XmT_PC, 'ro', markersize=10, zorder=4)\n",
    "\n",
    "# Plotting the coastlines\n",
    "PCt.scatter(-coast_ddT['psi'], coast_ddT['lambda'], c='k', s=4, edgecolors='none', zorder=2)\n",
    "\n",
    "# Plotting the gridlines\n",
    "PCt.scatter(-grid_ddT['psi'], grid_ddT['lambda'], c='k', s=4, edgecolors='none', zorder=3)\n",
    "\n",
    "# Plot title & Axis labels\n",
    "PCt.xlabel('$X$ $(cm)$', fontsize='16', fontweight='bold')\n",
    "PCt.ylabel('$Y$ $(cm)$', fontsize='16', fontweight='bold')\n",
    "PCt.title('Transverse Plate Carree', fontsize='24', fontweight='bold', style='italic')\n",
    "\n",
    "# Adding labels to the markers\n",
    "for i, txt in enumerate(labels_PC):\n",
    "    PCt.annotate(txt, (-YmT_PC-8, XmT_PC+4), fontsize='14', color='b')\n",
    "\n",
    "# Tick Mark Labels\n",
    "PCt.yticks(np.arange(-180, 181, 30))\n",
    "PCt.xticks(np.arange(-90, 91, 30))\n",
    "PCt.xlim(-90,90)\n",
    "PCt.ylim(-180,180)\n",
    "\n",
    "# Grid\n",
    "PCt.grid(True, color='white', zorder=1)"
   ]
  },
  {
   "cell_type": "markdown",
   "metadata": {},
   "source": [
    "## $\\blacktriangleright$ Transverse Sanson-Flamsteed"
   ]
  },
  {
   "cell_type": "markdown",
   "metadata": {},
   "source": [
    "###### Plotting Transverse Sanson-Flamsteed Map"
   ]
  },
  {
   "cell_type": "code",
   "execution_count": null,
   "metadata": {},
   "outputs": [],
   "source": [
    "# Transverse Plate Carree Mapping Prescription\n",
    "XmT_SF = lmd_ddT * np.cos(psi_ddT*rad)\n",
    "YmT_SF = psi_ddT\n",
    "\n",
    "# Labels for markers\n",
    "labels_SF = ['  PoB']\n",
    "\n",
    "# Defining the plot name\n",
    "SFt = plt\n",
    "\n",
    "# Resizing the plot window\n",
    "SFt.rcParams[\"figure.figsize\"] = (8,16)\n",
    "SFt.rcParams['axes.spines.right'] = True\n",
    "SFt.rcParams['axes.spines.top'] = True\n",
    "\n",
    "# Plotting the original locations\n",
    "SFt.plot(-YmT_SF, XmT_SF, 'ro', markersize=10, zorder=5) # SF\n",
    "\n",
    "# Plotting the coastlines\n",
    "SFt.scatter(-coast_ddT['psi'], coast_ddT['lambda']*np.cos(coast_ddT['psi']*rad), c='k', s=4, \n",
    "            edgecolors='none', zorder=2)\n",
    "\n",
    "# Plotting the gridlines\n",
    "SFt.scatter(-grid_ddT['psi'], grid_ddT['lambda']*np.cos(grid_ddT['psi']*rad), c='k', s=4, \n",
    "            edgecolors='none', zorder=3)\n",
    "\n",
    "# Plot title & Axis labels\n",
    "SFt.xlabel('$X$ $(cm)$', fontsize='16', fontweight='bold')\n",
    "SFt.ylabel('$Y$ $(cm)$', fontsize='16', fontweight='bold')\n",
    "SFt.title('Transverse Sanson-Flamsteed', fontsize='24', fontweight='bold', style='italic')\n",
    "\n",
    "# Adding labels to the markers\n",
    "for i, txt in enumerate(labels_SF):\n",
    "    SFt.annotate(txt, (-YmT_SF-8, XmT_SF+4), fontsize='14', color='b')\n",
    "\n",
    "# Tick Mark Labels\n",
    "SFt.yticks(np.arange(-180, 181, 30))\n",
    "SFt.xticks(np.arange(-90, 91, 30))\n",
    "SFt.xlim(-90,90)\n",
    "SFt.ylim(-180,180)\n",
    "\n",
    "# Grid\n",
    "SFt.grid(True, color='white', zorder=1)"
   ]
  },
  {
   "cell_type": "markdown",
   "metadata": {},
   "source": [
    "## $\\blacktriangleright$ Transverse Mercator"
   ]
  },
  {
   "cell_type": "markdown",
   "metadata": {},
   "source": [
    "###### Plotting Transverse Mercator Map"
   ]
  },
  {
   "cell_type": "code",
   "execution_count": null,
   "metadata": {},
   "outputs": [],
   "source": [
    "# Applying the Mercator Mapping Prescription to the coordinates\n",
    "coords_MT = mercator(coords_ddT)\n",
    "\n",
    "# Transverse Mercator Mapping Prescription\n",
    "XmT_M = coords_MT['lambda']\n",
    "YmT_M = coords_MT['psi']\n",
    "\n",
    "# Labels for markers\n",
    "labels_M = ['  PoB']\n",
    "\n",
    "# Defining the plot name\n",
    "MCt = plt\n",
    "\n",
    "# Resizing the plot window\n",
    "MCt.rcParams[\"figure.figsize\"] = (8,16)\n",
    "MCt.rcParams['axes.spines.right'] = True\n",
    "MCt.rcParams['axes.spines.top'] = True\n",
    "\n",
    "# Plotting the original locations\n",
    "MCt.plot(-YmT_M, XmT_M, 'ro', markersize=10, zorder=5) # SF\n",
    "\n",
    "# Applying the Mercator Mapping Prescription to the coastlines\n",
    "coast_MT = mercator(coast_ddT)\n",
    "\n",
    "# Plotting the coastlines\n",
    "MCt.scatter(-coast_MT['psi'], coast_MT['lambda'], c='k', s=4, edgecolors='none', zorder=2)\n",
    "\n",
    "# Applying the Mercator Mapping Prescription to the gridlines\n",
    "grid_MT = mercator(grid_ddT)\n",
    "\n",
    "# Plotting the gridlines\n",
    "MCt.scatter(-grid_MT['psi'], grid_MT['lambda'], c='k', s=4, edgecolors='none', zorder=3)\n",
    "\n",
    "# Plot title & Axis labels\n",
    "MCt.xlabel('$X$ $(cm)$', fontsize='16', fontweight='bold')\n",
    "MCt.ylabel('$Y$ $(cm)$', fontsize='16', fontweight='bold')\n",
    "MCt.title('Transverse Mercator', fontsize='24', fontweight='bold', style='italic')\n",
    "\n",
    "# Adding labels to the markers\n",
    "for i, txt in enumerate(labels_M):\n",
    "    MCt.annotate(txt, (-YmT_M-8, XmT_M+4), fontsize='14', color='b')\n",
    "\n",
    "# Tick Mark Labels\n",
    "MCt.yticks(np.arange(-180, 181, 30))\n",
    "MCt.xticks(np.arange(-80, 81, 20))\n",
    "MCt.xlim(-80,80)\n",
    "MCt.ylim(-180,180)\n",
    "\n",
    "# Grid\n",
    "MCt.grid(True, color='white', zorder=1)"
   ]
  },
  {
   "cell_type": "markdown",
   "metadata": {},
   "source": [
    "______"
   ]
  },
  {
   "cell_type": "markdown",
   "metadata": {},
   "source": [
    "In part 2 of this assignment, I have plotted the gridlines, coastlines, and my PoB using normal stereographic and oblique stereographic mapping prescriptions. For these maps, I have used only points that fall between 0° and 105° colatitude."
   ]
  },
  {
   "cell_type": "markdown",
   "metadata": {},
   "source": [
    "###### Plotting Stereographic Map"
   ]
  },
  {
   "cell_type": "code",
   "execution_count": null,
   "metadata": {},
   "outputs": [],
   "source": [
    "# Applying the Stereographic Mapping Prescription to the coordinates\n",
    "coords_ST = stereo(coords_dd)\n",
    "\n",
    "# Stereographic mapping prescription\n",
    "Xm_ST = coords_ST['lambda']\n",
    "Ym_ST = coords_ST['psi']\n",
    "\n",
    "# Labels for markers\n",
    "labels_ST = ['  PoB']\n",
    "\n",
    "# Defining the plot name\n",
    "STn = plt\n",
    "\n",
    "# Resizing the plot window\n",
    "STn.rcParams[\"figure.figsize\"] = (10,10)\n",
    "STn.rcParams['axes.spines.right'] = True\n",
    "STn.rcParams['axes.spines.top'] = True\n",
    "\n",
    "# Plotting the original locations\n",
    "STn.plot(Xm_ST, Ym_ST, 'ro', markersize=10, zorder=5) # ST\n",
    "\n",
    "# Applying the Stereographic Mapping Prescription to the coastlines\n",
    "coast_ST = stereo(coast_dd)\n",
    "\n",
    "# Plotting the coastlines\n",
    "STn.scatter(coast_ST['lambda'], coast_ST['psi'], c='k', s=4, edgecolors='none', zorder=2)\n",
    "\n",
    "# Applying the Stereographic Mapping Prescription to the gridlines\n",
    "grid_ST = stereo(grid_dd)\n",
    "\n",
    "# Plotting the gridlines\n",
    "STn.scatter(grid_ST['lambda'], grid_ST['psi'], c='k', s=4, edgecolors='none', zorder=3)\n",
    "\n",
    "# Plot title & Axis labels\n",
    "STn.xlabel('$X$ $(cm)$', fontsize='16', fontweight='bold')\n",
    "STn.ylabel('$Y$ $(cm)$', fontsize='16', fontweight='bold')\n",
    "STn.title('Stereographic', fontsize='24', fontweight='bold', style='italic')\n",
    "\n",
    "# Adding labels to the markers\n",
    "STn.annotate(txt, (Xm_ST-12, Ym_ST+4), fontsize='14', color='b')\n",
    "\n",
    "# Grid\n",
    "STn.grid(True, color='white', zorder=1)"
   ]
  },
  {
   "cell_type": "markdown",
   "metadata": {},
   "source": [
    "###### Plotting Oblique Stereographic Map"
   ]
  },
  {
   "cell_type": "code",
   "execution_count": null,
   "metadata": {},
   "outputs": [],
   "source": [
    "# Applying the Stereographic Mapping Prescription to the coordinates\n",
    "coords_OST = stereo(coords_ddO)\n",
    "coast_OST = stereo(coast_ddO)\n",
    "grid_OST = stereo(grid_ddO)\n",
    "\n",
    "# Stereographic mapping prescription\n",
    "Xm_OST = coords_OST['lambda']\n",
    "Ym_OST = coords_OST['psi']\n",
    "\n",
    "# Labels for markers\n",
    "labels_OST = ['  PoB']\n",
    "\n",
    "# Defining the plot name\n",
    "OSTn = plt\n",
    "\n",
    "# Resizing the plot window\n",
    "OSTn.rcParams[\"figure.figsize\"] = (10,10)\n",
    "OSTn.rcParams['axes.spines.right'] = True\n",
    "OSTn.rcParams['axes.spines.top'] = True\n",
    "\n",
    "# Plotting the original locations\n",
    "OSTn.plot(Ym_OST, -Xm_OST, 'ro', markersize=10, zorder=5)\n",
    "\n",
    "# Plotting the coastlines\n",
    "OSTn.scatter(coast_OST['psi'], -coast_OST['lambda'], c='k', s=4, edgecolors='none', zorder=2)\n",
    "\n",
    "# Plotting the gridlines\n",
    "OSTn.scatter(grid_OST['psi'], -grid_OST['lambda'], c='k', s=4, edgecolors='none', zorder=3)\n",
    "\n",
    "# Plot title & Axis labels\n",
    "OSTn.xlabel('$X$ $(cm)$', fontsize='16', fontweight='bold')\n",
    "OSTn.ylabel('$Y$ $(cm)$', fontsize='16', fontweight='bold')\n",
    "OSTn.title('Oblique Stereographic', fontsize='24', fontweight='bold', style='italic')\n",
    "\n",
    "# Adding labels to the markers\n",
    "OSTn.annotate(txt, (Xm_OST-12, Ym_OST+4), fontsize='14', color='b')\n",
    "\n",
    "# Grid\n",
    "OSTn.grid(True, color='white', zorder=1)"
   ]
  },
  {
   "cell_type": "markdown",
   "metadata": {},
   "source": [
    "______"
   ]
  },
  {
   "cell_type": "markdown",
   "metadata": {},
   "source": [
    "# <span style=\"color:blue\">*PART 4 - Tables*<span>"
   ]
  },
  {
   "cell_type": "markdown",
   "metadata": {},
   "source": [
    "### $\\blacktriangleright$ Data Frames"
   ]
  },
  {
   "cell_type": "code",
   "execution_count": null,
   "metadata": {},
   "outputs": [],
   "source": [
    "# Plate Carree\n",
    "df_PC = pd.DataFrame({\n",
    "    'direction':scalePC['Direction'],\n",
    "    'scale':scalePC['Scale'],\n",
    "    '%':scalePC['Ratio to NS']\n",
    "})\n",
    "\n",
    "# Sanson-Flamsteed\n",
    "df_SF = pd.DataFrame({\n",
    "    'direction':scaleSF['Direction'],\n",
    "    'scale':scaleSF['Scale'],\n",
    "    '%':scaleSF['Ratio to NS']\n",
    "})\n",
    "\n",
    "# Mercator\n",
    "df_MC = pd.DataFrame({\n",
    "    'direction':scaleMC['Direction'],\n",
    "    'scale':scaleMC['Scale'],\n",
    "    '%':scaleMC['Ratio to NS']\n",
    "})\n",
    "\n",
    "# Transverse Plate Carree\n",
    "df_TPC = pd.DataFrame({\n",
    "    'direction':scalePCt['Direction'],\n",
    "    'scale':scalePCt['Scale'],\n",
    "    '%':scalePCt['Ratio to NS']\n",
    "})\n",
    "\n",
    "# Transverse Sanson-Flamsteed\n",
    "df_TSF = pd.DataFrame({\n",
    "    'direction':scaleSFt['Direction'],\n",
    "    'scale':scaleSFt['Scale'],\n",
    "    '%':scaleSFt['Ratio to NS']\n",
    "})\n",
    "\n",
    "# Transverse Mercator\n",
    "df_TMC = pd.DataFrame({\n",
    "    'direction':scaleMCt['Direction'],\n",
    "    'scale':scaleMCt['Scale'],\n",
    "    '%':scaleMCt['Ratio to NS']\n",
    "})\n",
    "\n",
    "# Normal Stereographic\n",
    "df_ST = pd.DataFrame({\n",
    "    'direction':scaleST['Direction'],\n",
    "    'scale':scaleST['Scale'],\n",
    "    '%':scaleST['Ratio to NS']\n",
    "})\n",
    "\n",
    "# Oblique Stereographic\n",
    "df_OST = pd.DataFrame({\n",
    "    'direction':scaleOST['Direction'],\n",
    "    'scale':scaleOST['Scale'],\n",
    "    '%':scaleOST['Ratio to NS']\n",
    "})"
   ]
  },
  {
   "cell_type": "markdown",
   "metadata": {},
   "source": [
    "### $\\blacktriangleright$ Tables"
   ]
  },
  {
   "cell_type": "code",
   "execution_count": null,
   "metadata": {
    "scrolled": false
   },
   "outputs": [],
   "source": [
    "print()\n",
    "print('Plate Carree')\n",
    "print(\"----------------------------------------\")\n",
    "print(\"   Direction     Scales        % NS     \")\n",
    "print(\"----------------------------------------\")\n",
    "for index, row in df_PC.iterrows():\n",
    "    print(\"%8s %15s %12f\" % (row['direction'], row['scale'], row['%']))\n",
    "print(\"----------------------------------------\")\n",
    "print()\n",
    "print()\n",
    "print()\n",
    "print('Sanson-Flamsteed')\n",
    "print(\"----------------------------------------\")\n",
    "print(\"   Direction     Scales        % NS     \")\n",
    "print(\"----------------------------------------\")\n",
    "for index, row in df_SF.iterrows():\n",
    "    print(\"%8s %15s %12f\" % (row['direction'], row['scale'], row['%']))\n",
    "print(\"----------------------------------------\")\n",
    "print()\n",
    "print()\n",
    "print()\n",
    "print('Mercator')\n",
    "print(\"----------------------------------------\")\n",
    "print(\"   Direction     Scales        % NS     \")\n",
    "print(\"----------------------------------------\")\n",
    "for index, row in df_MC.iterrows():\n",
    "    print(\"%8s %15s %12f\" % (row['direction'], row['scale'], row['%']))\n",
    "print(\"----------------------------------------\")\n",
    "print()\n",
    "print()\n",
    "print()\n",
    "print('Transverse Plate Carree')\n",
    "print(\"----------------------------------------\")\n",
    "print(\"   Direction     Scales        % NS     \")\n",
    "print(\"----------------------------------------\")\n",
    "for index, row in df_TPC.iterrows():\n",
    "    print(\"%8s %15s %12f\" % (row['direction'], row['scale'], row['%']))\n",
    "print(\"----------------------------------------\")\n",
    "print()\n",
    "print()\n",
    "print()\n",
    "print('Transverse Sanson-Flamsteed')\n",
    "print(\"----------------------------------------\")\n",
    "print(\"   Direction     Scales        % NS     \")\n",
    "print(\"----------------------------------------\")\n",
    "for index, row in df_TSF.iterrows():\n",
    "    print(\"%8s %15s %12f\" % (row['direction'], row['scale'], row['%']))\n",
    "print(\"----------------------------------------\")\n",
    "print()\n",
    "print()\n",
    "print()\n",
    "print('Transverse Mercator')\n",
    "print(\"----------------------------------------\")\n",
    "print(\"   Direction     Scales        % NS     \")\n",
    "print(\"----------------------------------------\")\n",
    "for index, row in df_TMC.iterrows():\n",
    "    print(\"%8s %15s %12f\" % (row['direction'], row['scale'], row['%']))\n",
    "print(\"----------------------------------------\")\n",
    "print()\n",
    "print()\n",
    "print()\n",
    "print('Stereographic')\n",
    "print(\"----------------------------------------\")\n",
    "print(\"   Direction     Scales        % NS     \")\n",
    "print(\"----------------------------------------\")\n",
    "for index, row in df_ST.iterrows():\n",
    "    print(\"%8s %15s %12f\" % (row['direction'], row['scale'], row['%']))\n",
    "print(\"----------------------------------------\")\n",
    "print()\n",
    "print()\n",
    "print()\n",
    "print('Oblique Stereographic')\n",
    "print(\"----------------------------------------\")\n",
    "print(\"   Direction     Scales        % NS     \")\n",
    "print(\"----------------------------------------\")\n",
    "for index, row in df_OST.iterrows():\n",
    "    print(\"%8s %15s %12f\" % (row['direction'], row['scale'], row['%']))\n",
    "print(\"----------------------------------------\")\n",
    "print()"
   ]
  },
  {
   "cell_type": "markdown",
   "metadata": {},
   "source": [
    "______"
   ]
  },
  {
   "cell_type": "markdown",
   "metadata": {},
   "source": [
    "# <span style=\"color:blue\">*PART 5 - Discussion*<span>"
   ]
  },
  {
   "cell_type": "markdown",
   "metadata": {},
   "source": [
    "### $\\blacktriangleright$ Evaluating the Scales"
   ]
  },
  {
   "cell_type": "markdown",
   "metadata": {},
   "source": [
    "The transverse aspect scales are far more uniform than the normal aspect scales, but this is do to the mapping prescriptions we used. These mapping prescriptions are designed to provide the best scale ratios along the equator and these ratios gradually get worse as you move toward the poles. Since we made our PoB meridian the new equator, it makes sense that our scale ratio is so much better in the transverse aspect. When evaluating the scales in the normal aspect, it is clear that the Mercator mapping prescription provides the best scale ratios of the three prescriptions we are considering. For the transverse aspect, however, the differences in scale are so small that it is tough to say at first glance which one provides the best ratio. Since the normal Mercator mapping prescription is conformal, we know that the transverse is also conformal, so the Transverse Mercator is still the favored prescription. \n",
    "\n",
    "As for the stereographic and oblique stereographic, it is difficult to say how it compares simply by looking at the calculated scale tables. Similar to the transverse maps, we have established our areas of interest as the center of the map, therefore, all deviations in the scale get worse as you move away from this point. \n",
    "\n",
    "As an engineer/surveyor, the normal stereographic prescription seems to be ideal when working around the north or south poles. Since the stereographic projection is conformal, all of the angles are preserved, so the meridians have the correct relative directions. The oblique stereographic mapping presciption has the added advantage of providing the same qualities as the normal sterographic prescription, but at a location other than the poles."
   ]
  },
  {
   "cell_type": "code",
   "execution_count": null,
   "metadata": {},
   "outputs": [],
   "source": []
  }
 ],
 "metadata": {
  "kernelspec": {
   "display_name": "geodesy",
   "language": "python",
   "name": "geodesy"
  },
  "language_info": {
   "codemirror_mode": {
    "name": "ipython",
    "version": 3
   },
   "file_extension": ".py",
   "mimetype": "text/x-python",
   "name": "python",
   "nbconvert_exporter": "python",
   "pygments_lexer": "ipython3",
   "version": "3.7.5"
  }
 },
 "nbformat": 4,
 "nbformat_minor": 2
}
