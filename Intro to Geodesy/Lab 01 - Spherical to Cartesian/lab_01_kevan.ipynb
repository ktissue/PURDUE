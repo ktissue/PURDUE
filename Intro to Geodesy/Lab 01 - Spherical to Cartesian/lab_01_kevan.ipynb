{
 "cells": [
  {
   "cell_type": "markdown",
   "metadata": {},
   "source": [
    "# Lab 01 - Spherical to Cartesian\n",
    "### CE597 - Mapping Projection and Geometric Geodesy"
   ]
  },
  {
   "cell_type": "markdown",
   "metadata": {},
   "source": [
    "*Kevan Tissue*  \n",
    "*Geomatics Engineering*  \n",
    "*Lyles School of Civil Engineering*  \n",
    "*Purdue University*"
   ]
  },
  {
   "cell_type": "markdown",
   "metadata": {},
   "source": [
    "### Importing necessary modules"
   ]
  },
  {
   "cell_type": "code",
   "execution_count": 1,
   "metadata": {},
   "outputs": [],
   "source": [
    "import math\n",
    "import numpy as np\n",
    "import pandas as pd\n",
    "import matplotlib.pyplot as plt\n",
    "\n",
    "# Plot figures inside the notebook\n",
    "%matplotlib inline"
   ]
  },
  {
   "cell_type": "markdown",
   "metadata": {},
   "source": [
    "### Lab Description:\n",
    "1. Select 11 points on Earth, including the North Pole, the South Pole, my place of birth, and at least one location from each of Earth's eight octants.  \n",
    "2. Calculate Earth-fixed geocentric cartesian coordinates from the spherical coordinates.\n",
    "3. Add +1.50000 arcsecond to longitude and latitude and +50 meter to the height, then re-calculate the cartesian coordinates.\n",
    "4. Compute the cartesian coordinate difference (dx, dy, dz) between step 2 and step 3, then compare them to the spherical coordinate difference.  "
   ]
  },
  {
   "cell_type": "markdown",
   "metadata": {},
   "source": [
    "### Initializing variables\n",
    "\n",
    "- $\\rho \\rightarrow$ conversion factor from radian to degree\n",
    "- $rad \\rightarrow$ conversion factor from degree to radian\n",
    "- $\\alpha \\rightarrow$ angle measurement from center of Earth\n",
    "- $R \\rightarrow$ radius of the Earth (approximately 6371 km)\n",
    "- $s \\rightarrow$ arc length at surface of Earth\n",
    "- $\\lambda \\rightarrow$ longitude angle\n",
    "- $\\psi \\rightarrow$ latitude angle\n",
    "- $h^s \\rightarrow$ height above sphere "
   ]
  },
  {
   "cell_type": "code",
   "execution_count": 2,
   "metadata": {},
   "outputs": [],
   "source": [
    "rho = 180/math.pi\n",
    "rad = math.pi/180\n",
    "R = 6371 * 1000  # radius of Earth in meters"
   ]
  },
  {
   "cell_type": "markdown",
   "metadata": {},
   "source": [
    "### Finding millimeter accuracy for DMS\n",
    "\n",
    "&nbsp;&nbsp;&nbsp;&nbsp;&nbsp;&nbsp;&nbsp;&nbsp;&nbsp;&nbsp; $s = R \\alpha$"
   ]
  },
  {
   "cell_type": "markdown",
   "metadata": {},
   "source": [
    "*__Solving for $s$ by manipulating $\\alpha$:__*"
   ]
  },
  {
   "cell_type": "code",
   "execution_count": 3,
   "metadata": {},
   "outputs": [
    {
     "name": "stdout",
     "output_type": "stream",
     "text": [
      "s = 0.3088747962 mm\n"
     ]
    }
   ],
   "source": [
    "alpha = 0.00001/3600 * rad  # angle in arcseconds (converted to radians)\n",
    "s = (R * alpha)*1000 # arc length in millimeters\n",
    "print('s =', '%.10f' % s, 'mm')  "
   ]
  },
  {
   "cell_type": "markdown",
   "metadata": {},
   "source": [
    "*__Solving for $\\alpha$ by manipulating $s$:__*"
   ]
  },
  {
   "cell_type": "code",
   "execution_count": 4,
   "metadata": {},
   "outputs": [
    {
     "name": "stdout",
     "output_type": "stream",
     "text": [
      "α =  0.0000323756 °\n"
     ]
    }
   ],
   "source": [
    "s = 1.0 # arc length in millimeters\n",
    "alpha = (s / (1000 * R)) * rho * 3600\n",
    "print('\\u03B1 = ', '%.10f' % alpha, '°') "
   ]
  },
  {
   "cell_type": "markdown",
   "metadata": {},
   "source": [
    "Based on the above calculations, arcseconds should be displayed to 5 decimal places to ensure millimeter accuracy."
   ]
  },
  {
   "cell_type": "markdown",
   "metadata": {},
   "source": [
    "_______"
   ]
  },
  {
   "cell_type": "markdown",
   "metadata": {},
   "source": [
    "## <span style=\"color:blue\">*PART 1*<span>"
   ]
  },
  {
   "cell_type": "markdown",
   "metadata": {},
   "source": [
    "### Location Selection:\n",
    "1. North Pole \n",
    "2. South Pole \n",
    "3. PoB: Humana Hospital, New Orleans, LA\n",
    "4. Tāne Mahuta, Waipoua Kauri Forest, NZ\n",
    "5. Denali, Alaska \n",
    "6. Mount Fitz Roy, Argentina \n",
    "7. Purdue Engineering Fountain, W. Lafayette, IN\n",
    "8. Cradle of Humankind, Gauteng, South Africa \n",
    "9. Eiffel Tower, Paris, France \n",
    "10. Sydney Opera House, Sydney, Australia \n",
    "11. Angkor Wat, Krong Siem Reap, Cambodia "
   ]
  },
  {
   "cell_type": "markdown",
   "metadata": {},
   "source": [
    "###### 1. North Pole \n",
    "&nbsp;&nbsp;&nbsp;&nbsp;&nbsp;&nbsp;&nbsp;&nbsp;&nbsp;&nbsp; 90° 00' 00.0000\" N, 00° 00' 00.0000\" E  \n",
    "&nbsp;&nbsp;&nbsp;&nbsp;&nbsp;&nbsp;&nbsp;&nbsp;&nbsp;&nbsp; -13,980 ft"
   ]
  },
  {
   "cell_type": "code",
   "execution_count": 5,
   "metadata": {},
   "outputs": [],
   "source": [
    "lon1 = [0, 0, 0.00000] # Longitude\n",
    "lat1 = [90, 0, 0.00000] # Latitude\n",
    "h1 = -13980 * 0.3048 # Height(m)"
   ]
  },
  {
   "cell_type": "markdown",
   "metadata": {},
   "source": [
    "###### 2. South Pole \n",
    "&nbsp;&nbsp;&nbsp;&nbsp;&nbsp;&nbsp;&nbsp;&nbsp;&nbsp;&nbsp; 90° 00' 00.0000\" S, 00° 00' 00.0000\" E  \n",
    "&nbsp;&nbsp;&nbsp;&nbsp;&nbsp;&nbsp;&nbsp;&nbsp;&nbsp;&nbsp; 9,301 ft"
   ]
  },
  {
   "cell_type": "code",
   "execution_count": 6,
   "metadata": {},
   "outputs": [],
   "source": [
    "lon2 = [0, 0, 0.00000] # Longitude\n",
    "lat2 = [-90, -0, -0.00000] # Latitude\n",
    "h2 = 9301 * 0.3048 # Height(m)"
   ]
  },
  {
   "cell_type": "markdown",
   "metadata": {},
   "source": [
    "###### 3. Place of Birth: Humana Hospital, New Orleans, LA \n",
    "&nbsp;&nbsp;&nbsp;&nbsp;&nbsp;&nbsp;&nbsp;&nbsp;&nbsp;&nbsp; 30° 02' 36.78024\" N, 89° 57' 12.38369\" W  \n",
    "&nbsp;&nbsp;&nbsp;&nbsp;&nbsp;&nbsp;&nbsp;&nbsp;&nbsp;&nbsp; 0 ft"
   ]
  },
  {
   "cell_type": "code",
   "execution_count": 7,
   "metadata": {},
   "outputs": [],
   "source": [
    "lon3 = [-89, -57, -12.38369] # Longitude\n",
    "lat3 = [30, 2, 36.78024] # Latitude\n",
    "h3 = 0 * 0.3048 # Height(m)"
   ]
  },
  {
   "cell_type": "markdown",
   "metadata": {},
   "source": [
    "Octant 1: N 0 to 90° E  \n",
    "Octant 2: N 90 to 180° E  \n",
    "Octant 3: N 180 to 90° W  \n",
    "Octant 4: N 90 to 0° W  \n",
    "Octant 5: S 0 to 90° E  \n",
    "Octant 6: S 90 to 180° E  \n",
    "Octant 7: S 180 to 90° W  \n",
    "Octant 8: S 90 to 0° W  "
   ]
  },
  {
   "cell_type": "markdown",
   "metadata": {},
   "source": [
    "###### 4. Eiffel Tower, Paris, France \n",
    "&nbsp;&nbsp;&nbsp;&nbsp;&nbsp;&nbsp;&nbsp;&nbsp;&nbsp;&nbsp; 48° 51′ 29.64298″ N, 02° 17′ 40.20111″ E  \n",
    "&nbsp;&nbsp;&nbsp;&nbsp;&nbsp;&nbsp;&nbsp;&nbsp;&nbsp;&nbsp; 113 ft"
   ]
  },
  {
   "cell_type": "code",
   "execution_count": 8,
   "metadata": {},
   "outputs": [],
   "source": [
    "lon4 = [2, 17, 40.20111] # Longitude\n",
    "lat4 = [48, 51, 29.64298] # Latitude\n",
    "h4 = 113 * 0.3048 # Height(m)"
   ]
  },
  {
   "cell_type": "markdown",
   "metadata": {},
   "source": [
    "###### 5. Angkor Wat, Krong Siem Reap, Cambodia \n",
    "&nbsp;&nbsp;&nbsp;&nbsp;&nbsp;&nbsp;&nbsp;&nbsp;&nbsp;&nbsp; 13° 24′ 45.08764\" N, 103° 52′ 00.43521\" E  \n",
    "&nbsp;&nbsp;&nbsp;&nbsp;&nbsp;&nbsp;&nbsp;&nbsp;&nbsp;&nbsp; 213 ft"
   ]
  },
  {
   "cell_type": "code",
   "execution_count": 9,
   "metadata": {},
   "outputs": [],
   "source": [
    "lon5 = [103, 52, 0.43521] # Longitude\n",
    "lat5 = [13, 24, 45.08764] # Latitude\n",
    "h5 = 213 * 0.3048 # Height(m)"
   ]
  },
  {
   "cell_type": "markdown",
   "metadata": {},
   "source": [
    "###### 6. Denali, Alaska \n",
    "&nbsp;&nbsp;&nbsp;&nbsp;&nbsp;&nbsp;&nbsp;&nbsp;&nbsp;&nbsp; 63° 04' 10.20103\" N, 151° 00' 26.64532\" W  \n",
    "&nbsp;&nbsp;&nbsp;&nbsp;&nbsp;&nbsp;&nbsp;&nbsp;&nbsp;&nbsp; 20,308 ft"
   ]
  },
  {
   "cell_type": "code",
   "execution_count": 10,
   "metadata": {},
   "outputs": [],
   "source": [
    "lon6 = [-151, -0, -26.64532] # Longitude\n",
    "lat6 = [63, 4, 10.20103] # Latitude\n",
    "h6 = 20308 * 0.3048 # Height(m)"
   ]
  },
  {
   "cell_type": "markdown",
   "metadata": {},
   "source": [
    "###### 7. Purdue Engineering Fountain, W. Lafayette, IN\n",
    "&nbsp;&nbsp;&nbsp;&nbsp;&nbsp;&nbsp;&nbsp;&nbsp;&nbsp;&nbsp; 40° 25′ 43.10224″ N, 86° 54′ 49.61418″ W  \n",
    "&nbsp;&nbsp;&nbsp;&nbsp;&nbsp;&nbsp;&nbsp;&nbsp;&nbsp;&nbsp; 623 ft"
   ]
  },
  {
   "cell_type": "code",
   "execution_count": 11,
   "metadata": {},
   "outputs": [],
   "source": [
    "lon7 = [-86, -54, -49.61418] # Longitude\n",
    "lat7 = [40, 25, 43.10224] # Latitude\n",
    "h7 = 623 * 0.3048 # Height(m)"
   ]
  },
  {
   "cell_type": "markdown",
   "metadata": {},
   "source": [
    "###### 8. Cradle of Humankind, Gauteng, South Africa \n",
    "&nbsp;&nbsp;&nbsp;&nbsp;&nbsp;&nbsp;&nbsp;&nbsp;&nbsp;&nbsp; 25° 55' 31.39308\" S, 27° 46' 02.57003\" E  \n",
    "&nbsp;&nbsp;&nbsp;&nbsp;&nbsp;&nbsp;&nbsp;&nbsp;&nbsp;&nbsp; 4,861 ft"
   ]
  },
  {
   "cell_type": "code",
   "execution_count": 12,
   "metadata": {},
   "outputs": [],
   "source": [
    "lon8 = [27, 46, 2.57003] # Longitude\n",
    "lat8 = [-25, -55, -31.39308] # Latitude\n",
    "h8 = 4861 * 0.3048 # Height(m)"
   ]
  },
  {
   "cell_type": "markdown",
   "metadata": {},
   "source": [
    "###### 9. Sydney Opera House, Sydney, Australia \n",
    "&nbsp;&nbsp;&nbsp;&nbsp;&nbsp;&nbsp;&nbsp;&nbsp;&nbsp;&nbsp; 33° 51′ 31.09981″ S, 151° 12′ 51.01352\" E  \n",
    "&nbsp;&nbsp;&nbsp;&nbsp;&nbsp;&nbsp;&nbsp;&nbsp;&nbsp;&nbsp; 13 ft"
   ]
  },
  {
   "cell_type": "code",
   "execution_count": 13,
   "metadata": {},
   "outputs": [],
   "source": [
    "lon9 = [151, 12, 51.01352] # Longitude\n",
    "lat9 = [-33, -51, -31.09981] # Latitude\n",
    "h9 = 13 * 0.3048 # Height(m)"
   ]
  },
  {
   "cell_type": "markdown",
   "metadata": {},
   "source": [
    "###### 10. Rapa Nui (Easter Island), Chile \n",
    "&nbsp;&nbsp;&nbsp;&nbsp;&nbsp;&nbsp;&nbsp;&nbsp;&nbsp;&nbsp; 27° 06' 16.81564\" S, 109° 21' 37.73163\" W  \n",
    "&nbsp;&nbsp;&nbsp;&nbsp;&nbsp;&nbsp;&nbsp;&nbsp;&nbsp;&nbsp; 1,663 ft"
   ]
  },
  {
   "cell_type": "code",
   "execution_count": 14,
   "metadata": {},
   "outputs": [],
   "source": [
    "lon10 = [-109, -6, -16.81564] # Longitude\n",
    "lat10 = [-35, -36, -3.16718] # Latitude\n",
    "h10 = 1663 * 0.3048 # Height(m)"
   ]
  },
  {
   "cell_type": "markdown",
   "metadata": {},
   "source": [
    "###### 11. Mount Fitz Roy, Argentina \n",
    "&nbsp;&nbsp;&nbsp;&nbsp;&nbsp;&nbsp;&nbsp;&nbsp;&nbsp;&nbsp; 49° 16′ 16.61136″ S, 73° 02′ 35.60651″ W  \n",
    "&nbsp;&nbsp;&nbsp;&nbsp;&nbsp;&nbsp;&nbsp;&nbsp;&nbsp;&nbsp; 11,171 ft"
   ]
  },
  {
   "cell_type": "code",
   "execution_count": 15,
   "metadata": {},
   "outputs": [],
   "source": [
    "lon11 = [-73, -2, -35.60651] # Longitude\n",
    "lat11 = [-49, -16, -16.61136] # Latitude\n",
    "h11 = 11171 * 0.3048 # Height(m)"
   ]
  },
  {
   "cell_type": "markdown",
   "metadata": {},
   "source": [
    "### Concatenating Data\n",
    "After recording the longitude, latitude, and height for each of the 11 locations, I then combined all of the relative data into lists. This allowed me to make each list a column in my pandas data frame."
   ]
  },
  {
   "cell_type": "markdown",
   "metadata": {},
   "source": [
    "&nbsp;&nbsp;&nbsp;&nbsp;&nbsp; __*Place Names:*__"
   ]
  },
  {
   "cell_type": "code",
   "execution_count": 16,
   "metadata": {},
   "outputs": [],
   "source": [
    "names = [\"North Pole (NP)\", \"South Pole (NP)\", \"New Orleans (PoB)\", \"Eiffel Tower (1)\", \"Angkor Wat (2)\", \"Denali (3)\", \"Purdue Fountain (4)\", \"Cradle of Humankind (5)\", \"Sydney Opera House (6)\", \"Rapa Nui (7)\", \"Mount Fitz Roy (8)\"]"
   ]
  },
  {
   "cell_type": "markdown",
   "metadata": {},
   "source": [
    "&nbsp;&nbsp;&nbsp;&nbsp;&nbsp; __*Longitude Coordinates in DMS:*__"
   ]
  },
  {
   "cell_type": "code",
   "execution_count": 17,
   "metadata": {},
   "outputs": [],
   "source": [
    "lon_d = [lon1[0], lon2[0], lon3[0], lon4[0], lon5[0], lon6[0], lon7[0], lon8[0], lon9[0], lon10[0], lon11[0]]\n",
    "lon_m = [lon1[1], lon2[1], lon3[1], lon4[1], lon5[1], lon6[1], lon7[1], lon8[1], lon9[1], lon10[1], lon11[1]]\n",
    "lon_s = [lon1[2], lon2[2], lon3[2], lon4[2], lon5[2], lon6[2], lon7[2], lon8[2], lon9[2], lon10[2], lon11[2]]\n",
    "\n",
    "lon_dd = np.array(lon_d)\n",
    "lon_mm = np.array(lon_m)\n",
    "lon_ss = np.array(lon_s)"
   ]
  },
  {
   "cell_type": "markdown",
   "metadata": {},
   "source": [
    "&nbsp;&nbsp;&nbsp;&nbsp;&nbsp; __*Latitude Coordinates in DMS:*__"
   ]
  },
  {
   "cell_type": "code",
   "execution_count": 18,
   "metadata": {},
   "outputs": [],
   "source": [
    "lat_d = [lat1[0], lat2[0], lat3[0], lat4[0], lat5[0], lat6[0], lat7[0], lat8[0], lat9[0], lat10[0], lat11[0]]\n",
    "lat_m = [lat1[1], lat2[1], lat3[1], lat4[1], lat5[1], lat6[1], lat7[1], lat8[1], lat9[1], lat10[1], lat11[1]]\n",
    "lat_s = [lat1[2], lat2[2], lat3[2], lat4[2], lat5[2], lat6[2], lat7[2], lat8[2], lat9[2], lat10[2], lat11[2]]\n",
    "\n",
    "lat_dd = np.array(lat_d)\n",
    "lat_mm = np.array(lat_m)\n",
    "lat_ss = np.array(lat_s)"
   ]
  },
  {
   "cell_type": "markdown",
   "metadata": {},
   "source": [
    "&nbsp;&nbsp;&nbsp;&nbsp;&nbsp; __*Height in meters:*__"
   ]
  },
  {
   "cell_type": "code",
   "execution_count": 19,
   "metadata": {},
   "outputs": [],
   "source": [
    "ht = [h1, h2, h3, h4, h5, h6, h7, h8, h9, h10, h11]\n",
    "\n",
    "h = np.array(ht)"
   ]
  },
  {
   "cell_type": "markdown",
   "metadata": {},
   "source": [
    "### Spherical Coordinates in DMS"
   ]
  },
  {
   "cell_type": "code",
   "execution_count": 20,
   "metadata": {},
   "outputs": [
    {
     "data": {
      "text/html": [
       "<div>\n",
       "<style scoped>\n",
       "    .dataframe tbody tr th:only-of-type {\n",
       "        vertical-align: middle;\n",
       "    }\n",
       "\n",
       "    .dataframe tbody tr th {\n",
       "        vertical-align: top;\n",
       "    }\n",
       "\n",
       "    .dataframe thead th {\n",
       "        text-align: right;\n",
       "    }\n",
       "</style>\n",
       "<table border=\"1\" class=\"dataframe\">\n",
       "  <thead>\n",
       "    <tr style=\"text-align: right;\">\n",
       "      <th></th>\n",
       "      <th>Name</th>\n",
       "      <th>$\\lambda$dd</th>\n",
       "      <th>$\\lambda$mm</th>\n",
       "      <th>$\\lambda$ss.sssss</th>\n",
       "      <th>$\\psi$dd</th>\n",
       "      <th>$\\psi$mm</th>\n",
       "      <th>$\\psi$ss.sssss</th>\n",
       "      <th>$h$ (m)</th>\n",
       "    </tr>\n",
       "  </thead>\n",
       "  <tbody>\n",
       "    <tr>\n",
       "      <th>0</th>\n",
       "      <td>North Pole (NP)</td>\n",
       "      <td>0</td>\n",
       "      <td>0</td>\n",
       "      <td>0.00000</td>\n",
       "      <td>90</td>\n",
       "      <td>0</td>\n",
       "      <td>0.00000</td>\n",
       "      <td>-4261.1040</td>\n",
       "    </tr>\n",
       "    <tr>\n",
       "      <th>1</th>\n",
       "      <td>South Pole (NP)</td>\n",
       "      <td>0</td>\n",
       "      <td>0</td>\n",
       "      <td>0.00000</td>\n",
       "      <td>-90</td>\n",
       "      <td>0</td>\n",
       "      <td>-0.00000</td>\n",
       "      <td>2834.9448</td>\n",
       "    </tr>\n",
       "    <tr>\n",
       "      <th>2</th>\n",
       "      <td>New Orleans (PoB)</td>\n",
       "      <td>-89</td>\n",
       "      <td>-57</td>\n",
       "      <td>-12.38369</td>\n",
       "      <td>30</td>\n",
       "      <td>2</td>\n",
       "      <td>36.78024</td>\n",
       "      <td>0.0000</td>\n",
       "    </tr>\n",
       "    <tr>\n",
       "      <th>3</th>\n",
       "      <td>Eiffel Tower (1)</td>\n",
       "      <td>2</td>\n",
       "      <td>17</td>\n",
       "      <td>40.20111</td>\n",
       "      <td>48</td>\n",
       "      <td>51</td>\n",
       "      <td>29.64298</td>\n",
       "      <td>34.4424</td>\n",
       "    </tr>\n",
       "    <tr>\n",
       "      <th>4</th>\n",
       "      <td>Angkor Wat (2)</td>\n",
       "      <td>103</td>\n",
       "      <td>52</td>\n",
       "      <td>0.43521</td>\n",
       "      <td>13</td>\n",
       "      <td>24</td>\n",
       "      <td>45.08764</td>\n",
       "      <td>64.9224</td>\n",
       "    </tr>\n",
       "    <tr>\n",
       "      <th>5</th>\n",
       "      <td>Denali (3)</td>\n",
       "      <td>-151</td>\n",
       "      <td>0</td>\n",
       "      <td>-26.64532</td>\n",
       "      <td>63</td>\n",
       "      <td>4</td>\n",
       "      <td>10.20103</td>\n",
       "      <td>6189.8784</td>\n",
       "    </tr>\n",
       "    <tr>\n",
       "      <th>6</th>\n",
       "      <td>Purdue Fountain (4)</td>\n",
       "      <td>-86</td>\n",
       "      <td>-54</td>\n",
       "      <td>-49.61418</td>\n",
       "      <td>40</td>\n",
       "      <td>25</td>\n",
       "      <td>43.10224</td>\n",
       "      <td>189.8904</td>\n",
       "    </tr>\n",
       "    <tr>\n",
       "      <th>7</th>\n",
       "      <td>Cradle of Humankind (5)</td>\n",
       "      <td>27</td>\n",
       "      <td>46</td>\n",
       "      <td>2.57003</td>\n",
       "      <td>-25</td>\n",
       "      <td>-55</td>\n",
       "      <td>-31.39308</td>\n",
       "      <td>1481.6328</td>\n",
       "    </tr>\n",
       "    <tr>\n",
       "      <th>8</th>\n",
       "      <td>Sydney Opera House (6)</td>\n",
       "      <td>151</td>\n",
       "      <td>12</td>\n",
       "      <td>51.01352</td>\n",
       "      <td>-33</td>\n",
       "      <td>-51</td>\n",
       "      <td>-31.09981</td>\n",
       "      <td>3.9624</td>\n",
       "    </tr>\n",
       "    <tr>\n",
       "      <th>9</th>\n",
       "      <td>Rapa Nui (7)</td>\n",
       "      <td>-109</td>\n",
       "      <td>-6</td>\n",
       "      <td>-16.81564</td>\n",
       "      <td>-35</td>\n",
       "      <td>-36</td>\n",
       "      <td>-3.16718</td>\n",
       "      <td>506.8824</td>\n",
       "    </tr>\n",
       "    <tr>\n",
       "      <th>10</th>\n",
       "      <td>Mount Fitz Roy (8)</td>\n",
       "      <td>-73</td>\n",
       "      <td>-2</td>\n",
       "      <td>-35.60651</td>\n",
       "      <td>-49</td>\n",
       "      <td>-16</td>\n",
       "      <td>-16.61136</td>\n",
       "      <td>3404.9208</td>\n",
       "    </tr>\n",
       "  </tbody>\n",
       "</table>\n",
       "</div>"
      ],
      "text/plain": [
       "                       Name  $\\lambda$dd  $\\lambda$mm  $\\lambda$ss.sssss  \\\n",
       "0           North Pole (NP)            0            0            0.00000   \n",
       "1           South Pole (NP)            0            0            0.00000   \n",
       "2         New Orleans (PoB)          -89          -57          -12.38369   \n",
       "3          Eiffel Tower (1)            2           17           40.20111   \n",
       "4            Angkor Wat (2)          103           52            0.43521   \n",
       "5                Denali (3)         -151            0          -26.64532   \n",
       "6       Purdue Fountain (4)          -86          -54          -49.61418   \n",
       "7   Cradle of Humankind (5)           27           46            2.57003   \n",
       "8    Sydney Opera House (6)          151           12           51.01352   \n",
       "9              Rapa Nui (7)         -109           -6          -16.81564   \n",
       "10       Mount Fitz Roy (8)          -73           -2          -35.60651   \n",
       "\n",
       "    $\\psi$dd  $\\psi$mm  $\\psi$ss.sssss    $h$ (m)  \n",
       "0         90         0         0.00000 -4261.1040  \n",
       "1        -90         0        -0.00000  2834.9448  \n",
       "2         30         2        36.78024     0.0000  \n",
       "3         48        51        29.64298    34.4424  \n",
       "4         13        24        45.08764    64.9224  \n",
       "5         63         4        10.20103  6189.8784  \n",
       "6         40        25        43.10224   189.8904  \n",
       "7        -25       -55       -31.39308  1481.6328  \n",
       "8        -33       -51       -31.09981     3.9624  \n",
       "9        -35       -36        -3.16718   506.8824  \n",
       "10       -49       -16       -16.61136  3404.9208  "
      ]
     },
     "execution_count": 20,
     "metadata": {},
     "output_type": "execute_result"
    }
   ],
   "source": [
    "df = pd.DataFrame({\n",
    "    'Name':names, \n",
    "    '$\\lambda$dd':lon_dd.astype(np.int), \n",
    "    '$\\lambda$mm':lon_mm.astype(np.int), \n",
    "    '$\\lambda$ss.sssss':lon_ss, \n",
    "    '$\\psi$dd':lat_dd.astype(np.int), \n",
    "    '$\\psi$mm':lat_mm.astype(np.int), \n",
    "    '$\\psi$ss.sssss':lat_ss, \n",
    "    '$h$ (m)':h})\n",
    "df # displaying the data frame"
   ]
  },
  {
   "cell_type": "markdown",
   "metadata": {},
   "source": [
    "Printing the spherical coordinates in DMS format"
   ]
  },
  {
   "cell_type": "code",
   "execution_count": 21,
   "metadata": {},
   "outputs": [
    {
     "name": "stdout",
     "output_type": "stream",
     "text": [
      "                  Name     λ(deg) λ(min)   λ(sec)   ψ(deg) ψ(min)   ψ(sec)       h(m)\n",
      "----------------------------------------------------------------------------------------\n",
      "          North Pole (NP)     0     0     0.00000      90     0     0.00000   -4261.104\n",
      "          South Pole (NP)     0     0     0.00000     -90     0    -0.00000    2834.945\n",
      "        New Orleans (PoB)   -89   -57   -12.38369      30     2    36.78024       0.000\n",
      "         Eiffel Tower (1)     2    17    40.20111      48    51    29.64298      34.442\n",
      "           Angkor Wat (2)   103    52     0.43521      13    24    45.08764      64.922\n",
      "               Denali (3)  -151     0   -26.64532      63     4    10.20103    6189.878\n",
      "      Purdue Fountain (4)   -86   -54   -49.61418      40    25    43.10224     189.890\n",
      "  Cradle of Humankind (5)    27    46     2.57003     -25   -55   -31.39308    1481.633\n",
      "   Sydney Opera House (6)   151    12    51.01352     -33   -51   -31.09981       3.962\n",
      "             Rapa Nui (7)  -109    -6   -16.81564     -35   -36    -3.16718     506.882\n",
      "       Mount Fitz Roy (8)   -73    -2   -35.60651     -49   -16   -16.61136    3404.921\n",
      "----------------------------------------------------------------------------------------\n"
     ]
    }
   ],
   "source": [
    "print(\"                  Name     \\u03BB(deg) \\u03BB(min)   \\u03BB(sec)   \\u03C8(deg) \\u03C8(min)   \\u03C8(sec)       h(m)\")\n",
    "print(\"----------------------------------------------------------------------------------------\")\n",
    "for index, row in df.iterrows():\n",
    "    print(\"%25s %5d %5d %11.5f %7d %5d %11.5f %11.3f\" % (row['Name'], row['$\\lambda$dd'], \n",
    "                                                     row['$\\lambda$mm'], row['$\\lambda$ss.sssss'],\n",
    "                                                     row['$\\psi$dd'], row['$\\psi$mm'], \n",
    "                                                     row['$\\psi$ss.sssss'], row['$h$ (m)']))\n",
    "print(\"----------------------------------------------------------------------------------------\")"
   ]
  },
  {
   "cell_type": "markdown",
   "metadata": {},
   "source": [
    "______"
   ]
  },
  {
   "cell_type": "markdown",
   "metadata": {},
   "source": [
    "## <span style=\"color:blue\">*PART 2*<span>"
   ]
  },
  {
   "cell_type": "markdown",
   "metadata": {},
   "source": [
    "### Converting DMS to Decimal Degrees\n",
    "Before I can convert the spherical coordinates to cartesian coordinates, I must first convert them to decimal degrees."
   ]
  },
  {
   "cell_type": "markdown",
   "metadata": {},
   "source": [
    "&nbsp;&nbsp;&nbsp;&nbsp;&nbsp; __*Converting longitude coordinates:*__"
   ]
  },
  {
   "cell_type": "code",
   "execution_count": 22,
   "metadata": {},
   "outputs": [],
   "source": [
    "lam = [] # creating an empty list to store data iteratively\n",
    "for i in range(len(df)): # iterating through data frame 1 (Spherical Coordinates in DMS)\n",
    "    lon_dec = int(df.iloc[i,1]) + int(df.iloc[i,2])/60 + np.float64(df.iloc[i,3])/3600 # longitude converison\n",
    "    lam.append(lon_dec) # adding data to list"
   ]
  },
  {
   "cell_type": "markdown",
   "metadata": {},
   "source": [
    "&nbsp;&nbsp;&nbsp;&nbsp;&nbsp; __*Converting latitude coordinates:*__"
   ]
  },
  {
   "cell_type": "code",
   "execution_count": 23,
   "metadata": {},
   "outputs": [],
   "source": [
    "psi = [] # creating an empty list to store data iteratively\n",
    "for i in range(len(df)): # iterating through data frame 1 (Spherical Coordinates in DMS)\n",
    "    lat_dec = int(df.iloc[i,4]) + int(df.iloc[i,5])/60 + np.float64(df.iloc[i,6])/3600 # latitude conversion\n",
    "    psi.append(lat_dec) # adding data to list"
   ]
  },
  {
   "cell_type": "markdown",
   "metadata": {},
   "source": [
    "### Spherical Coordinates in Decimal Degrees"
   ]
  },
  {
   "cell_type": "code",
   "execution_count": 24,
   "metadata": {},
   "outputs": [
    {
     "data": {
      "text/html": [
       "<div>\n",
       "<style scoped>\n",
       "    .dataframe tbody tr th:only-of-type {\n",
       "        vertical-align: middle;\n",
       "    }\n",
       "\n",
       "    .dataframe tbody tr th {\n",
       "        vertical-align: top;\n",
       "    }\n",
       "\n",
       "    .dataframe thead th {\n",
       "        text-align: right;\n",
       "    }\n",
       "</style>\n",
       "<table border=\"1\" class=\"dataframe\">\n",
       "  <thead>\n",
       "    <tr style=\"text-align: right;\">\n",
       "      <th></th>\n",
       "      <th>Name</th>\n",
       "      <th>$\\lambda$°</th>\n",
       "      <th>$\\psi$°</th>\n",
       "      <th>$h$ (m)</th>\n",
       "    </tr>\n",
       "  </thead>\n",
       "  <tbody>\n",
       "    <tr>\n",
       "      <th>0</th>\n",
       "      <td>North Pole (NP)</td>\n",
       "      <td>0.000000</td>\n",
       "      <td>90.000000</td>\n",
       "      <td>-4261.1040</td>\n",
       "    </tr>\n",
       "    <tr>\n",
       "      <th>1</th>\n",
       "      <td>South Pole (NP)</td>\n",
       "      <td>0.000000</td>\n",
       "      <td>-90.000000</td>\n",
       "      <td>2834.9448</td>\n",
       "    </tr>\n",
       "    <tr>\n",
       "      <th>2</th>\n",
       "      <td>New Orleans (PoB)</td>\n",
       "      <td>-89.953440</td>\n",
       "      <td>30.043550</td>\n",
       "      <td>0.0000</td>\n",
       "    </tr>\n",
       "    <tr>\n",
       "      <th>3</th>\n",
       "      <td>Eiffel Tower (1)</td>\n",
       "      <td>2.294500</td>\n",
       "      <td>48.858234</td>\n",
       "      <td>34.4424</td>\n",
       "    </tr>\n",
       "    <tr>\n",
       "      <th>4</th>\n",
       "      <td>Angkor Wat (2)</td>\n",
       "      <td>103.866788</td>\n",
       "      <td>13.412524</td>\n",
       "      <td>64.9224</td>\n",
       "    </tr>\n",
       "    <tr>\n",
       "      <th>5</th>\n",
       "      <td>Denali (3)</td>\n",
       "      <td>-151.007401</td>\n",
       "      <td>63.069500</td>\n",
       "      <td>6189.8784</td>\n",
       "    </tr>\n",
       "    <tr>\n",
       "      <th>6</th>\n",
       "      <td>Purdue Fountain (4)</td>\n",
       "      <td>-86.913782</td>\n",
       "      <td>40.428640</td>\n",
       "      <td>189.8904</td>\n",
       "    </tr>\n",
       "    <tr>\n",
       "      <th>7</th>\n",
       "      <td>Cradle of Humankind (5)</td>\n",
       "      <td>27.767381</td>\n",
       "      <td>-25.925387</td>\n",
       "      <td>1481.6328</td>\n",
       "    </tr>\n",
       "    <tr>\n",
       "      <th>8</th>\n",
       "      <td>Sydney Opera House (6)</td>\n",
       "      <td>151.214170</td>\n",
       "      <td>-33.858639</td>\n",
       "      <td>3.9624</td>\n",
       "    </tr>\n",
       "    <tr>\n",
       "      <th>9</th>\n",
       "      <td>Rapa Nui (7)</td>\n",
       "      <td>-109.104671</td>\n",
       "      <td>-35.600880</td>\n",
       "      <td>506.8824</td>\n",
       "    </tr>\n",
       "    <tr>\n",
       "      <th>10</th>\n",
       "      <td>Mount Fitz Roy (8)</td>\n",
       "      <td>-73.043224</td>\n",
       "      <td>-49.271281</td>\n",
       "      <td>3404.9208</td>\n",
       "    </tr>\n",
       "  </tbody>\n",
       "</table>\n",
       "</div>"
      ],
      "text/plain": [
       "                       Name  $\\lambda$°    $\\psi$°    $h$ (m)\n",
       "0           North Pole (NP)    0.000000  90.000000 -4261.1040\n",
       "1           South Pole (NP)    0.000000 -90.000000  2834.9448\n",
       "2         New Orleans (PoB)  -89.953440  30.043550     0.0000\n",
       "3          Eiffel Tower (1)    2.294500  48.858234    34.4424\n",
       "4            Angkor Wat (2)  103.866788  13.412524    64.9224\n",
       "5                Denali (3) -151.007401  63.069500  6189.8784\n",
       "6       Purdue Fountain (4)  -86.913782  40.428640   189.8904\n",
       "7   Cradle of Humankind (5)   27.767381 -25.925387  1481.6328\n",
       "8    Sydney Opera House (6)  151.214170 -33.858639     3.9624\n",
       "9              Rapa Nui (7) -109.104671 -35.600880   506.8824\n",
       "10       Mount Fitz Roy (8)  -73.043224 -49.271281  3404.9208"
      ]
     },
     "execution_count": 24,
     "metadata": {},
     "output_type": "execute_result"
    }
   ],
   "source": [
    "df2 = pd.DataFrame({\n",
    "    'Name':names,\n",
    "    '$\\lambda$°':lam,\n",
    "    '$\\psi$°':psi,\n",
    "    '$h$ (m)':h\n",
    "})\n",
    "df2 # displaying the data frame"
   ]
  },
  {
   "cell_type": "markdown",
   "metadata": {},
   "source": [
    "### Converting Decimal Degrees to Cartesian Coordinates"
   ]
  },
  {
   "cell_type": "code",
   "execution_count": 25,
   "metadata": {},
   "outputs": [],
   "source": [
    "cart = [] # creating an empty list to store data iteratively\n",
    "for i in range(len(df2)): # iterating through data frame 2 (Spherical Coordinates in Decimal Degrees)\n",
    "    Rh = R + np.float64(df2.iloc[i,3]) # Earth's radius + the height above sphere (in meters)\n",
    "    mat = np.array([np.cos(df2.iloc[i,2]*rad)*np.cos(df2.iloc[i,1]*rad), # transformation matrix\n",
    "           np.cos(df2.iloc[i,2]*rad)*np.sin(df2.iloc[i,1]*rad), \n",
    "           np.sin(df2.iloc[i,2]*rad)])\n",
    "    cc = np.multiply(Rh,mat) # applying the transformation to create cartesian coordinates\n",
    "    cart.append(cc) # adding data to list"
   ]
  },
  {
   "cell_type": "code",
   "execution_count": 26,
   "metadata": {},
   "outputs": [
    {
     "data": {
      "text/plain": [
       "array([[ 3.89850320e-10,  0.00000000e+00,  6.36673890e+06],\n",
       "       [ 3.90284828e-10,  0.00000000e+00, -6.37383494e+06],\n",
       "       [ 4.48165662e+03, -5.51502316e+06,  3.18969285e+06],\n",
       "       [ 4.18829821e+06,  1.67816761e+05,  4.79792409e+06],\n",
       "       [-1.48527672e+06,  6.01667874e+06,  1.47783565e+06],\n",
       "       [-2.52633537e+06, -1.39994397e+06,  5.68562549e+06],\n",
       "       [ 2.61108755e+05, -4.84280655e+06,  4.13171969e+06],\n",
       "       [ 5.07121507e+06,  2.67005980e+06, -2.78605105e+06],\n",
       "       [-4.63679672e+06,  2.54760741e+06, -3.54957802e+06],\n",
       "       [-1.69559073e+06, -4.89528315e+06, -3.70908006e+06],\n",
       "       [ 1.21302009e+06, -3.97834176e+06, -4.83057110e+06]])"
      ]
     },
     "execution_count": 26,
     "metadata": {},
     "output_type": "execute_result"
    }
   ],
   "source": [
    "np.vstack(cart) #displaying the cartesian coordinates in list format"
   ]
  },
  {
   "cell_type": "code",
   "execution_count": 27,
   "metadata": {},
   "outputs": [],
   "source": [
    "ef_x = [] # creating an empty list to store data iteratively\n",
    "ef_y = [] # creating an empty list to store data iteratively\n",
    "ef_z = [] # creating an empty list to store data iteratively\n",
    "for i in range(len(cart)): # iterating through the cartesian coordinates \n",
    "    x = cart[i][0] # pulling values from the first column\n",
    "    y = cart[i][1] # pulling values from the second column\n",
    "    z = cart[i][2] # pulling values from the third column\n",
    "    ef_x.append(x) # adding data to list\n",
    "    ef_y.append(y) # adding data to list\n",
    "    ef_z.append(z) # adding data to list"
   ]
  },
  {
   "cell_type": "markdown",
   "metadata": {},
   "source": [
    "### Earth-fixed Geocentric Cartesian Coordinates"
   ]
  },
  {
   "cell_type": "code",
   "execution_count": 28,
   "metadata": {},
   "outputs": [
    {
     "data": {
      "text/html": [
       "<div>\n",
       "<style scoped>\n",
       "    .dataframe tbody tr th:only-of-type {\n",
       "        vertical-align: middle;\n",
       "    }\n",
       "\n",
       "    .dataframe tbody tr th {\n",
       "        vertical-align: top;\n",
       "    }\n",
       "\n",
       "    .dataframe thead th {\n",
       "        text-align: right;\n",
       "    }\n",
       "</style>\n",
       "<table border=\"1\" class=\"dataframe\">\n",
       "  <thead>\n",
       "    <tr style=\"text-align: right;\">\n",
       "      <th></th>\n",
       "      <th>Name</th>\n",
       "      <th>$X$(m)</th>\n",
       "      <th>$Y$(m)</th>\n",
       "      <th>$Z$(m)</th>\n",
       "    </tr>\n",
       "  </thead>\n",
       "  <tbody>\n",
       "    <tr>\n",
       "      <th>0</th>\n",
       "      <td>North Pole (NP)</td>\n",
       "      <td>3.898503e-10</td>\n",
       "      <td>0.000000e+00</td>\n",
       "      <td>6.366739e+06</td>\n",
       "    </tr>\n",
       "    <tr>\n",
       "      <th>1</th>\n",
       "      <td>South Pole (NP)</td>\n",
       "      <td>3.902848e-10</td>\n",
       "      <td>0.000000e+00</td>\n",
       "      <td>-6.373835e+06</td>\n",
       "    </tr>\n",
       "    <tr>\n",
       "      <th>2</th>\n",
       "      <td>New Orleans (PoB)</td>\n",
       "      <td>4.481657e+03</td>\n",
       "      <td>-5.515023e+06</td>\n",
       "      <td>3.189693e+06</td>\n",
       "    </tr>\n",
       "    <tr>\n",
       "      <th>3</th>\n",
       "      <td>Eiffel Tower (1)</td>\n",
       "      <td>4.188298e+06</td>\n",
       "      <td>1.678168e+05</td>\n",
       "      <td>4.797924e+06</td>\n",
       "    </tr>\n",
       "    <tr>\n",
       "      <th>4</th>\n",
       "      <td>Angkor Wat (2)</td>\n",
       "      <td>-1.485277e+06</td>\n",
       "      <td>6.016679e+06</td>\n",
       "      <td>1.477836e+06</td>\n",
       "    </tr>\n",
       "    <tr>\n",
       "      <th>5</th>\n",
       "      <td>Denali (3)</td>\n",
       "      <td>-2.526335e+06</td>\n",
       "      <td>-1.399944e+06</td>\n",
       "      <td>5.685625e+06</td>\n",
       "    </tr>\n",
       "    <tr>\n",
       "      <th>6</th>\n",
       "      <td>Purdue Fountain (4)</td>\n",
       "      <td>2.611088e+05</td>\n",
       "      <td>-4.842807e+06</td>\n",
       "      <td>4.131720e+06</td>\n",
       "    </tr>\n",
       "    <tr>\n",
       "      <th>7</th>\n",
       "      <td>Cradle of Humankind (5)</td>\n",
       "      <td>5.071215e+06</td>\n",
       "      <td>2.670060e+06</td>\n",
       "      <td>-2.786051e+06</td>\n",
       "    </tr>\n",
       "    <tr>\n",
       "      <th>8</th>\n",
       "      <td>Sydney Opera House (6)</td>\n",
       "      <td>-4.636797e+06</td>\n",
       "      <td>2.547607e+06</td>\n",
       "      <td>-3.549578e+06</td>\n",
       "    </tr>\n",
       "    <tr>\n",
       "      <th>9</th>\n",
       "      <td>Rapa Nui (7)</td>\n",
       "      <td>-1.695591e+06</td>\n",
       "      <td>-4.895283e+06</td>\n",
       "      <td>-3.709080e+06</td>\n",
       "    </tr>\n",
       "    <tr>\n",
       "      <th>10</th>\n",
       "      <td>Mount Fitz Roy (8)</td>\n",
       "      <td>1.213020e+06</td>\n",
       "      <td>-3.978342e+06</td>\n",
       "      <td>-4.830571e+06</td>\n",
       "    </tr>\n",
       "  </tbody>\n",
       "</table>\n",
       "</div>"
      ],
      "text/plain": [
       "                       Name        $X$(m)        $Y$(m)        $Z$(m)\n",
       "0           North Pole (NP)  3.898503e-10  0.000000e+00  6.366739e+06\n",
       "1           South Pole (NP)  3.902848e-10  0.000000e+00 -6.373835e+06\n",
       "2         New Orleans (PoB)  4.481657e+03 -5.515023e+06  3.189693e+06\n",
       "3          Eiffel Tower (1)  4.188298e+06  1.678168e+05  4.797924e+06\n",
       "4            Angkor Wat (2) -1.485277e+06  6.016679e+06  1.477836e+06\n",
       "5                Denali (3) -2.526335e+06 -1.399944e+06  5.685625e+06\n",
       "6       Purdue Fountain (4)  2.611088e+05 -4.842807e+06  4.131720e+06\n",
       "7   Cradle of Humankind (5)  5.071215e+06  2.670060e+06 -2.786051e+06\n",
       "8    Sydney Opera House (6) -4.636797e+06  2.547607e+06 -3.549578e+06\n",
       "9              Rapa Nui (7) -1.695591e+06 -4.895283e+06 -3.709080e+06\n",
       "10       Mount Fitz Roy (8)  1.213020e+06 -3.978342e+06 -4.830571e+06"
      ]
     },
     "execution_count": 28,
     "metadata": {},
     "output_type": "execute_result"
    }
   ],
   "source": [
    "df3 = pd.DataFrame({\n",
    "    'Name':names,\n",
    "    '$X$(m)':ef_x,\n",
    "    '$Y$(m)':ef_y,\n",
    "    '$Z$(m)':ef_z\n",
    "})\n",
    "df3 # displaying the data frame"
   ]
  },
  {
   "cell_type": "code",
   "execution_count": 29,
   "metadata": {},
   "outputs": [],
   "source": [
    "df3.to_pickle(\"./cartesian.pkl\")"
   ]
  },
  {
   "cell_type": "code",
   "execution_count": 30,
   "metadata": {},
   "outputs": [
    {
     "name": "stdout",
     "output_type": "stream",
     "text": [
      "                 Name              X(m)             Y(m)            Z(m)\n",
      "--------------------------------------------------------------------------\n",
      "          North Pole (NP)           0.000           0.000     6366738.896\n",
      "          South Pole (NP)           0.000           0.000    -6373834.945\n",
      "        New Orleans (PoB)        4481.657    -5515023.160     3189692.848\n",
      "         Eiffel Tower (1)     4188298.206      167816.761     4797924.086\n",
      "           Angkor Wat (2)    -1485276.721     6016678.744     1477835.647\n",
      "               Denali (3)    -2526335.374    -1399943.968     5685625.490\n",
      "      Purdue Fountain (4)      261108.755    -4842806.547     4131719.689\n",
      "  Cradle of Humankind (5)     5071215.074     2670059.803    -2786051.054\n",
      "   Sydney Opera House (6)    -4636796.725     2547607.409    -3549578.019\n",
      "             Rapa Nui (7)    -1695590.730    -4895283.153    -3709080.059\n",
      "       Mount Fitz Roy (8)     1213020.094    -3978341.761    -4830571.103\n",
      "--------------------------------------------------------------------------\n"
     ]
    }
   ],
   "source": [
    "print(\"                 Name              X(m)             Y(m)            Z(m)\")\n",
    "print(\"--------------------------------------------------------------------------\")\n",
    "for index, row in df3.iterrows():\n",
    "    print(\"%25s %15.3f %15.3f %15.3f\" % (row['Name'], row['$X$(m)'], row['$Y$(m)'], row['$Z$(m)']))\n",
    "print(\"--------------------------------------------------------------------------\")"
   ]
  },
  {
   "cell_type": "markdown",
   "metadata": {},
   "source": [
    "_____"
   ]
  },
  {
   "cell_type": "markdown",
   "metadata": {},
   "source": [
    "## <span style=\"color:blue\">*PART 3*<span>"
   ]
  },
  {
   "cell_type": "markdown",
   "metadata": {},
   "source": [
    "### Adjustments to Spherical Coordinates\n",
    "- Added +1.50000 arcseconds to latitude and longitude\n",
    "- Added +50 meters to height"
   ]
  },
  {
   "cell_type": "markdown",
   "metadata": {},
   "source": [
    "&nbsp;&nbsp;&nbsp;&nbsp;&nbsp; __*Adjusting longitude coordinates:*__"
   ]
  },
  {
   "cell_type": "code",
   "execution_count": 31,
   "metadata": {},
   "outputs": [],
   "source": [
    "lon_ss2 = [] # creating an empty list to store data iteratively\n",
    "for i in range(len(df)): # iterating through data frame 1 (Spherical Coordinates in DMS)\n",
    "    lon_new = (float(df.iloc[i,3]) + 1.50000) # adding 1.5 arcseconds to the longitude measurements\n",
    "    lon_ss2.append(lon_new) # adding new data to the list"
   ]
  },
  {
   "cell_type": "markdown",
   "metadata": {},
   "source": [
    "&nbsp;&nbsp;&nbsp;&nbsp;&nbsp; __*Adjusting latitude coordinates:*__"
   ]
  },
  {
   "cell_type": "markdown",
   "metadata": {},
   "source": [
    "The North Pole has a latitude of 90 degrees, which is the maximum possible latitude. Therefore, you cannot add 1.5 arcseconds to it. Hypothetically speaking, you could continue along the Prime Meridian 1.5 arcseconds past the North Pole, but that would equate to a subtraction in latitude, as well as a change of 180 degrees in longitude, thus negating the chosen increase of 1.5 arcseconds in longitude as well. The same exception applies to the South Pole for similar reasons."
   ]
  },
  {
   "cell_type": "code",
   "execution_count": 32,
   "metadata": {},
   "outputs": [],
   "source": [
    "lat_ss2 = [] # creating an empty list to store data iteratively\n",
    "for i in range(len(df)): # iterating through data frame 1 (Spherical Coordinates in DMS)\n",
    "#     if float(df.iloc[i,4]) >= 90: # excluding the North Pole from the addition of 1.5 arcseconds\n",
    "#         lat_new = float(df.iloc[i,6]) # the value shall remain the same\n",
    "#     elif float(df.iloc[i,4]) <= -90: # excluding the South Pole from the addition of 1.5 arcseconds\n",
    "#         lat_new = float(df.iloc[i,6]) # the value shall remain the same\n",
    "#     else:\n",
    "    lat_new = (float(df.iloc[i,6]) + 1.50000) # all other latitudes shall receive the additional 1.5 arcseconds\n",
    "    lat_ss2.append(lat_new) # adding new data to the list"
   ]
  },
  {
   "cell_type": "markdown",
   "metadata": {},
   "source": [
    "&nbsp;&nbsp;&nbsp;&nbsp;&nbsp; __*Adjusting height measurements:*__"
   ]
  },
  {
   "cell_type": "code",
   "execution_count": 33,
   "metadata": {},
   "outputs": [],
   "source": [
    "hh = [] # creating an empty list to store data iteratively\n",
    "for i in range(len(df)): # iterating through data frame 1 (Spherical Coordinates in DMS)\n",
    "    h_new = (float(df.iloc[i,7]) + 50) # adding 50 meters to the existing height\n",
    "    hh.append(h_new) # adding new data to the list"
   ]
  },
  {
   "cell_type": "markdown",
   "metadata": {},
   "source": [
    "###  Adjusted Spherical Coordinates in DMS"
   ]
  },
  {
   "cell_type": "code",
   "execution_count": 34,
   "metadata": {},
   "outputs": [
    {
     "data": {
      "text/html": [
       "<div>\n",
       "<style scoped>\n",
       "    .dataframe tbody tr th:only-of-type {\n",
       "        vertical-align: middle;\n",
       "    }\n",
       "\n",
       "    .dataframe tbody tr th {\n",
       "        vertical-align: top;\n",
       "    }\n",
       "\n",
       "    .dataframe thead th {\n",
       "        text-align: right;\n",
       "    }\n",
       "</style>\n",
       "<table border=\"1\" class=\"dataframe\">\n",
       "  <thead>\n",
       "    <tr style=\"text-align: right;\">\n",
       "      <th></th>\n",
       "      <th>Name</th>\n",
       "      <th>$\\lambda$dd</th>\n",
       "      <th>$\\lambda$mm</th>\n",
       "      <th>$\\lambda$ss.sssss</th>\n",
       "      <th>$\\psi$dd</th>\n",
       "      <th>$\\psi$mm</th>\n",
       "      <th>$\\psi$ss.sssss</th>\n",
       "      <th>$h$ (m)</th>\n",
       "    </tr>\n",
       "  </thead>\n",
       "  <tbody>\n",
       "    <tr>\n",
       "      <th>0</th>\n",
       "      <td>North Pole (NP)</td>\n",
       "      <td>0</td>\n",
       "      <td>0</td>\n",
       "      <td>1.50000</td>\n",
       "      <td>90</td>\n",
       "      <td>0</td>\n",
       "      <td>1.50000</td>\n",
       "      <td>-4211.1040</td>\n",
       "    </tr>\n",
       "    <tr>\n",
       "      <th>1</th>\n",
       "      <td>South Pole (NP)</td>\n",
       "      <td>0</td>\n",
       "      <td>0</td>\n",
       "      <td>1.50000</td>\n",
       "      <td>-90</td>\n",
       "      <td>0</td>\n",
       "      <td>1.50000</td>\n",
       "      <td>2884.9448</td>\n",
       "    </tr>\n",
       "    <tr>\n",
       "      <th>2</th>\n",
       "      <td>New Orleans (PoB)</td>\n",
       "      <td>-89</td>\n",
       "      <td>-57</td>\n",
       "      <td>-10.88369</td>\n",
       "      <td>30</td>\n",
       "      <td>2</td>\n",
       "      <td>38.28024</td>\n",
       "      <td>50.0000</td>\n",
       "    </tr>\n",
       "    <tr>\n",
       "      <th>3</th>\n",
       "      <td>Eiffel Tower (1)</td>\n",
       "      <td>2</td>\n",
       "      <td>17</td>\n",
       "      <td>41.70111</td>\n",
       "      <td>48</td>\n",
       "      <td>51</td>\n",
       "      <td>31.14298</td>\n",
       "      <td>84.4424</td>\n",
       "    </tr>\n",
       "    <tr>\n",
       "      <th>4</th>\n",
       "      <td>Angkor Wat (2)</td>\n",
       "      <td>103</td>\n",
       "      <td>52</td>\n",
       "      <td>1.93521</td>\n",
       "      <td>13</td>\n",
       "      <td>24</td>\n",
       "      <td>46.58764</td>\n",
       "      <td>114.9224</td>\n",
       "    </tr>\n",
       "    <tr>\n",
       "      <th>5</th>\n",
       "      <td>Denali (3)</td>\n",
       "      <td>-151</td>\n",
       "      <td>0</td>\n",
       "      <td>-25.14532</td>\n",
       "      <td>63</td>\n",
       "      <td>4</td>\n",
       "      <td>11.70103</td>\n",
       "      <td>6239.8784</td>\n",
       "    </tr>\n",
       "    <tr>\n",
       "      <th>6</th>\n",
       "      <td>Purdue Fountain (4)</td>\n",
       "      <td>-86</td>\n",
       "      <td>-54</td>\n",
       "      <td>-48.11418</td>\n",
       "      <td>40</td>\n",
       "      <td>25</td>\n",
       "      <td>44.60224</td>\n",
       "      <td>239.8904</td>\n",
       "    </tr>\n",
       "    <tr>\n",
       "      <th>7</th>\n",
       "      <td>Cradle of Humankind (5)</td>\n",
       "      <td>27</td>\n",
       "      <td>46</td>\n",
       "      <td>4.07003</td>\n",
       "      <td>-25</td>\n",
       "      <td>-55</td>\n",
       "      <td>-29.89308</td>\n",
       "      <td>1531.6328</td>\n",
       "    </tr>\n",
       "    <tr>\n",
       "      <th>8</th>\n",
       "      <td>Sydney Opera House (6)</td>\n",
       "      <td>151</td>\n",
       "      <td>12</td>\n",
       "      <td>52.51352</td>\n",
       "      <td>-33</td>\n",
       "      <td>-51</td>\n",
       "      <td>-29.59981</td>\n",
       "      <td>53.9624</td>\n",
       "    </tr>\n",
       "    <tr>\n",
       "      <th>9</th>\n",
       "      <td>Rapa Nui (7)</td>\n",
       "      <td>-109</td>\n",
       "      <td>-6</td>\n",
       "      <td>-15.31564</td>\n",
       "      <td>-35</td>\n",
       "      <td>-36</td>\n",
       "      <td>-1.66718</td>\n",
       "      <td>556.8824</td>\n",
       "    </tr>\n",
       "    <tr>\n",
       "      <th>10</th>\n",
       "      <td>Mount Fitz Roy (8)</td>\n",
       "      <td>-73</td>\n",
       "      <td>-2</td>\n",
       "      <td>-34.10651</td>\n",
       "      <td>-49</td>\n",
       "      <td>-16</td>\n",
       "      <td>-15.11136</td>\n",
       "      <td>3454.9208</td>\n",
       "    </tr>\n",
       "  </tbody>\n",
       "</table>\n",
       "</div>"
      ],
      "text/plain": [
       "                       Name  $\\lambda$dd  $\\lambda$mm  $\\lambda$ss.sssss  \\\n",
       "0           North Pole (NP)            0            0            1.50000   \n",
       "1           South Pole (NP)            0            0            1.50000   \n",
       "2         New Orleans (PoB)          -89          -57          -10.88369   \n",
       "3          Eiffel Tower (1)            2           17           41.70111   \n",
       "4            Angkor Wat (2)          103           52            1.93521   \n",
       "5                Denali (3)         -151            0          -25.14532   \n",
       "6       Purdue Fountain (4)          -86          -54          -48.11418   \n",
       "7   Cradle of Humankind (5)           27           46            4.07003   \n",
       "8    Sydney Opera House (6)          151           12           52.51352   \n",
       "9              Rapa Nui (7)         -109           -6          -15.31564   \n",
       "10       Mount Fitz Roy (8)          -73           -2          -34.10651   \n",
       "\n",
       "    $\\psi$dd  $\\psi$mm  $\\psi$ss.sssss    $h$ (m)  \n",
       "0         90         0         1.50000 -4211.1040  \n",
       "1        -90         0         1.50000  2884.9448  \n",
       "2         30         2        38.28024    50.0000  \n",
       "3         48        51        31.14298    84.4424  \n",
       "4         13        24        46.58764   114.9224  \n",
       "5         63         4        11.70103  6239.8784  \n",
       "6         40        25        44.60224   239.8904  \n",
       "7        -25       -55       -29.89308  1531.6328  \n",
       "8        -33       -51       -29.59981    53.9624  \n",
       "9        -35       -36        -1.66718   556.8824  \n",
       "10       -49       -16       -15.11136  3454.9208  "
      ]
     },
     "execution_count": 34,
     "metadata": {},
     "output_type": "execute_result"
    }
   ],
   "source": [
    "df4 = pd.DataFrame({\n",
    "    'Name':names,\n",
    "    '$\\lambda$dd':lon_dd,\n",
    "    '$\\lambda$mm':lon_mm,\n",
    "    '$\\lambda$ss.sssss':lon_ss2,\n",
    "    '$\\psi$dd':lat_dd,\n",
    "    '$\\psi$mm':lat_mm,\n",
    "    '$\\psi$ss.sssss':lat_ss2,\n",
    "    '$h$ (m)':hh\n",
    "})\n",
    "df4 # displaying the data frame"
   ]
  },
  {
   "cell_type": "markdown",
   "metadata": {},
   "source": [
    "### Converting DMS to Decimal Degrees"
   ]
  },
  {
   "cell_type": "markdown",
   "metadata": {},
   "source": [
    "&nbsp;&nbsp;&nbsp;&nbsp;&nbsp; __*Converting longitude coordinates:*__"
   ]
  },
  {
   "cell_type": "code",
   "execution_count": 35,
   "metadata": {},
   "outputs": [],
   "source": [
    "lam2 = [] # creating an empty list to store data iteratively\n",
    "for i in range(len(df4)): # iterating through data frame 4 (Adjusted Spherical Coordinates in DMS)\n",
    "    lon_dec2 = int(df4.iloc[i,1]) + int(df4.iloc[i,2])/60 + float(df4.iloc[i,3])/3600 # longitude conversion\n",
    "    lam2.append(lon_dec2) # adding data to list"
   ]
  },
  {
   "cell_type": "markdown",
   "metadata": {},
   "source": [
    "&nbsp;&nbsp;&nbsp;&nbsp;&nbsp; __*Converting latitude coordinates:*__"
   ]
  },
  {
   "cell_type": "code",
   "execution_count": 36,
   "metadata": {},
   "outputs": [],
   "source": [
    "psi2 = [] # creating an empty list to store data iteratively\n",
    "for i in range(len(df4)): # iterating through data frame 4 (Adjusted Spherical Coordinates in DMS)\n",
    "    lat_dec2 = int(df4.iloc[i,4]) + int(df4.iloc[i,5])/60 + float(df4.iloc[i,6])/3600 # latitude conversion\n",
    "    psi2.append(lat_dec2) # adding data to list"
   ]
  },
  {
   "cell_type": "markdown",
   "metadata": {},
   "source": [
    "### Adjusted Sperical Coordinates in Decimal Degrees"
   ]
  },
  {
   "cell_type": "code",
   "execution_count": 37,
   "metadata": {},
   "outputs": [
    {
     "data": {
      "text/html": [
       "<div>\n",
       "<style scoped>\n",
       "    .dataframe tbody tr th:only-of-type {\n",
       "        vertical-align: middle;\n",
       "    }\n",
       "\n",
       "    .dataframe tbody tr th {\n",
       "        vertical-align: top;\n",
       "    }\n",
       "\n",
       "    .dataframe thead th {\n",
       "        text-align: right;\n",
       "    }\n",
       "</style>\n",
       "<table border=\"1\" class=\"dataframe\">\n",
       "  <thead>\n",
       "    <tr style=\"text-align: right;\">\n",
       "      <th></th>\n",
       "      <th>Name</th>\n",
       "      <th>$\\lambda$°</th>\n",
       "      <th>$\\psi$°</th>\n",
       "      <th>$h$ (m)</th>\n",
       "    </tr>\n",
       "  </thead>\n",
       "  <tbody>\n",
       "    <tr>\n",
       "      <th>0</th>\n",
       "      <td>North Pole (NP)</td>\n",
       "      <td>0.000417</td>\n",
       "      <td>90.000417</td>\n",
       "      <td>-4211.1040</td>\n",
       "    </tr>\n",
       "    <tr>\n",
       "      <th>1</th>\n",
       "      <td>South Pole (NP)</td>\n",
       "      <td>0.000417</td>\n",
       "      <td>-89.999583</td>\n",
       "      <td>2884.9448</td>\n",
       "    </tr>\n",
       "    <tr>\n",
       "      <th>2</th>\n",
       "      <td>New Orleans (PoB)</td>\n",
       "      <td>-89.953023</td>\n",
       "      <td>30.043967</td>\n",
       "      <td>50.0000</td>\n",
       "    </tr>\n",
       "    <tr>\n",
       "      <th>3</th>\n",
       "      <td>Eiffel Tower (1)</td>\n",
       "      <td>2.294917</td>\n",
       "      <td>48.858651</td>\n",
       "      <td>84.4424</td>\n",
       "    </tr>\n",
       "    <tr>\n",
       "      <th>4</th>\n",
       "      <td>Angkor Wat (2)</td>\n",
       "      <td>103.867204</td>\n",
       "      <td>13.412941</td>\n",
       "      <td>114.9224</td>\n",
       "    </tr>\n",
       "    <tr>\n",
       "      <th>5</th>\n",
       "      <td>Denali (3)</td>\n",
       "      <td>-151.006985</td>\n",
       "      <td>63.069917</td>\n",
       "      <td>6239.8784</td>\n",
       "    </tr>\n",
       "    <tr>\n",
       "      <th>6</th>\n",
       "      <td>Purdue Fountain (4)</td>\n",
       "      <td>-86.913365</td>\n",
       "      <td>40.429056</td>\n",
       "      <td>239.8904</td>\n",
       "    </tr>\n",
       "    <tr>\n",
       "      <th>7</th>\n",
       "      <td>Cradle of Humankind (5)</td>\n",
       "      <td>27.767797</td>\n",
       "      <td>-25.924970</td>\n",
       "      <td>1531.6328</td>\n",
       "    </tr>\n",
       "    <tr>\n",
       "      <th>8</th>\n",
       "      <td>Sydney Opera House (6)</td>\n",
       "      <td>151.214587</td>\n",
       "      <td>-33.858222</td>\n",
       "      <td>53.9624</td>\n",
       "    </tr>\n",
       "    <tr>\n",
       "      <th>9</th>\n",
       "      <td>Rapa Nui (7)</td>\n",
       "      <td>-109.104254</td>\n",
       "      <td>-35.600463</td>\n",
       "      <td>556.8824</td>\n",
       "    </tr>\n",
       "    <tr>\n",
       "      <th>10</th>\n",
       "      <td>Mount Fitz Roy (8)</td>\n",
       "      <td>-73.042807</td>\n",
       "      <td>-49.270864</td>\n",
       "      <td>3454.9208</td>\n",
       "    </tr>\n",
       "  </tbody>\n",
       "</table>\n",
       "</div>"
      ],
      "text/plain": [
       "                       Name  $\\lambda$°    $\\psi$°    $h$ (m)\n",
       "0           North Pole (NP)    0.000417  90.000417 -4211.1040\n",
       "1           South Pole (NP)    0.000417 -89.999583  2884.9448\n",
       "2         New Orleans (PoB)  -89.953023  30.043967    50.0000\n",
       "3          Eiffel Tower (1)    2.294917  48.858651    84.4424\n",
       "4            Angkor Wat (2)  103.867204  13.412941   114.9224\n",
       "5                Denali (3) -151.006985  63.069917  6239.8784\n",
       "6       Purdue Fountain (4)  -86.913365  40.429056   239.8904\n",
       "7   Cradle of Humankind (5)   27.767797 -25.924970  1531.6328\n",
       "8    Sydney Opera House (6)  151.214587 -33.858222    53.9624\n",
       "9              Rapa Nui (7) -109.104254 -35.600463   556.8824\n",
       "10       Mount Fitz Roy (8)  -73.042807 -49.270864  3454.9208"
      ]
     },
     "execution_count": 37,
     "metadata": {},
     "output_type": "execute_result"
    }
   ],
   "source": [
    "df5 = pd.DataFrame({\n",
    "    'Name':names,\n",
    "    '$\\lambda$°':lam2,\n",
    "    '$\\psi$°':psi2,\n",
    "    '$h$ (m)':hh\n",
    "})\n",
    "df5 # displaying the data frame"
   ]
  },
  {
   "cell_type": "markdown",
   "metadata": {},
   "source": [
    "### Converting Decimal Degrees to Cartesian Coordinates"
   ]
  },
  {
   "cell_type": "code",
   "execution_count": 38,
   "metadata": {},
   "outputs": [],
   "source": [
    "cart2 = [] # creating an empty list to store data iteratively\n",
    "for i in range(len(df5)): # iterating through data frame 5 (Adjusted Spherical Coordinates in Decimal Degrees)\n",
    "    Rh2 = R + np.float64(df5.iloc[i,3]) # Earth's radius + the new height above sphere (in meters)\n",
    "    mat2 = [np.cos(df5.iloc[i,2]*rad)*np.cos(df5.iloc[i,1]*rad), # Transformation matrix\n",
    "           np.cos(df5.iloc[i,2]*rad)*np.sin(df5.iloc[i,1]*rad), \n",
    "           np.sin(df5.iloc[i,2]*rad)]\n",
    "    cc2 = np.multiply(Rh2,mat2) # applying the transformation matrix to generate cartesian coordinates\n",
    "    cart2.append(cc2) # adding the data to the list"
   ]
  },
  {
   "cell_type": "code",
   "execution_count": 39,
   "metadata": {},
   "outputs": [],
   "source": [
    "ef_x2 = [] # creating an empty list to store data iteratively\n",
    "ef_y2 = [] # creating an empty list to store data iteratively\n",
    "ef_z2 = [] # creating an empty list to store data iteratively\n",
    "for i in range(len(cart2)): # iterating through the new cartesian coordinates\n",
    "    x2 = cart2[i][0] # pulling values from the first column\n",
    "    y2 = cart2[i][1] # pulling values from the second column\n",
    "    z2 = cart2[i][2] # pulling values from the third column\n",
    "    ef_x2.append(x2) # adding data to list\n",
    "    ef_y2.append(y2) # adding data to list\n",
    "    ef_z2.append(z2) # adding data to list"
   ]
  },
  {
   "cell_type": "markdown",
   "metadata": {},
   "source": [
    "### Adjusted Earth-fixed Geocentric Cartesian Coordinates"
   ]
  },
  {
   "cell_type": "code",
   "execution_count": 40,
   "metadata": {},
   "outputs": [
    {
     "data": {
      "text/html": [
       "<div>\n",
       "<style scoped>\n",
       "    .dataframe tbody tr th:only-of-type {\n",
       "        vertical-align: middle;\n",
       "    }\n",
       "\n",
       "    .dataframe tbody tr th {\n",
       "        vertical-align: top;\n",
       "    }\n",
       "\n",
       "    .dataframe thead th {\n",
       "        text-align: right;\n",
       "    }\n",
       "</style>\n",
       "<table border=\"1\" class=\"dataframe\">\n",
       "  <thead>\n",
       "    <tr style=\"text-align: right;\">\n",
       "      <th></th>\n",
       "      <th>Name</th>\n",
       "      <th>$X$(m)</th>\n",
       "      <th>$Y$(m)</th>\n",
       "      <th>$Z$(m)</th>\n",
       "    </tr>\n",
       "  </thead>\n",
       "  <tbody>\n",
       "    <tr>\n",
       "      <th>0</th>\n",
       "      <td>North Pole (NP)</td>\n",
       "      <td>-4.630060e+01</td>\n",
       "      <td>-3.367074e-04</td>\n",
       "      <td>6.366789e+06</td>\n",
       "    </tr>\n",
       "    <tr>\n",
       "      <th>1</th>\n",
       "      <td>South Pole (NP)</td>\n",
       "      <td>4.635220e+01</td>\n",
       "      <td>3.370827e-04</td>\n",
       "      <td>-6.373885e+06</td>\n",
       "    </tr>\n",
       "    <tr>\n",
       "      <th>2</th>\n",
       "      <td>New Orleans (PoB)</td>\n",
       "      <td>4.521779e+03</td>\n",
       "      <td>-5.515043e+06</td>\n",
       "      <td>3.189758e+06</td>\n",
       "    </tr>\n",
       "    <tr>\n",
       "      <th>3</th>\n",
       "      <td>Eiffel Tower (1)</td>\n",
       "      <td>4.188295e+06</td>\n",
       "      <td>1.678471e+05</td>\n",
       "      <td>4.797992e+06</td>\n",
       "    </tr>\n",
       "    <tr>\n",
       "      <th>4</th>\n",
       "      <td>Angkor Wat (2)</td>\n",
       "      <td>-1.485330e+06</td>\n",
       "      <td>6.016705e+06</td>\n",
       "      <td>1.477892e+06</td>\n",
       "    </tr>\n",
       "    <tr>\n",
       "      <th>5</th>\n",
       "      <td>Denali (3)</td>\n",
       "      <td>-2.526309e+06</td>\n",
       "      <td>-1.399953e+06</td>\n",
       "      <td>5.685691e+06</td>\n",
       "    </tr>\n",
       "    <tr>\n",
       "      <th>6</th>\n",
       "      <td>Purdue Fountain (4)</td>\n",
       "      <td>2.611444e+05</td>\n",
       "      <td>-4.842813e+06</td>\n",
       "      <td>4.131787e+06</td>\n",
       "    </tr>\n",
       "    <tr>\n",
       "      <th>7</th>\n",
       "      <td>Cradle of Humankind (5)</td>\n",
       "      <td>5.071253e+06</td>\n",
       "      <td>2.670127e+06</td>\n",
       "      <td>-2.786031e+06</td>\n",
       "    </tr>\n",
       "    <tr>\n",
       "      <th>8</th>\n",
       "      <td>Sydney Opera House (6)</td>\n",
       "      <td>-4.636874e+06</td>\n",
       "      <td>2.547606e+06</td>\n",
       "      <td>-3.549567e+06</td>\n",
       "    </tr>\n",
       "    <tr>\n",
       "      <th>9</th>\n",
       "      <td>Rapa Nui (7)</td>\n",
       "      <td>-1.695577e+06</td>\n",
       "      <td>-4.895359e+06</td>\n",
       "      <td>-3.709071e+06</td>\n",
       "    </tr>\n",
       "    <tr>\n",
       "      <th>10</th>\n",
       "      <td>Mount Fitz Roy (8)</td>\n",
       "      <td>1.213069e+06</td>\n",
       "      <td>-3.978398e+06</td>\n",
       "      <td>-4.830579e+06</td>\n",
       "    </tr>\n",
       "  </tbody>\n",
       "</table>\n",
       "</div>"
      ],
      "text/plain": [
       "                       Name        $X$(m)        $Y$(m)        $Z$(m)\n",
       "0           North Pole (NP) -4.630060e+01 -3.367074e-04  6.366789e+06\n",
       "1           South Pole (NP)  4.635220e+01  3.370827e-04 -6.373885e+06\n",
       "2         New Orleans (PoB)  4.521779e+03 -5.515043e+06  3.189758e+06\n",
       "3          Eiffel Tower (1)  4.188295e+06  1.678471e+05  4.797992e+06\n",
       "4            Angkor Wat (2) -1.485330e+06  6.016705e+06  1.477892e+06\n",
       "5                Denali (3) -2.526309e+06 -1.399953e+06  5.685691e+06\n",
       "6       Purdue Fountain (4)  2.611444e+05 -4.842813e+06  4.131787e+06\n",
       "7   Cradle of Humankind (5)  5.071253e+06  2.670127e+06 -2.786031e+06\n",
       "8    Sydney Opera House (6) -4.636874e+06  2.547606e+06 -3.549567e+06\n",
       "9              Rapa Nui (7) -1.695577e+06 -4.895359e+06 -3.709071e+06\n",
       "10       Mount Fitz Roy (8)  1.213069e+06 -3.978398e+06 -4.830579e+06"
      ]
     },
     "execution_count": 40,
     "metadata": {},
     "output_type": "execute_result"
    }
   ],
   "source": [
    "df6 = pd.DataFrame({\n",
    "    'Name':names,\n",
    "    '$X$(m)':ef_x2,\n",
    "    '$Y$(m)':ef_y2,\n",
    "    '$Z$(m)':ef_z2\n",
    "})\n",
    "df6 # displaying the data frame"
   ]
  },
  {
   "cell_type": "code",
   "execution_count": 41,
   "metadata": {},
   "outputs": [
    {
     "name": "stdout",
     "output_type": "stream",
     "text": [
      "                 Name              X(m)             Y(m)            Z(m)\n",
      "--------------------------------------------------------------------------\n",
      "          North Pole (NP)         -46.301          -0.000     6366788.896\n",
      "          South Pole (NP)          46.352           0.000    -6373884.945\n",
      "        New Orleans (PoB)        4521.779    -5515043.213     3189757.987\n",
      "         Eiffel Tower (1)     4188294.992      167847.139     4797992.223\n",
      "           Angkor Wat (2)    -1485329.556     6016704.727     1477892.314\n",
      "               Denali (3)    -2526308.835    -1399953.275     5685691.072\n",
      "      Purdue Fountain (4)      261144.404    -4842812.650     4131787.383\n",
      "  Cradle of Humankind (5)     5071253.374     2670127.072    -2786031.235\n",
      "   Sydney Opera House (6)    -4636874.265     2547606.112    -3549567.402\n",
      "             Rapa Nui (7)    -1695577.264    -4895359.386    -3709071.491\n",
      "       Mount Fitz Roy (8)     1213068.786    -3978397.747    -4830578.747\n",
      "--------------------------------------------------------------------------\n"
     ]
    }
   ],
   "source": [
    "print(\"                 Name              X(m)             Y(m)            Z(m)\")\n",
    "print(\"--------------------------------------------------------------------------\")\n",
    "for index, row in df6.iterrows():\n",
    "    print(\"%25s %15.3f %15.3f %15.3f\" % (row['Name'], row['$X$(m)'], row['$Y$(m)'], row['$Z$(m)']))\n",
    "print(\"--------------------------------------------------------------------------\")"
   ]
  },
  {
   "cell_type": "markdown",
   "metadata": {},
   "source": [
    "____"
   ]
  },
  {
   "cell_type": "markdown",
   "metadata": {},
   "source": [
    "## <span style=\"color:blue\">*PART 4*<span>"
   ]
  },
  {
   "cell_type": "markdown",
   "metadata": {},
   "source": [
    "### Calculating the Differences in Cartesian Coordinates"
   ]
  },
  {
   "cell_type": "markdown",
   "metadata": {},
   "source": [
    "&nbsp;&nbsp;&nbsp;&nbsp;&nbsp; __*Calculating the differences in X coordinates:*__"
   ]
  },
  {
   "cell_type": "code",
   "execution_count": 42,
   "metadata": {},
   "outputs": [],
   "source": [
    "dx = [] # creating an empty list to store data iteratively\n",
    "for i in range(len(df6)): # iterating through data frame 6 (Adjusted Earth-fixed Geocentric Cartesian Coordinates)\n",
    "    del_x = df6.iloc[i,1] - df3.iloc[i,1] # the difference in X coordinates (Post-Adjustment - Pre-Adjustment)\n",
    "    dx.append(del_x) # adding data to list"
   ]
  },
  {
   "cell_type": "markdown",
   "metadata": {},
   "source": [
    "&nbsp;&nbsp;&nbsp;&nbsp;&nbsp; __*Calculating the differences in Y coordinates:*__"
   ]
  },
  {
   "cell_type": "code",
   "execution_count": 43,
   "metadata": {},
   "outputs": [],
   "source": [
    "dy = [] # creating an empty list to store data iteratively\n",
    "for i in range(len(df6)): # iterating through data frame 6 (Adjusted Earth-fixed Geocentric Cartesian Coordinates)\n",
    "    del_y = df6.iloc[i,2] - df3.iloc[i,2] # the difference in Y coordinates (Post-Adjustment - Pre-Adjustment)\n",
    "    dy.append(del_y) # adding data to list"
   ]
  },
  {
   "cell_type": "markdown",
   "metadata": {},
   "source": [
    "&nbsp;&nbsp;&nbsp;&nbsp;&nbsp; __*Calculating the differences in Z coordinates:*__"
   ]
  },
  {
   "cell_type": "code",
   "execution_count": 44,
   "metadata": {},
   "outputs": [],
   "source": [
    "dz = [] # creating an empty list to store data iteratively\n",
    "for i in range(len(df6)): # iterating through data frame 6 (Adjusted Earth-fixed Geocentric Cartesian Coordinates)\n",
    "    del_z = df6.iloc[i,3] - df3.iloc[i,3] # the difference in Z coordinates (Post-Adjustment - Pre-Adjustment)\n",
    "    dz.append(del_z) # adding data to list"
   ]
  },
  {
   "cell_type": "markdown",
   "metadata": {},
   "source": [
    "### Cartesian Coordinate Differences"
   ]
  },
  {
   "cell_type": "code",
   "execution_count": 45,
   "metadata": {
    "scrolled": true
   },
   "outputs": [
    {
     "data": {
      "text/html": [
       "<div>\n",
       "<style scoped>\n",
       "    .dataframe tbody tr th:only-of-type {\n",
       "        vertical-align: middle;\n",
       "    }\n",
       "\n",
       "    .dataframe tbody tr th {\n",
       "        vertical-align: top;\n",
       "    }\n",
       "\n",
       "    .dataframe thead th {\n",
       "        text-align: right;\n",
       "    }\n",
       "</style>\n",
       "<table border=\"1\" class=\"dataframe\">\n",
       "  <thead>\n",
       "    <tr style=\"text-align: right;\">\n",
       "      <th></th>\n",
       "      <th>Name</th>\n",
       "      <th>$\\Delta X$(m)</th>\n",
       "      <th>$\\Delta Y$(m)</th>\n",
       "      <th>$\\Delta Z$(m)</th>\n",
       "    </tr>\n",
       "  </thead>\n",
       "  <tbody>\n",
       "    <tr>\n",
       "      <th>0</th>\n",
       "      <td>North Pole (NP)</td>\n",
       "      <td>-46.300595</td>\n",
       "      <td>-0.000337</td>\n",
       "      <td>49.999832</td>\n",
       "    </tr>\n",
       "    <tr>\n",
       "      <th>1</th>\n",
       "      <td>South Pole (NP)</td>\n",
       "      <td>46.352199</td>\n",
       "      <td>0.000337</td>\n",
       "      <td>-49.999831</td>\n",
       "    </tr>\n",
       "    <tr>\n",
       "      <th>2</th>\n",
       "      <td>New Orleans (PoB)</td>\n",
       "      <td>40.122848</td>\n",
       "      <td>-20.053082</td>\n",
       "      <td>65.139530</td>\n",
       "    </tr>\n",
       "    <tr>\n",
       "      <th>3</th>\n",
       "      <td>Eiffel Tower (1)</td>\n",
       "      <td>-3.214562</td>\n",
       "      <td>30.378247</td>\n",
       "      <td>68.136916</td>\n",
       "    </tr>\n",
       "    <tr>\n",
       "      <th>4</th>\n",
       "      <td>Angkor Wat (2)</td>\n",
       "      <td>-52.835403</td>\n",
       "      <td>25.983175</td>\n",
       "      <td>56.666345</td>\n",
       "    </tr>\n",
       "    <tr>\n",
       "      <th>5</th>\n",
       "      <td>Denali (3)</td>\n",
       "      <td>26.538961</td>\n",
       "      <td>-9.307093</td>\n",
       "      <td>65.582073</td>\n",
       "    </tr>\n",
       "    <tr>\n",
       "      <th>6</th>\n",
       "      <td>Purdue Fountain (4)</td>\n",
       "      <td>35.649377</td>\n",
       "      <td>-6.103045</td>\n",
       "      <td>67.694227</td>\n",
       "    </tr>\n",
       "    <tr>\n",
       "      <th>7</th>\n",
       "      <td>Cradle of Humankind (5)</td>\n",
       "      <td>38.300021</td>\n",
       "      <td>67.268322</td>\n",
       "      <td>19.818713</td>\n",
       "    </tr>\n",
       "    <tr>\n",
       "      <th>8</th>\n",
       "      <td>Sydney Opera House (6)</td>\n",
       "      <td>-77.540142</td>\n",
       "      <td>-1.296399</td>\n",
       "      <td>10.617256</td>\n",
       "    </tr>\n",
       "    <tr>\n",
       "      <th>9</th>\n",
       "      <td>Rapa Nui (7)</td>\n",
       "      <td>13.465758</td>\n",
       "      <td>-76.233781</td>\n",
       "      <td>8.568154</td>\n",
       "    </tr>\n",
       "    <tr>\n",
       "      <th>10</th>\n",
       "      <td>Mount Fitz Roy (8)</td>\n",
       "      <td>48.691928</td>\n",
       "      <td>-55.985849</td>\n",
       "      <td>-7.643731</td>\n",
       "    </tr>\n",
       "  </tbody>\n",
       "</table>\n",
       "</div>"
      ],
      "text/plain": [
       "                       Name  $\\Delta X$(m)  $\\Delta Y$(m)  $\\Delta Z$(m)\n",
       "0           North Pole (NP)     -46.300595      -0.000337      49.999832\n",
       "1           South Pole (NP)      46.352199       0.000337     -49.999831\n",
       "2         New Orleans (PoB)      40.122848     -20.053082      65.139530\n",
       "3          Eiffel Tower (1)      -3.214562      30.378247      68.136916\n",
       "4            Angkor Wat (2)     -52.835403      25.983175      56.666345\n",
       "5                Denali (3)      26.538961      -9.307093      65.582073\n",
       "6       Purdue Fountain (4)      35.649377      -6.103045      67.694227\n",
       "7   Cradle of Humankind (5)      38.300021      67.268322      19.818713\n",
       "8    Sydney Opera House (6)     -77.540142      -1.296399      10.617256\n",
       "9              Rapa Nui (7)      13.465758     -76.233781       8.568154\n",
       "10       Mount Fitz Roy (8)      48.691928     -55.985849      -7.643731"
      ]
     },
     "execution_count": 45,
     "metadata": {},
     "output_type": "execute_result"
    }
   ],
   "source": [
    "df7 = pd.DataFrame({\n",
    "    'Name':names,\n",
    "    '$\\Delta X$(m)':dx,\n",
    "    '$\\Delta Y$(m)':dy,\n",
    "    '$\\Delta Z$(m)':dz\n",
    "})\n",
    "df7 # displaying the data frame"
   ]
  },
  {
   "cell_type": "code",
   "execution_count": 46,
   "metadata": {},
   "outputs": [],
   "source": [
    "df7.to_pickle(\"./xyz_difference.pkl\")"
   ]
  },
  {
   "cell_type": "code",
   "execution_count": 47,
   "metadata": {},
   "outputs": [
    {
     "name": "stdout",
     "output_type": "stream",
     "text": [
      "                 Name           X(m)       Y(m)       Z(m)\n",
      "------------------------------------------------------------\n",
      "          North Pole (NP)    -46.301     -0.000     50.000\n",
      "          South Pole (NP)     46.352      0.000    -50.000\n",
      "        New Orleans (PoB)     40.123    -20.053     65.140\n",
      "         Eiffel Tower (1)     -3.215     30.378     68.137\n",
      "           Angkor Wat (2)    -52.835     25.983     56.666\n",
      "               Denali (3)     26.539     -9.307     65.582\n",
      "      Purdue Fountain (4)     35.649     -6.103     67.694\n",
      "  Cradle of Humankind (5)     38.300     67.268     19.819\n",
      "   Sydney Opera House (6)    -77.540     -1.296     10.617\n",
      "             Rapa Nui (7)     13.466    -76.234      8.568\n",
      "       Mount Fitz Roy (8)     48.692    -55.986     -7.644\n",
      "------------------------------------------------------------\n"
     ]
    }
   ],
   "source": [
    "print(\"                 Name           X(m)       Y(m)       Z(m)\")\n",
    "print(\"------------------------------------------------------------\")\n",
    "for index, row in df7.iterrows():\n",
    "    print(\"%25s %10.3f %10.3f %10.3f\" % (row['Name'], row['$\\Delta X$(m)'], row['$\\Delta Y$(m)'], row['$\\Delta Z$(m)']))\n",
    "print(\"------------------------------------------------------------\")"
   ]
  },
  {
   "cell_type": "markdown",
   "metadata": {},
   "source": [
    "In general, the differences in X and Y are positive or negative depending on which octant the locations reside in. The differences in X are smaller when the locations are closer to the Prime Meridian and larger when they are farther away, especially when closer to the equator. The differences in Y should be larger for locations perpendicular to the Prime Meridian, and should also be larger for locations closer to the equator. The differences in Z should also be larger for areas closer to the equator."
   ]
  },
  {
   "cell_type": "markdown",
   "metadata": {},
   "source": [
    "### Plotting"
   ]
  },
  {
   "cell_type": "code",
   "execution_count": 48,
   "metadata": {},
   "outputs": [],
   "source": [
    "def dms2dd(dd, mm, ss):\n",
    "    return dd + mm/60.0 + ss/3600."
   ]
  },
  {
   "cell_type": "code",
   "execution_count": 49,
   "metadata": {},
   "outputs": [],
   "source": [
    "psi_ddd = np.zeros(11, dtype=np.float64)\n",
    "for index, row in df.iterrows():\n",
    "    psi_dd = dms2dd(row['$\\psi$dd'], row['$\\psi$mm'], row['$\\psi$ss.sssss'])\n",
    "    psi_ddd[index] = psi_dd"
   ]
  },
  {
   "cell_type": "code",
   "execution_count": 50,
   "metadata": {},
   "outputs": [],
   "source": [
    "xyz_diff = np.zeros(11, dtype=np.float64)\n",
    "\n",
    "for i in range(11):\n",
    "    xyz_diff[i] = np.sqrt(dx[i]**2 + dy[i]**2 +dz[i]**2)"
   ]
  },
  {
   "cell_type": "code",
   "execution_count": 51,
   "metadata": {},
   "outputs": [
    {
     "data": {
      "text/plain": [
       "[<matplotlib.lines.Line2D at 0x11bd93810>]"
      ]
     },
     "execution_count": 51,
     "metadata": {},
     "output_type": "execute_result"
    },
    {
     "data": {
      "image/png": "[encoded data removed]",
      "text/plain": [
       "<Figure size 432x288 with 1 Axes>"
      ]
     },
     "metadata": {
      "needs_background": "light"
     },
     "output_type": "display_data"
    }
   ],
   "source": [
    "plt.plot(np.absolute(psi_ddd), xyz_diff, 'g.')"
   ]
  },
  {
   "cell_type": "markdown",
   "metadata": {},
   "source": [
    "### *Check: Recalculating Spherical Coordinate Differences*\n",
    "As a way of verifying that I didn't make any mistakes with my transformations, I decided to transform the cartesian coordinate differences back to spherical coordinates to see if they match the input data."
   ]
  },
  {
   "cell_type": "markdown",
   "metadata": {},
   "source": [
    "&nbsp;&nbsp;&nbsp;&nbsp;&nbsp; __*Calculating the differences in longitude:*__"
   ]
  },
  {
   "cell_type": "code",
   "execution_count": 52,
   "metadata": {},
   "outputs": [],
   "source": [
    "dlon = [] # creating an empty list to store data iteratively\n",
    "for i in range(len(df4)): # iterating through data frame 4 (Adjusted Spherical Coordinates in DMS)\n",
    "    diff_lon = (float(df4.iloc[i,3]) - float(df.iloc[i,3]))/3600 # the difference in longitude (Post-Adjustment - Pre-Adjustment)\n",
    "    dlon.append(diff_lon) # adding data to list"
   ]
  },
  {
   "cell_type": "markdown",
   "metadata": {},
   "source": [
    "&nbsp;&nbsp;&nbsp;&nbsp;&nbsp; __*Calculating the differences in latitude:*__"
   ]
  },
  {
   "cell_type": "code",
   "execution_count": 53,
   "metadata": {},
   "outputs": [],
   "source": [
    "dlat = [] # creating an empty list to store data iteratively\n",
    "for i in range(len(df4)): # iterating through data frame 4 (Adjusted Spherical Coordinates in DMS)\n",
    "    diff_lat = (float(df4.iloc[i,6]) - float(df.iloc[i,6]))/3600 # the difference in latitude (Post-Adjustment - Pre-Adjustment)\n",
    "    dlat.append(diff_lat) # adding data to list"
   ]
  },
  {
   "cell_type": "markdown",
   "metadata": {},
   "source": [
    "&nbsp;&nbsp;&nbsp;&nbsp;&nbsp; __*Calculating the differences in height:*__"
   ]
  },
  {
   "cell_type": "code",
   "execution_count": 54,
   "metadata": {},
   "outputs": [],
   "source": [
    "dh = [] # creating an empty list to store data iteratively\n",
    "for i in range(len(df4)): # iterating through data frame 4 (Adjusted Spherical Coordinates in DMS)\n",
    "    diff_h = float(df4.iloc[i,7]) - float(df.iloc[i,7]) # the difference in height (Post-Adjustment - Pre-Adjustment)\n",
    "    dh.append(diff_h) # adding data to list"
   ]
  },
  {
   "cell_type": "markdown",
   "metadata": {},
   "source": [
    "### Spherical Coordinate Differences in Decimal Degrees"
   ]
  },
  {
   "cell_type": "code",
   "execution_count": 55,
   "metadata": {},
   "outputs": [
    {
     "data": {
      "text/html": [
       "<div>\n",
       "<style scoped>\n",
       "    .dataframe tbody tr th:only-of-type {\n",
       "        vertical-align: middle;\n",
       "    }\n",
       "\n",
       "    .dataframe tbody tr th {\n",
       "        vertical-align: top;\n",
       "    }\n",
       "\n",
       "    .dataframe thead th {\n",
       "        text-align: right;\n",
       "    }\n",
       "</style>\n",
       "<table border=\"1\" class=\"dataframe\">\n",
       "  <thead>\n",
       "    <tr style=\"text-align: right;\">\n",
       "      <th></th>\n",
       "      <th>Name</th>\n",
       "      <th>$\\Delta \\lambda$°</th>\n",
       "      <th>$\\Delta \\psi$°</th>\n",
       "      <th>$\\Delta h$(m)</th>\n",
       "    </tr>\n",
       "  </thead>\n",
       "  <tbody>\n",
       "    <tr>\n",
       "      <th>0</th>\n",
       "      <td>North Pole (NP)</td>\n",
       "      <td>0.000417</td>\n",
       "      <td>0.000417</td>\n",
       "      <td>50.0</td>\n",
       "    </tr>\n",
       "    <tr>\n",
       "      <th>1</th>\n",
       "      <td>South Pole (NP)</td>\n",
       "      <td>0.000417</td>\n",
       "      <td>0.000417</td>\n",
       "      <td>50.0</td>\n",
       "    </tr>\n",
       "    <tr>\n",
       "      <th>2</th>\n",
       "      <td>New Orleans (PoB)</td>\n",
       "      <td>0.000417</td>\n",
       "      <td>0.000417</td>\n",
       "      <td>50.0</td>\n",
       "    </tr>\n",
       "    <tr>\n",
       "      <th>3</th>\n",
       "      <td>Eiffel Tower (1)</td>\n",
       "      <td>0.000417</td>\n",
       "      <td>0.000417</td>\n",
       "      <td>50.0</td>\n",
       "    </tr>\n",
       "    <tr>\n",
       "      <th>4</th>\n",
       "      <td>Angkor Wat (2)</td>\n",
       "      <td>0.000417</td>\n",
       "      <td>0.000417</td>\n",
       "      <td>50.0</td>\n",
       "    </tr>\n",
       "    <tr>\n",
       "      <th>5</th>\n",
       "      <td>Denali (3)</td>\n",
       "      <td>0.000417</td>\n",
       "      <td>0.000417</td>\n",
       "      <td>50.0</td>\n",
       "    </tr>\n",
       "    <tr>\n",
       "      <th>6</th>\n",
       "      <td>Purdue Fountain (4)</td>\n",
       "      <td>0.000417</td>\n",
       "      <td>0.000417</td>\n",
       "      <td>50.0</td>\n",
       "    </tr>\n",
       "    <tr>\n",
       "      <th>7</th>\n",
       "      <td>Cradle of Humankind (5)</td>\n",
       "      <td>0.000417</td>\n",
       "      <td>0.000417</td>\n",
       "      <td>50.0</td>\n",
       "    </tr>\n",
       "    <tr>\n",
       "      <th>8</th>\n",
       "      <td>Sydney Opera House (6)</td>\n",
       "      <td>0.000417</td>\n",
       "      <td>0.000417</td>\n",
       "      <td>50.0</td>\n",
       "    </tr>\n",
       "    <tr>\n",
       "      <th>9</th>\n",
       "      <td>Rapa Nui (7)</td>\n",
       "      <td>0.000417</td>\n",
       "      <td>0.000417</td>\n",
       "      <td>50.0</td>\n",
       "    </tr>\n",
       "    <tr>\n",
       "      <th>10</th>\n",
       "      <td>Mount Fitz Roy (8)</td>\n",
       "      <td>0.000417</td>\n",
       "      <td>0.000417</td>\n",
       "      <td>50.0</td>\n",
       "    </tr>\n",
       "  </tbody>\n",
       "</table>\n",
       "</div>"
      ],
      "text/plain": [
       "                       Name  $\\Delta \\lambda$°  $\\Delta \\psi$°  $\\Delta h$(m)\n",
       "0           North Pole (NP)           0.000417        0.000417           50.0\n",
       "1           South Pole (NP)           0.000417        0.000417           50.0\n",
       "2         New Orleans (PoB)           0.000417        0.000417           50.0\n",
       "3          Eiffel Tower (1)           0.000417        0.000417           50.0\n",
       "4            Angkor Wat (2)           0.000417        0.000417           50.0\n",
       "5                Denali (3)           0.000417        0.000417           50.0\n",
       "6       Purdue Fountain (4)           0.000417        0.000417           50.0\n",
       "7   Cradle of Humankind (5)           0.000417        0.000417           50.0\n",
       "8    Sydney Opera House (6)           0.000417        0.000417           50.0\n",
       "9              Rapa Nui (7)           0.000417        0.000417           50.0\n",
       "10       Mount Fitz Roy (8)           0.000417        0.000417           50.0"
      ]
     },
     "execution_count": 55,
     "metadata": {},
     "output_type": "execute_result"
    }
   ],
   "source": [
    "df8 = pd.DataFrame({\n",
    "    'Name':names,\n",
    "    '$\\Delta \\lambda$°':dlon,\n",
    "    '$\\Delta \\psi$°':dlat,\n",
    "    '$\\Delta h$(m)':dh\n",
    "})\n",
    "df8 # displaying the data frame"
   ]
  },
  {
   "cell_type": "markdown",
   "metadata": {},
   "source": [
    "The above results are exactly the same as the additional measurements, therefore, the transformations are correct."
   ]
  },
  {
   "cell_type": "markdown",
   "metadata": {},
   "source": [
    "## <span style=\"color:blue\">*---- Lab 02 -----*<span>"
   ]
  },
  {
   "cell_type": "markdown",
   "metadata": {},
   "source": [
    "### Adjustments to Lab 01 to be used in Lab 02 (Adding 1 degree)"
   ]
  },
  {
   "cell_type": "code",
   "execution_count": 56,
   "metadata": {},
   "outputs": [],
   "source": [
    "lon_dd3 = [] \n",
    "for i in range(len(df)): \n",
    "    lon_new = (float(df.iloc[i,1]) + 1) \n",
    "    lon_dd3.append(lon_new) "
   ]
  },
  {
   "cell_type": "code",
   "execution_count": 57,
   "metadata": {},
   "outputs": [],
   "source": [
    "lat_dd3 = [] \n",
    "for i in range(len(df)): \n",
    "    lat_new = (float(df.iloc[i,4]) + 1) \n",
    "    lat_dd3.append(lat_new) "
   ]
  },
  {
   "cell_type": "code",
   "execution_count": 58,
   "metadata": {},
   "outputs": [
    {
     "data": {
      "text/html": [
       "<div>\n",
       "<style scoped>\n",
       "    .dataframe tbody tr th:only-of-type {\n",
       "        vertical-align: middle;\n",
       "    }\n",
       "\n",
       "    .dataframe tbody tr th {\n",
       "        vertical-align: top;\n",
       "    }\n",
       "\n",
       "    .dataframe thead th {\n",
       "        text-align: right;\n",
       "    }\n",
       "</style>\n",
       "<table border=\"1\" class=\"dataframe\">\n",
       "  <thead>\n",
       "    <tr style=\"text-align: right;\">\n",
       "      <th></th>\n",
       "      <th>Name</th>\n",
       "      <th>$\\lambda$dd</th>\n",
       "      <th>$\\lambda$mm</th>\n",
       "      <th>$\\lambda$ss.sssss</th>\n",
       "      <th>$\\psi$dd</th>\n",
       "      <th>$\\psi$mm</th>\n",
       "      <th>$\\psi$ss.sssss</th>\n",
       "      <th>$h$ (m)</th>\n",
       "    </tr>\n",
       "  </thead>\n",
       "  <tbody>\n",
       "    <tr>\n",
       "      <th>0</th>\n",
       "      <td>North Pole (NP)</td>\n",
       "      <td>1.0</td>\n",
       "      <td>0</td>\n",
       "      <td>0.00000</td>\n",
       "      <td>91.0</td>\n",
       "      <td>0</td>\n",
       "      <td>0.00000</td>\n",
       "      <td>-4211.1040</td>\n",
       "    </tr>\n",
       "    <tr>\n",
       "      <th>1</th>\n",
       "      <td>South Pole (NP)</td>\n",
       "      <td>1.0</td>\n",
       "      <td>0</td>\n",
       "      <td>0.00000</td>\n",
       "      <td>-89.0</td>\n",
       "      <td>0</td>\n",
       "      <td>-0.00000</td>\n",
       "      <td>2884.9448</td>\n",
       "    </tr>\n",
       "    <tr>\n",
       "      <th>2</th>\n",
       "      <td>New Orleans (PoB)</td>\n",
       "      <td>-88.0</td>\n",
       "      <td>-57</td>\n",
       "      <td>-12.38369</td>\n",
       "      <td>31.0</td>\n",
       "      <td>2</td>\n",
       "      <td>36.78024</td>\n",
       "      <td>50.0000</td>\n",
       "    </tr>\n",
       "    <tr>\n",
       "      <th>3</th>\n",
       "      <td>Eiffel Tower (1)</td>\n",
       "      <td>3.0</td>\n",
       "      <td>17</td>\n",
       "      <td>40.20111</td>\n",
       "      <td>49.0</td>\n",
       "      <td>51</td>\n",
       "      <td>29.64298</td>\n",
       "      <td>84.4424</td>\n",
       "    </tr>\n",
       "    <tr>\n",
       "      <th>4</th>\n",
       "      <td>Angkor Wat (2)</td>\n",
       "      <td>104.0</td>\n",
       "      <td>52</td>\n",
       "      <td>0.43521</td>\n",
       "      <td>14.0</td>\n",
       "      <td>24</td>\n",
       "      <td>45.08764</td>\n",
       "      <td>114.9224</td>\n",
       "    </tr>\n",
       "    <tr>\n",
       "      <th>5</th>\n",
       "      <td>Denali (3)</td>\n",
       "      <td>-150.0</td>\n",
       "      <td>0</td>\n",
       "      <td>-26.64532</td>\n",
       "      <td>64.0</td>\n",
       "      <td>4</td>\n",
       "      <td>10.20103</td>\n",
       "      <td>6239.8784</td>\n",
       "    </tr>\n",
       "    <tr>\n",
       "      <th>6</th>\n",
       "      <td>Purdue Fountain (4)</td>\n",
       "      <td>-85.0</td>\n",
       "      <td>-54</td>\n",
       "      <td>-49.61418</td>\n",
       "      <td>41.0</td>\n",
       "      <td>25</td>\n",
       "      <td>43.10224</td>\n",
       "      <td>239.8904</td>\n",
       "    </tr>\n",
       "    <tr>\n",
       "      <th>7</th>\n",
       "      <td>Cradle of Humankind (5)</td>\n",
       "      <td>28.0</td>\n",
       "      <td>46</td>\n",
       "      <td>2.57003</td>\n",
       "      <td>-24.0</td>\n",
       "      <td>-55</td>\n",
       "      <td>-31.39308</td>\n",
       "      <td>1531.6328</td>\n",
       "    </tr>\n",
       "    <tr>\n",
       "      <th>8</th>\n",
       "      <td>Sydney Opera House (6)</td>\n",
       "      <td>152.0</td>\n",
       "      <td>12</td>\n",
       "      <td>51.01352</td>\n",
       "      <td>-32.0</td>\n",
       "      <td>-51</td>\n",
       "      <td>-31.09981</td>\n",
       "      <td>53.9624</td>\n",
       "    </tr>\n",
       "    <tr>\n",
       "      <th>9</th>\n",
       "      <td>Rapa Nui (7)</td>\n",
       "      <td>-108.0</td>\n",
       "      <td>-6</td>\n",
       "      <td>-16.81564</td>\n",
       "      <td>-34.0</td>\n",
       "      <td>-36</td>\n",
       "      <td>-3.16718</td>\n",
       "      <td>556.8824</td>\n",
       "    </tr>\n",
       "    <tr>\n",
       "      <th>10</th>\n",
       "      <td>Mount Fitz Roy (8)</td>\n",
       "      <td>-72.0</td>\n",
       "      <td>-2</td>\n",
       "      <td>-35.60651</td>\n",
       "      <td>-48.0</td>\n",
       "      <td>-16</td>\n",
       "      <td>-16.61136</td>\n",
       "      <td>3454.9208</td>\n",
       "    </tr>\n",
       "  </tbody>\n",
       "</table>\n",
       "</div>"
      ],
      "text/plain": [
       "                       Name  $\\lambda$dd  $\\lambda$mm  $\\lambda$ss.sssss  \\\n",
       "0           North Pole (NP)          1.0            0            0.00000   \n",
       "1           South Pole (NP)          1.0            0            0.00000   \n",
       "2         New Orleans (PoB)        -88.0          -57          -12.38369   \n",
       "3          Eiffel Tower (1)          3.0           17           40.20111   \n",
       "4            Angkor Wat (2)        104.0           52            0.43521   \n",
       "5                Denali (3)       -150.0            0          -26.64532   \n",
       "6       Purdue Fountain (4)        -85.0          -54          -49.61418   \n",
       "7   Cradle of Humankind (5)         28.0           46            2.57003   \n",
       "8    Sydney Opera House (6)        152.0           12           51.01352   \n",
       "9              Rapa Nui (7)       -108.0           -6          -16.81564   \n",
       "10       Mount Fitz Roy (8)        -72.0           -2          -35.60651   \n",
       "\n",
       "    $\\psi$dd  $\\psi$mm  $\\psi$ss.sssss    $h$ (m)  \n",
       "0       91.0         0         0.00000 -4211.1040  \n",
       "1      -89.0         0        -0.00000  2884.9448  \n",
       "2       31.0         2        36.78024    50.0000  \n",
       "3       49.0        51        29.64298    84.4424  \n",
       "4       14.0        24        45.08764   114.9224  \n",
       "5       64.0         4        10.20103  6239.8784  \n",
       "6       41.0        25        43.10224   239.8904  \n",
       "7      -24.0       -55       -31.39308  1531.6328  \n",
       "8      -32.0       -51       -31.09981    53.9624  \n",
       "9      -34.0       -36        -3.16718   556.8824  \n",
       "10     -48.0       -16       -16.61136  3454.9208  "
      ]
     },
     "execution_count": 58,
     "metadata": {},
     "output_type": "execute_result"
    }
   ],
   "source": [
    "df9 = pd.DataFrame({\n",
    "    'Name':names,\n",
    "    '$\\lambda$dd':lon_dd3,\n",
    "    '$\\lambda$mm':lon_mm,\n",
    "    '$\\lambda$ss.sssss':lon_ss,\n",
    "    '$\\psi$dd':lat_dd3,\n",
    "    '$\\psi$mm':lat_mm,\n",
    "    '$\\psi$ss.sssss':lat_ss,\n",
    "    '$h$ (m)':hh\n",
    "})\n",
    "df9 # displaying the data frame"
   ]
  },
  {
   "cell_type": "markdown",
   "metadata": {},
   "source": [
    "### Converting from DMS to Decimal Degrees"
   ]
  },
  {
   "cell_type": "code",
   "execution_count": 59,
   "metadata": {},
   "outputs": [],
   "source": [
    "lam3 = [] \n",
    "for i in range(len(df9)): \n",
    "    lon_dec3 = int(df9.iloc[i,1]) + int(df9.iloc[i,2])/60 + float(df9.iloc[i,3])/3600 \n",
    "    lam3.append(lon_dec3) "
   ]
  },
  {
   "cell_type": "code",
   "execution_count": 60,
   "metadata": {},
   "outputs": [],
   "source": [
    "psi3 = [] \n",
    "for i in range(len(df9)): \n",
    "    lat_dec3 = int(df9.iloc[i,4]) + int(df9.iloc[i,5])/60 + float(df9.iloc[i,6])/3600\n",
    "    psi3.append(lat_dec3)"
   ]
  },
  {
   "cell_type": "code",
   "execution_count": 61,
   "metadata": {},
   "outputs": [
    {
     "data": {
      "text/html": [
       "<div>\n",
       "<style scoped>\n",
       "    .dataframe tbody tr th:only-of-type {\n",
       "        vertical-align: middle;\n",
       "    }\n",
       "\n",
       "    .dataframe tbody tr th {\n",
       "        vertical-align: top;\n",
       "    }\n",
       "\n",
       "    .dataframe thead th {\n",
       "        text-align: right;\n",
       "    }\n",
       "</style>\n",
       "<table border=\"1\" class=\"dataframe\">\n",
       "  <thead>\n",
       "    <tr style=\"text-align: right;\">\n",
       "      <th></th>\n",
       "      <th>Name</th>\n",
       "      <th>$\\lambda$°</th>\n",
       "      <th>$\\psi$°</th>\n",
       "      <th>$h$ (m)</th>\n",
       "    </tr>\n",
       "  </thead>\n",
       "  <tbody>\n",
       "    <tr>\n",
       "      <th>0</th>\n",
       "      <td>North Pole (NP)</td>\n",
       "      <td>1.000000</td>\n",
       "      <td>91.000000</td>\n",
       "      <td>-4211.1040</td>\n",
       "    </tr>\n",
       "    <tr>\n",
       "      <th>1</th>\n",
       "      <td>South Pole (NP)</td>\n",
       "      <td>1.000000</td>\n",
       "      <td>-89.000000</td>\n",
       "      <td>2884.9448</td>\n",
       "    </tr>\n",
       "    <tr>\n",
       "      <th>2</th>\n",
       "      <td>New Orleans (PoB)</td>\n",
       "      <td>-88.953440</td>\n",
       "      <td>31.043550</td>\n",
       "      <td>50.0000</td>\n",
       "    </tr>\n",
       "    <tr>\n",
       "      <th>3</th>\n",
       "      <td>Eiffel Tower (1)</td>\n",
       "      <td>3.294500</td>\n",
       "      <td>49.858234</td>\n",
       "      <td>84.4424</td>\n",
       "    </tr>\n",
       "    <tr>\n",
       "      <th>4</th>\n",
       "      <td>Angkor Wat (2)</td>\n",
       "      <td>104.866788</td>\n",
       "      <td>14.412524</td>\n",
       "      <td>114.9224</td>\n",
       "    </tr>\n",
       "    <tr>\n",
       "      <th>5</th>\n",
       "      <td>Denali (3)</td>\n",
       "      <td>-150.007401</td>\n",
       "      <td>64.069500</td>\n",
       "      <td>6239.8784</td>\n",
       "    </tr>\n",
       "    <tr>\n",
       "      <th>6</th>\n",
       "      <td>Purdue Fountain (4)</td>\n",
       "      <td>-85.913782</td>\n",
       "      <td>41.428640</td>\n",
       "      <td>239.8904</td>\n",
       "    </tr>\n",
       "    <tr>\n",
       "      <th>7</th>\n",
       "      <td>Cradle of Humankind (5)</td>\n",
       "      <td>28.767381</td>\n",
       "      <td>-24.925387</td>\n",
       "      <td>1531.6328</td>\n",
       "    </tr>\n",
       "    <tr>\n",
       "      <th>8</th>\n",
       "      <td>Sydney Opera House (6)</td>\n",
       "      <td>152.214170</td>\n",
       "      <td>-32.858639</td>\n",
       "      <td>53.9624</td>\n",
       "    </tr>\n",
       "    <tr>\n",
       "      <th>9</th>\n",
       "      <td>Rapa Nui (7)</td>\n",
       "      <td>-108.104671</td>\n",
       "      <td>-34.600880</td>\n",
       "      <td>556.8824</td>\n",
       "    </tr>\n",
       "    <tr>\n",
       "      <th>10</th>\n",
       "      <td>Mount Fitz Roy (8)</td>\n",
       "      <td>-72.043224</td>\n",
       "      <td>-48.271281</td>\n",
       "      <td>3454.9208</td>\n",
       "    </tr>\n",
       "  </tbody>\n",
       "</table>\n",
       "</div>"
      ],
      "text/plain": [
       "                       Name  $\\lambda$°    $\\psi$°    $h$ (m)\n",
       "0           North Pole (NP)    1.000000  91.000000 -4211.1040\n",
       "1           South Pole (NP)    1.000000 -89.000000  2884.9448\n",
       "2         New Orleans (PoB)  -88.953440  31.043550    50.0000\n",
       "3          Eiffel Tower (1)    3.294500  49.858234    84.4424\n",
       "4            Angkor Wat (2)  104.866788  14.412524   114.9224\n",
       "5                Denali (3) -150.007401  64.069500  6239.8784\n",
       "6       Purdue Fountain (4)  -85.913782  41.428640   239.8904\n",
       "7   Cradle of Humankind (5)   28.767381 -24.925387  1531.6328\n",
       "8    Sydney Opera House (6)  152.214170 -32.858639    53.9624\n",
       "9              Rapa Nui (7) -108.104671 -34.600880   556.8824\n",
       "10       Mount Fitz Roy (8)  -72.043224 -48.271281  3454.9208"
      ]
     },
     "execution_count": 61,
     "metadata": {},
     "output_type": "execute_result"
    }
   ],
   "source": [
    "df10 = pd.DataFrame({\n",
    "    'Name':names,\n",
    "    '$\\lambda$°':lam3,\n",
    "    '$\\psi$°':psi3,\n",
    "    '$h$ (m)':hh\n",
    "})\n",
    "df10 # displaying the data frame"
   ]
  },
  {
   "cell_type": "markdown",
   "metadata": {},
   "source": [
    "### Converting from Decimal Degrees to Cartesian"
   ]
  },
  {
   "cell_type": "code",
   "execution_count": 70,
   "metadata": {},
   "outputs": [],
   "source": [
    "cart3 = [] \n",
    "for i in range(len(df10)):\n",
    "    Rh3 = R + np.float64(df10.iloc[i,3]) \n",
    "    mat3 = [np.cos(df10.iloc[i,2]*rad)*np.cos(df10.iloc[i,1]*rad), \n",
    "           np.cos(df10.iloc[i,2]*rad)*np.sin(df10.iloc[i,1]*rad), \n",
    "           np.sin(df10.iloc[i,2]*rad)]\n",
    "    cc3 = np.multiply(Rh3,mat3) \n",
    "    cart3.append(cc3)"
   ]
  },
  {
   "cell_type": "code",
   "execution_count": 71,
   "metadata": {},
   "outputs": [],
   "source": [
    "ef_x3 = []\n",
    "ef_y3 = [] \n",
    "ef_z3 = [] \n",
    "for i in range(len(cart3)): \n",
    "    x3 = cart3[i][0] \n",
    "    y3 = cart3[i][1] \n",
    "    z3 = cart3[i][2] \n",
    "    ef_x3.append(x3) \n",
    "    ef_y3.append(y3) \n",
    "    ef_z3.append(z3) "
   ]
  },
  {
   "cell_type": "code",
   "execution_count": 72,
   "metadata": {},
   "outputs": [
    {
     "data": {
      "text/html": [
       "<div>\n",
       "<style scoped>\n",
       "    .dataframe tbody tr th:only-of-type {\n",
       "        vertical-align: middle;\n",
       "    }\n",
       "\n",
       "    .dataframe tbody tr th {\n",
       "        vertical-align: top;\n",
       "    }\n",
       "\n",
       "    .dataframe thead th {\n",
       "        text-align: right;\n",
       "    }\n",
       "</style>\n",
       "<table border=\"1\" class=\"dataframe\">\n",
       "  <thead>\n",
       "    <tr style=\"text-align: right;\">\n",
       "      <th></th>\n",
       "      <th>Name</th>\n",
       "      <th>$X$(m)</th>\n",
       "      <th>$Y$(m)</th>\n",
       "      <th>$Z$(m)</th>\n",
       "    </tr>\n",
       "  </thead>\n",
       "  <tbody>\n",
       "    <tr>\n",
       "      <th>0</th>\n",
       "      <td>North Pole (NP)</td>\n",
       "      <td>-1.110989e+05</td>\n",
       "      <td>-1.939238e+03</td>\n",
       "      <td>6.365819e+06</td>\n",
       "    </tr>\n",
       "    <tr>\n",
       "      <th>1</th>\n",
       "      <td>South Pole (NP)</td>\n",
       "      <td>1.112227e+05</td>\n",
       "      <td>1.941399e+03</td>\n",
       "      <td>-6.372914e+06</td>\n",
       "    </tr>\n",
       "    <tr>\n",
       "      <th>2</th>\n",
       "      <td>New Orleans (PoB)</td>\n",
       "      <td>9.970007e+04</td>\n",
       "      <td>-5.457649e+06</td>\n",
       "      <td>3.285483e+06</td>\n",
       "    </tr>\n",
       "    <tr>\n",
       "      <th>3</th>\n",
       "      <td>Eiffel Tower (1)</td>\n",
       "      <td>4.100529e+06</td>\n",
       "      <td>2.360401e+05</td>\n",
       "      <td>4.870386e+06</td>\n",
       "    </tr>\n",
       "    <tr>\n",
       "      <th>4</th>\n",
       "      <td>Angkor Wat (2)</td>\n",
       "      <td>-1.583209e+06</td>\n",
       "      <td>5.964047e+06</td>\n",
       "      <td>1.585781e+06</td>\n",
       "    </tr>\n",
       "    <tr>\n",
       "      <th>5</th>\n",
       "      <td>Denali (3)</td>\n",
       "      <td>-2.415216e+06</td>\n",
       "      <td>-1.394010e+06</td>\n",
       "      <td>5.735212e+06</td>\n",
       "    </tr>\n",
       "    <tr>\n",
       "      <th>6</th>\n",
       "      <td>Purdue Fountain (4)</td>\n",
       "      <td>3.403994e+05</td>\n",
       "      <td>-4.764887e+06</td>\n",
       "      <td>4.215765e+06</td>\n",
       "    </tr>\n",
       "    <tr>\n",
       "      <th>7</th>\n",
       "      <td>Cradle of Humankind (5)</td>\n",
       "      <td>5.065741e+06</td>\n",
       "      <td>2.781160e+06</td>\n",
       "      <td>-2.685625e+06</td>\n",
       "    </tr>\n",
       "    <tr>\n",
       "      <th>8</th>\n",
       "      <td>Sydney Opera House (6)</td>\n",
       "      <td>-4.734682e+06</td>\n",
       "      <td>2.494819e+06</td>\n",
       "      <td>-3.456731e+06</td>\n",
       "    </tr>\n",
       "    <tr>\n",
       "      <th>9</th>\n",
       "      <td>Rapa Nui (7)</td>\n",
       "      <td>-1.629781e+06</td>\n",
       "      <td>-4.984946e+06</td>\n",
       "      <td>-3.618129e+06</td>\n",
       "    </tr>\n",
       "    <tr>\n",
       "      <th>10</th>\n",
       "      <td>Mount Fitz Roy (8)</td>\n",
       "      <td>1.308073e+06</td>\n",
       "      <td>-4.036193e+06</td>\n",
       "      <td>-4.757285e+06</td>\n",
       "    </tr>\n",
       "  </tbody>\n",
       "</table>\n",
       "</div>"
      ],
      "text/plain": [
       "                       Name        $X$(m)        $Y$(m)        $Z$(m)\n",
       "0           North Pole (NP) -1.110989e+05 -1.939238e+03  6.365819e+06\n",
       "1           South Pole (NP)  1.112227e+05  1.941399e+03 -6.372914e+06\n",
       "2         New Orleans (PoB)  9.970007e+04 -5.457649e+06  3.285483e+06\n",
       "3          Eiffel Tower (1)  4.100529e+06  2.360401e+05  4.870386e+06\n",
       "4            Angkor Wat (2) -1.583209e+06  5.964047e+06  1.585781e+06\n",
       "5                Denali (3) -2.415216e+06 -1.394010e+06  5.735212e+06\n",
       "6       Purdue Fountain (4)  3.403994e+05 -4.764887e+06  4.215765e+06\n",
       "7   Cradle of Humankind (5)  5.065741e+06  2.781160e+06 -2.685625e+06\n",
       "8    Sydney Opera House (6) -4.734682e+06  2.494819e+06 -3.456731e+06\n",
       "9              Rapa Nui (7) -1.629781e+06 -4.984946e+06 -3.618129e+06\n",
       "10       Mount Fitz Roy (8)  1.308073e+06 -4.036193e+06 -4.757285e+06"
      ]
     },
     "execution_count": 72,
     "metadata": {},
     "output_type": "execute_result"
    }
   ],
   "source": [
    "df11 = pd.DataFrame({\n",
    "    'Name':names,\n",
    "    '$X$(m)':ef_x3,\n",
    "    '$Y$(m)':ef_y3,\n",
    "    '$Z$(m)':ef_z3\n",
    "})\n",
    "df11"
   ]
  },
  {
   "cell_type": "markdown",
   "metadata": {},
   "source": [
    "### Calculating the Cartesian Differences"
   ]
  },
  {
   "cell_type": "code",
   "execution_count": 73,
   "metadata": {},
   "outputs": [],
   "source": [
    "dx2 = [] \n",
    "for i in range(len(df11)):\n",
    "    del_x = df11.iloc[i,1] - df3.iloc[i,1] \n",
    "    dx2.append(del_x) "
   ]
  },
  {
   "cell_type": "code",
   "execution_count": 74,
   "metadata": {},
   "outputs": [],
   "source": [
    "dy2 = [] \n",
    "for i in range(len(df11)): \n",
    "    del_y = df11.iloc[i,2] - df3.iloc[i,2] \n",
    "    dy2.append(del_y) "
   ]
  },
  {
   "cell_type": "code",
   "execution_count": 75,
   "metadata": {},
   "outputs": [],
   "source": [
    "dz2 = [] \n",
    "for i in range(len(df11)): \n",
    "    del_z = df11.iloc[i,3] - df3.iloc[i,3] \n",
    "    dz2.append(del_z) "
   ]
  },
  {
   "cell_type": "code",
   "execution_count": 76,
   "metadata": {},
   "outputs": [
    {
     "data": {
      "text/html": [
       "<div>\n",
       "<style scoped>\n",
       "    .dataframe tbody tr th:only-of-type {\n",
       "        vertical-align: middle;\n",
       "    }\n",
       "\n",
       "    .dataframe tbody tr th {\n",
       "        vertical-align: top;\n",
       "    }\n",
       "\n",
       "    .dataframe thead th {\n",
       "        text-align: right;\n",
       "    }\n",
       "</style>\n",
       "<table border=\"1\" class=\"dataframe\">\n",
       "  <thead>\n",
       "    <tr style=\"text-align: right;\">\n",
       "      <th></th>\n",
       "      <th>Name</th>\n",
       "      <th>$\\Delta X$(m)</th>\n",
       "      <th>$\\Delta Y$(m)</th>\n",
       "      <th>$\\Delta Z$(m)</th>\n",
       "    </tr>\n",
       "  </thead>\n",
       "  <tbody>\n",
       "    <tr>\n",
       "      <th>0</th>\n",
       "      <td>North Pole (NP)</td>\n",
       "      <td>-111098.864041</td>\n",
       "      <td>-1939.237885</td>\n",
       "      <td>-919.692787</td>\n",
       "    </tr>\n",
       "    <tr>\n",
       "      <th>1</th>\n",
       "      <td>South Pole (NP)</td>\n",
       "      <td>111222.688307</td>\n",
       "      <td>1941.399246</td>\n",
       "      <td>920.773550</td>\n",
       "    </tr>\n",
       "    <tr>\n",
       "      <th>2</th>\n",
       "      <td>New Orleans (PoB)</td>\n",
       "      <td>95218.416389</td>\n",
       "      <td>57373.703331</td>\n",
       "      <td>95790.436277</td>\n",
       "    </tr>\n",
       "    <tr>\n",
       "      <th>3</th>\n",
       "      <td>Eiffel Tower (1)</td>\n",
       "      <td>-87768.813497</td>\n",
       "      <td>68223.369402</td>\n",
       "      <td>72462.010264</td>\n",
       "    </tr>\n",
       "    <tr>\n",
       "      <th>4</th>\n",
       "      <td>Angkor Wat (2)</td>\n",
       "      <td>-97932.094129</td>\n",
       "      <td>-52631.906144</td>\n",
       "      <td>107945.081362</td>\n",
       "    </tr>\n",
       "    <tr>\n",
       "      <th>5</th>\n",
       "      <td>Denali (3)</td>\n",
       "      <td>111119.465955</td>\n",
       "      <td>5934.380016</td>\n",
       "      <td>49586.612060</td>\n",
       "    </tr>\n",
       "    <tr>\n",
       "      <th>6</th>\n",
       "      <td>Purdue Fountain (4)</td>\n",
       "      <td>79290.627217</td>\n",
       "      <td>77919.089925</td>\n",
       "      <td>84045.191265</td>\n",
       "    </tr>\n",
       "    <tr>\n",
       "      <th>7</th>\n",
       "      <td>Cradle of Humankind (5)</td>\n",
       "      <td>-5474.501018</td>\n",
       "      <td>111100.173633</td>\n",
       "      <td>100426.166544</td>\n",
       "    </tr>\n",
       "    <tr>\n",
       "      <th>8</th>\n",
       "      <td>Sydney Opera House (6)</td>\n",
       "      <td>-97885.726457</td>\n",
       "      <td>-52788.841254</td>\n",
       "      <td>92846.760549</td>\n",
       "    </tr>\n",
       "    <tr>\n",
       "      <th>9</th>\n",
       "      <td>Rapa Nui (7)</td>\n",
       "      <td>65809.285143</td>\n",
       "      <td>-89663.212043</td>\n",
       "      <td>90950.806373</td>\n",
       "    </tr>\n",
       "    <tr>\n",
       "      <th>10</th>\n",
       "      <td>Mount Fitz Roy (8)</td>\n",
       "      <td>95053.064405</td>\n",
       "      <td>-57851.550620</td>\n",
       "      <td>73285.773803</td>\n",
       "    </tr>\n",
       "  </tbody>\n",
       "</table>\n",
       "</div>"
      ],
      "text/plain": [
       "                       Name  $\\Delta X$(m)  $\\Delta Y$(m)  $\\Delta Z$(m)\n",
       "0           North Pole (NP) -111098.864041   -1939.237885    -919.692787\n",
       "1           South Pole (NP)  111222.688307    1941.399246     920.773550\n",
       "2         New Orleans (PoB)   95218.416389   57373.703331   95790.436277\n",
       "3          Eiffel Tower (1)  -87768.813497   68223.369402   72462.010264\n",
       "4            Angkor Wat (2)  -97932.094129  -52631.906144  107945.081362\n",
       "5                Denali (3)  111119.465955    5934.380016   49586.612060\n",
       "6       Purdue Fountain (4)   79290.627217   77919.089925   84045.191265\n",
       "7   Cradle of Humankind (5)   -5474.501018  111100.173633  100426.166544\n",
       "8    Sydney Opera House (6)  -97885.726457  -52788.841254   92846.760549\n",
       "9              Rapa Nui (7)   65809.285143  -89663.212043   90950.806373\n",
       "10       Mount Fitz Roy (8)   95053.064405  -57851.550620   73285.773803"
      ]
     },
     "execution_count": 76,
     "metadata": {},
     "output_type": "execute_result"
    }
   ],
   "source": [
    "df12 = pd.DataFrame({\n",
    "    'Name':names,\n",
    "    '$\\Delta X$(m)':dx2,\n",
    "    '$\\Delta Y$(m)':dy2,\n",
    "    '$\\Delta Z$(m)':dz2\n",
    "})\n",
    "df12 "
   ]
  },
  {
   "cell_type": "markdown",
   "metadata": {},
   "source": [
    "### Writing Data Frame to a Pickle File"
   ]
  },
  {
   "cell_type": "code",
   "execution_count": 77,
   "metadata": {},
   "outputs": [],
   "source": [
    "df12.to_pickle(\"./xyz_1deg.pkl\")"
   ]
  },
  {
   "cell_type": "code",
   "execution_count": null,
   "metadata": {},
   "outputs": [],
   "source": []
  }
 ],
 "metadata": {
  "kernelspec": {
   "display_name": "geodesy",
   "language": "python",
   "name": "geodesy"
  },
  "language_info": {
   "codemirror_mode": {
    "name": "ipython",
    "version": 3
   },
   "file_extension": ".py",
   "mimetype": "text/x-python",
   "name": "python",
   "nbconvert_exporter": "python",
   "pygments_lexer": "ipython3",
   "version": "3.7.4"
  }
 },
 "nbformat": 4,
 "nbformat_minor": 2
}
